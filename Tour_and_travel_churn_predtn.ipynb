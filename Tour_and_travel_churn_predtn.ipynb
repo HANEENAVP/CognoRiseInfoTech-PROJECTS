{
  "nbformat": 4,
  "nbformat_minor": 0,
  "metadata": {
    "colab": {
      "provenance": []
    },
    "kernelspec": {
      "name": "python3",
      "display_name": "Python 3"
    },
    "language_info": {
      "name": "python"
    }
  },
  "cells": [
    {
      "cell_type": "markdown",
      "source": [
        "**TOUR AND** **TRAVELS**  **CHURN** **PREDICTION**"
      ],
      "metadata": {
        "id": "iAKgvpP4-nMW"
      }
    },
    {
      "cell_type": "markdown",
      "source": [
        "The dataset assists a travel company in\n",
        "predicting customer churn. It includes indicators such as age, frequent flyer status,\n",
        "annual income class, services opted frequency, social media account\n",
        "synchronization, and hotel bookings.The goal is to build predictive models to save company resources. we can perform\n",
        "exploratory data analyses to reveal insights for effective churn prediction. The\n",
        "binary target variable distinguishes customers who churn (1) from those who don't\n",
        "(0), guiding the modeling process."
      ],
      "metadata": {
        "id": "9NbMlvrs-I_v"
      }
    },
    {
      "cell_type": "code",
      "execution_count": 1,
      "metadata": {
        "id": "lRcmuZ8l1gvQ"
      },
      "outputs": [],
      "source": [
        "import pandas as pd\n",
        "import numpy as np\n",
        "import seaborn as sns\n",
        "import matplotlib.pyplot as plt\n",
        "import warnings\n",
        "warnings.filterwarnings('ignore')\n"
      ]
    },
    {
      "cell_type": "code",
      "source": [
        "data=pd.read_csv('/content/Customertravel.csv')\n",
        "data.head(5)"
      ],
      "metadata": {
        "colab": {
          "base_uri": "https://localhost:8080/",
          "height": 206
        },
        "id": "Kkp2N6TI4jn-",
        "outputId": "53b91b3e-662f-436c-8062-9db2db2be142"
      },
      "execution_count": 2,
      "outputs": [
        {
          "output_type": "execute_result",
          "data": {
            "text/plain": [
              "   Age FrequentFlyer AnnualIncomeClass  ServicesOpted  \\\n",
              "0   34            No     Middle Income              6   \n",
              "1   34           Yes        Low Income              5   \n",
              "2   37            No     Middle Income              3   \n",
              "3   30            No     Middle Income              2   \n",
              "4   30            No        Low Income              1   \n",
              "\n",
              "  AccountSyncedToSocialMedia BookedHotelOrNot  Target  \n",
              "0                         No              Yes       0  \n",
              "1                        Yes               No       1  \n",
              "2                        Yes               No       0  \n",
              "3                         No               No       0  \n",
              "4                         No               No       0  "
            ],
            "text/html": [
              "\n",
              "  <div id=\"df-25086db4-8336-453c-9640-145a7b978f4a\" class=\"colab-df-container\">\n",
              "    <div>\n",
              "<style scoped>\n",
              "    .dataframe tbody tr th:only-of-type {\n",
              "        vertical-align: middle;\n",
              "    }\n",
              "\n",
              "    .dataframe tbody tr th {\n",
              "        vertical-align: top;\n",
              "    }\n",
              "\n",
              "    .dataframe thead th {\n",
              "        text-align: right;\n",
              "    }\n",
              "</style>\n",
              "<table border=\"1\" class=\"dataframe\">\n",
              "  <thead>\n",
              "    <tr style=\"text-align: right;\">\n",
              "      <th></th>\n",
              "      <th>Age</th>\n",
              "      <th>FrequentFlyer</th>\n",
              "      <th>AnnualIncomeClass</th>\n",
              "      <th>ServicesOpted</th>\n",
              "      <th>AccountSyncedToSocialMedia</th>\n",
              "      <th>BookedHotelOrNot</th>\n",
              "      <th>Target</th>\n",
              "    </tr>\n",
              "  </thead>\n",
              "  <tbody>\n",
              "    <tr>\n",
              "      <th>0</th>\n",
              "      <td>34</td>\n",
              "      <td>No</td>\n",
              "      <td>Middle Income</td>\n",
              "      <td>6</td>\n",
              "      <td>No</td>\n",
              "      <td>Yes</td>\n",
              "      <td>0</td>\n",
              "    </tr>\n",
              "    <tr>\n",
              "      <th>1</th>\n",
              "      <td>34</td>\n",
              "      <td>Yes</td>\n",
              "      <td>Low Income</td>\n",
              "      <td>5</td>\n",
              "      <td>Yes</td>\n",
              "      <td>No</td>\n",
              "      <td>1</td>\n",
              "    </tr>\n",
              "    <tr>\n",
              "      <th>2</th>\n",
              "      <td>37</td>\n",
              "      <td>No</td>\n",
              "      <td>Middle Income</td>\n",
              "      <td>3</td>\n",
              "      <td>Yes</td>\n",
              "      <td>No</td>\n",
              "      <td>0</td>\n",
              "    </tr>\n",
              "    <tr>\n",
              "      <th>3</th>\n",
              "      <td>30</td>\n",
              "      <td>No</td>\n",
              "      <td>Middle Income</td>\n",
              "      <td>2</td>\n",
              "      <td>No</td>\n",
              "      <td>No</td>\n",
              "      <td>0</td>\n",
              "    </tr>\n",
              "    <tr>\n",
              "      <th>4</th>\n",
              "      <td>30</td>\n",
              "      <td>No</td>\n",
              "      <td>Low Income</td>\n",
              "      <td>1</td>\n",
              "      <td>No</td>\n",
              "      <td>No</td>\n",
              "      <td>0</td>\n",
              "    </tr>\n",
              "  </tbody>\n",
              "</table>\n",
              "</div>\n",
              "    <div class=\"colab-df-buttons\">\n",
              "\n",
              "  <div class=\"colab-df-container\">\n",
              "    <button class=\"colab-df-convert\" onclick=\"convertToInteractive('df-25086db4-8336-453c-9640-145a7b978f4a')\"\n",
              "            title=\"Convert this dataframe to an interactive table.\"\n",
              "            style=\"display:none;\">\n",
              "\n",
              "  <svg xmlns=\"http://www.w3.org/2000/svg\" height=\"24px\" viewBox=\"0 -960 960 960\">\n",
              "    <path d=\"M120-120v-720h720v720H120Zm60-500h600v-160H180v160Zm220 220h160v-160H400v160Zm0 220h160v-160H400v160ZM180-400h160v-160H180v160Zm440 0h160v-160H620v160ZM180-180h160v-160H180v160Zm440 0h160v-160H620v160Z\"/>\n",
              "  </svg>\n",
              "    </button>\n",
              "\n",
              "  <style>\n",
              "    .colab-df-container {\n",
              "      display:flex;\n",
              "      gap: 12px;\n",
              "    }\n",
              "\n",
              "    .colab-df-convert {\n",
              "      background-color: #E8F0FE;\n",
              "      border: none;\n",
              "      border-radius: 50%;\n",
              "      cursor: pointer;\n",
              "      display: none;\n",
              "      fill: #1967D2;\n",
              "      height: 32px;\n",
              "      padding: 0 0 0 0;\n",
              "      width: 32px;\n",
              "    }\n",
              "\n",
              "    .colab-df-convert:hover {\n",
              "      background-color: #E2EBFA;\n",
              "      box-shadow: 0px 1px 2px rgba(60, 64, 67, 0.3), 0px 1px 3px 1px rgba(60, 64, 67, 0.15);\n",
              "      fill: #174EA6;\n",
              "    }\n",
              "\n",
              "    .colab-df-buttons div {\n",
              "      margin-bottom: 4px;\n",
              "    }\n",
              "\n",
              "    [theme=dark] .colab-df-convert {\n",
              "      background-color: #3B4455;\n",
              "      fill: #D2E3FC;\n",
              "    }\n",
              "\n",
              "    [theme=dark] .colab-df-convert:hover {\n",
              "      background-color: #434B5C;\n",
              "      box-shadow: 0px 1px 3px 1px rgba(0, 0, 0, 0.15);\n",
              "      filter: drop-shadow(0px 1px 2px rgba(0, 0, 0, 0.3));\n",
              "      fill: #FFFFFF;\n",
              "    }\n",
              "  </style>\n",
              "\n",
              "    <script>\n",
              "      const buttonEl =\n",
              "        document.querySelector('#df-25086db4-8336-453c-9640-145a7b978f4a button.colab-df-convert');\n",
              "      buttonEl.style.display =\n",
              "        google.colab.kernel.accessAllowed ? 'block' : 'none';\n",
              "\n",
              "      async function convertToInteractive(key) {\n",
              "        const element = document.querySelector('#df-25086db4-8336-453c-9640-145a7b978f4a');\n",
              "        const dataTable =\n",
              "          await google.colab.kernel.invokeFunction('convertToInteractive',\n",
              "                                                    [key], {});\n",
              "        if (!dataTable) return;\n",
              "\n",
              "        const docLinkHtml = 'Like what you see? Visit the ' +\n",
              "          '<a target=\"_blank\" href=https://colab.research.google.com/notebooks/data_table.ipynb>data table notebook</a>'\n",
              "          + ' to learn more about interactive tables.';\n",
              "        element.innerHTML = '';\n",
              "        dataTable['output_type'] = 'display_data';\n",
              "        await google.colab.output.renderOutput(dataTable, element);\n",
              "        const docLink = document.createElement('div');\n",
              "        docLink.innerHTML = docLinkHtml;\n",
              "        element.appendChild(docLink);\n",
              "      }\n",
              "    </script>\n",
              "  </div>\n",
              "\n",
              "\n",
              "<div id=\"df-8bd28791-60e4-403a-8218-84fcfbfeeb7a\">\n",
              "  <button class=\"colab-df-quickchart\" onclick=\"quickchart('df-8bd28791-60e4-403a-8218-84fcfbfeeb7a')\"\n",
              "            title=\"Suggest charts\"\n",
              "            style=\"display:none;\">\n",
              "\n",
              "<svg xmlns=\"http://www.w3.org/2000/svg\" height=\"24px\"viewBox=\"0 0 24 24\"\n",
              "     width=\"24px\">\n",
              "    <g>\n",
              "        <path d=\"M19 3H5c-1.1 0-2 .9-2 2v14c0 1.1.9 2 2 2h14c1.1 0 2-.9 2-2V5c0-1.1-.9-2-2-2zM9 17H7v-7h2v7zm4 0h-2V7h2v10zm4 0h-2v-4h2v4z\"/>\n",
              "    </g>\n",
              "</svg>\n",
              "  </button>\n",
              "\n",
              "<style>\n",
              "  .colab-df-quickchart {\n",
              "      --bg-color: #E8F0FE;\n",
              "      --fill-color: #1967D2;\n",
              "      --hover-bg-color: #E2EBFA;\n",
              "      --hover-fill-color: #174EA6;\n",
              "      --disabled-fill-color: #AAA;\n",
              "      --disabled-bg-color: #DDD;\n",
              "  }\n",
              "\n",
              "  [theme=dark] .colab-df-quickchart {\n",
              "      --bg-color: #3B4455;\n",
              "      --fill-color: #D2E3FC;\n",
              "      --hover-bg-color: #434B5C;\n",
              "      --hover-fill-color: #FFFFFF;\n",
              "      --disabled-bg-color: #3B4455;\n",
              "      --disabled-fill-color: #666;\n",
              "  }\n",
              "\n",
              "  .colab-df-quickchart {\n",
              "    background-color: var(--bg-color);\n",
              "    border: none;\n",
              "    border-radius: 50%;\n",
              "    cursor: pointer;\n",
              "    display: none;\n",
              "    fill: var(--fill-color);\n",
              "    height: 32px;\n",
              "    padding: 0;\n",
              "    width: 32px;\n",
              "  }\n",
              "\n",
              "  .colab-df-quickchart:hover {\n",
              "    background-color: var(--hover-bg-color);\n",
              "    box-shadow: 0 1px 2px rgba(60, 64, 67, 0.3), 0 1px 3px 1px rgba(60, 64, 67, 0.15);\n",
              "    fill: var(--button-hover-fill-color);\n",
              "  }\n",
              "\n",
              "  .colab-df-quickchart-complete:disabled,\n",
              "  .colab-df-quickchart-complete:disabled:hover {\n",
              "    background-color: var(--disabled-bg-color);\n",
              "    fill: var(--disabled-fill-color);\n",
              "    box-shadow: none;\n",
              "  }\n",
              "\n",
              "  .colab-df-spinner {\n",
              "    border: 2px solid var(--fill-color);\n",
              "    border-color: transparent;\n",
              "    border-bottom-color: var(--fill-color);\n",
              "    animation:\n",
              "      spin 1s steps(1) infinite;\n",
              "  }\n",
              "\n",
              "  @keyframes spin {\n",
              "    0% {\n",
              "      border-color: transparent;\n",
              "      border-bottom-color: var(--fill-color);\n",
              "      border-left-color: var(--fill-color);\n",
              "    }\n",
              "    20% {\n",
              "      border-color: transparent;\n",
              "      border-left-color: var(--fill-color);\n",
              "      border-top-color: var(--fill-color);\n",
              "    }\n",
              "    30% {\n",
              "      border-color: transparent;\n",
              "      border-left-color: var(--fill-color);\n",
              "      border-top-color: var(--fill-color);\n",
              "      border-right-color: var(--fill-color);\n",
              "    }\n",
              "    40% {\n",
              "      border-color: transparent;\n",
              "      border-right-color: var(--fill-color);\n",
              "      border-top-color: var(--fill-color);\n",
              "    }\n",
              "    60% {\n",
              "      border-color: transparent;\n",
              "      border-right-color: var(--fill-color);\n",
              "    }\n",
              "    80% {\n",
              "      border-color: transparent;\n",
              "      border-right-color: var(--fill-color);\n",
              "      border-bottom-color: var(--fill-color);\n",
              "    }\n",
              "    90% {\n",
              "      border-color: transparent;\n",
              "      border-bottom-color: var(--fill-color);\n",
              "    }\n",
              "  }\n",
              "</style>\n",
              "\n",
              "  <script>\n",
              "    async function quickchart(key) {\n",
              "      const quickchartButtonEl =\n",
              "        document.querySelector('#' + key + ' button');\n",
              "      quickchartButtonEl.disabled = true;  // To prevent multiple clicks.\n",
              "      quickchartButtonEl.classList.add('colab-df-spinner');\n",
              "      try {\n",
              "        const charts = await google.colab.kernel.invokeFunction(\n",
              "            'suggestCharts', [key], {});\n",
              "      } catch (error) {\n",
              "        console.error('Error during call to suggestCharts:', error);\n",
              "      }\n",
              "      quickchartButtonEl.classList.remove('colab-df-spinner');\n",
              "      quickchartButtonEl.classList.add('colab-df-quickchart-complete');\n",
              "    }\n",
              "    (() => {\n",
              "      let quickchartButtonEl =\n",
              "        document.querySelector('#df-8bd28791-60e4-403a-8218-84fcfbfeeb7a button');\n",
              "      quickchartButtonEl.style.display =\n",
              "        google.colab.kernel.accessAllowed ? 'block' : 'none';\n",
              "    })();\n",
              "  </script>\n",
              "</div>\n",
              "\n",
              "    </div>\n",
              "  </div>\n"
            ],
            "application/vnd.google.colaboratory.intrinsic+json": {
              "type": "dataframe",
              "variable_name": "data",
              "summary": "{\n  \"name\": \"data\",\n  \"rows\": 954,\n  \"fields\": [\n    {\n      \"column\": \"Age\",\n      \"properties\": {\n        \"dtype\": \"number\",\n        \"std\": 3,\n        \"min\": 27,\n        \"max\": 38,\n        \"num_unique_values\": 11,\n        \"samples\": [\n          28,\n          34,\n          33\n        ],\n        \"semantic_type\": \"\",\n        \"description\": \"\"\n      }\n    },\n    {\n      \"column\": \"FrequentFlyer\",\n      \"properties\": {\n        \"dtype\": \"category\",\n        \"num_unique_values\": 3,\n        \"samples\": [\n          \"No\",\n          \"Yes\",\n          \"No Record\"\n        ],\n        \"semantic_type\": \"\",\n        \"description\": \"\"\n      }\n    },\n    {\n      \"column\": \"AnnualIncomeClass\",\n      \"properties\": {\n        \"dtype\": \"category\",\n        \"num_unique_values\": 3,\n        \"samples\": [\n          \"Middle Income\",\n          \"Low Income\",\n          \"High Income\"\n        ],\n        \"semantic_type\": \"\",\n        \"description\": \"\"\n      }\n    },\n    {\n      \"column\": \"ServicesOpted\",\n      \"properties\": {\n        \"dtype\": \"number\",\n        \"std\": 1,\n        \"min\": 1,\n        \"max\": 6,\n        \"num_unique_values\": 6,\n        \"samples\": [\n          6,\n          5,\n          4\n        ],\n        \"semantic_type\": \"\",\n        \"description\": \"\"\n      }\n    },\n    {\n      \"column\": \"AccountSyncedToSocialMedia\",\n      \"properties\": {\n        \"dtype\": \"category\",\n        \"num_unique_values\": 2,\n        \"samples\": [\n          \"Yes\",\n          \"No\"\n        ],\n        \"semantic_type\": \"\",\n        \"description\": \"\"\n      }\n    },\n    {\n      \"column\": \"BookedHotelOrNot\",\n      \"properties\": {\n        \"dtype\": \"category\",\n        \"num_unique_values\": 2,\n        \"samples\": [\n          \"No\",\n          \"Yes\"\n        ],\n        \"semantic_type\": \"\",\n        \"description\": \"\"\n      }\n    },\n    {\n      \"column\": \"Target\",\n      \"properties\": {\n        \"dtype\": \"number\",\n        \"std\": 0,\n        \"min\": 0,\n        \"max\": 1,\n        \"num_unique_values\": 2,\n        \"samples\": [\n          1,\n          0\n        ],\n        \"semantic_type\": \"\",\n        \"description\": \"\"\n      }\n    }\n  ]\n}"
            }
          },
          "metadata": {},
          "execution_count": 2
        }
      ]
    },
    {
      "cell_type": "code",
      "source": [],
      "metadata": {
        "id": "b9-p9_uC5KxT"
      },
      "execution_count": null,
      "outputs": []
    },
    {
      "cell_type": "markdown",
      "source": [
        "**EDA**"
      ],
      "metadata": {
        "id": "TPOFiNXn5N8w"
      }
    },
    {
      "cell_type": "code",
      "source": [
        "data.isnull().sum()"
      ],
      "metadata": {
        "colab": {
          "base_uri": "https://localhost:8080/"
        },
        "id": "vjbkhwyN4rbs",
        "outputId": "761cf6aa-e79d-4720-a7a7-6ae99ebe91ec"
      },
      "execution_count": 3,
      "outputs": [
        {
          "output_type": "execute_result",
          "data": {
            "text/plain": [
              "Age                           0\n",
              "FrequentFlyer                 0\n",
              "AnnualIncomeClass             0\n",
              "ServicesOpted                 0\n",
              "AccountSyncedToSocialMedia    0\n",
              "BookedHotelOrNot              0\n",
              "Target                        0\n",
              "dtype: int64"
            ]
          },
          "metadata": {},
          "execution_count": 3
        }
      ]
    },
    {
      "cell_type": "code",
      "source": [
        "data.duplicated().sum()"
      ],
      "metadata": {
        "colab": {
          "base_uri": "https://localhost:8080/"
        },
        "id": "cWkX9XMe5Xca",
        "outputId": "f822cb36-e3ca-4c69-b4fd-c098ec4729ce"
      },
      "execution_count": 4,
      "outputs": [
        {
          "output_type": "execute_result",
          "data": {
            "text/plain": [
              "507"
            ]
          },
          "metadata": {},
          "execution_count": 4
        }
      ]
    },
    {
      "cell_type": "code",
      "source": [
        "data.shape"
      ],
      "metadata": {
        "colab": {
          "base_uri": "https://localhost:8080/"
        },
        "id": "3d22xXj75bDE",
        "outputId": "56685cf2-8b1a-4441-94dd-456183babd74"
      },
      "execution_count": 5,
      "outputs": [
        {
          "output_type": "execute_result",
          "data": {
            "text/plain": [
              "(954, 7)"
            ]
          },
          "metadata": {},
          "execution_count": 5
        }
      ]
    },
    {
      "cell_type": "code",
      "source": [
        "data.info()"
      ],
      "metadata": {
        "colab": {
          "base_uri": "https://localhost:8080/"
        },
        "id": "02tcXqEZ5fMW",
        "outputId": "ac670278-e283-4f87-f6be-d3b8d6301def"
      },
      "execution_count": 6,
      "outputs": [
        {
          "output_type": "stream",
          "name": "stdout",
          "text": [
            "<class 'pandas.core.frame.DataFrame'>\n",
            "RangeIndex: 954 entries, 0 to 953\n",
            "Data columns (total 7 columns):\n",
            " #   Column                      Non-Null Count  Dtype \n",
            "---  ------                      --------------  ----- \n",
            " 0   Age                         954 non-null    int64 \n",
            " 1   FrequentFlyer               954 non-null    object\n",
            " 2   AnnualIncomeClass           954 non-null    object\n",
            " 3   ServicesOpted               954 non-null    int64 \n",
            " 4   AccountSyncedToSocialMedia  954 non-null    object\n",
            " 5   BookedHotelOrNot            954 non-null    object\n",
            " 6   Target                      954 non-null    int64 \n",
            "dtypes: int64(3), object(4)\n",
            "memory usage: 52.3+ KB\n"
          ]
        }
      ]
    },
    {
      "cell_type": "code",
      "source": [
        "data.describe()"
      ],
      "metadata": {
        "colab": {
          "base_uri": "https://localhost:8080/",
          "height": 300
        },
        "id": "BTuT_Yhb5g7p",
        "outputId": "e9b2e9d3-8f93-43b8-a978-2ffaa6c33312"
      },
      "execution_count": 7,
      "outputs": [
        {
          "output_type": "execute_result",
          "data": {
            "text/plain": [
              "              Age  ServicesOpted      Target\n",
              "count  954.000000     954.000000  954.000000\n",
              "mean    32.109015       2.437107    0.234801\n",
              "std      3.337388       1.606233    0.424097\n",
              "min     27.000000       1.000000    0.000000\n",
              "25%     30.000000       1.000000    0.000000\n",
              "50%     31.000000       2.000000    0.000000\n",
              "75%     35.000000       4.000000    0.000000\n",
              "max     38.000000       6.000000    1.000000"
            ],
            "text/html": [
              "\n",
              "  <div id=\"df-30109249-3c97-4c9c-b94e-8267bd440c11\" class=\"colab-df-container\">\n",
              "    <div>\n",
              "<style scoped>\n",
              "    .dataframe tbody tr th:only-of-type {\n",
              "        vertical-align: middle;\n",
              "    }\n",
              "\n",
              "    .dataframe tbody tr th {\n",
              "        vertical-align: top;\n",
              "    }\n",
              "\n",
              "    .dataframe thead th {\n",
              "        text-align: right;\n",
              "    }\n",
              "</style>\n",
              "<table border=\"1\" class=\"dataframe\">\n",
              "  <thead>\n",
              "    <tr style=\"text-align: right;\">\n",
              "      <th></th>\n",
              "      <th>Age</th>\n",
              "      <th>ServicesOpted</th>\n",
              "      <th>Target</th>\n",
              "    </tr>\n",
              "  </thead>\n",
              "  <tbody>\n",
              "    <tr>\n",
              "      <th>count</th>\n",
              "      <td>954.000000</td>\n",
              "      <td>954.000000</td>\n",
              "      <td>954.000000</td>\n",
              "    </tr>\n",
              "    <tr>\n",
              "      <th>mean</th>\n",
              "      <td>32.109015</td>\n",
              "      <td>2.437107</td>\n",
              "      <td>0.234801</td>\n",
              "    </tr>\n",
              "    <tr>\n",
              "      <th>std</th>\n",
              "      <td>3.337388</td>\n",
              "      <td>1.606233</td>\n",
              "      <td>0.424097</td>\n",
              "    </tr>\n",
              "    <tr>\n",
              "      <th>min</th>\n",
              "      <td>27.000000</td>\n",
              "      <td>1.000000</td>\n",
              "      <td>0.000000</td>\n",
              "    </tr>\n",
              "    <tr>\n",
              "      <th>25%</th>\n",
              "      <td>30.000000</td>\n",
              "      <td>1.000000</td>\n",
              "      <td>0.000000</td>\n",
              "    </tr>\n",
              "    <tr>\n",
              "      <th>50%</th>\n",
              "      <td>31.000000</td>\n",
              "      <td>2.000000</td>\n",
              "      <td>0.000000</td>\n",
              "    </tr>\n",
              "    <tr>\n",
              "      <th>75%</th>\n",
              "      <td>35.000000</td>\n",
              "      <td>4.000000</td>\n",
              "      <td>0.000000</td>\n",
              "    </tr>\n",
              "    <tr>\n",
              "      <th>max</th>\n",
              "      <td>38.000000</td>\n",
              "      <td>6.000000</td>\n",
              "      <td>1.000000</td>\n",
              "    </tr>\n",
              "  </tbody>\n",
              "</table>\n",
              "</div>\n",
              "    <div class=\"colab-df-buttons\">\n",
              "\n",
              "  <div class=\"colab-df-container\">\n",
              "    <button class=\"colab-df-convert\" onclick=\"convertToInteractive('df-30109249-3c97-4c9c-b94e-8267bd440c11')\"\n",
              "            title=\"Convert this dataframe to an interactive table.\"\n",
              "            style=\"display:none;\">\n",
              "\n",
              "  <svg xmlns=\"http://www.w3.org/2000/svg\" height=\"24px\" viewBox=\"0 -960 960 960\">\n",
              "    <path d=\"M120-120v-720h720v720H120Zm60-500h600v-160H180v160Zm220 220h160v-160H400v160Zm0 220h160v-160H400v160ZM180-400h160v-160H180v160Zm440 0h160v-160H620v160ZM180-180h160v-160H180v160Zm440 0h160v-160H620v160Z\"/>\n",
              "  </svg>\n",
              "    </button>\n",
              "\n",
              "  <style>\n",
              "    .colab-df-container {\n",
              "      display:flex;\n",
              "      gap: 12px;\n",
              "    }\n",
              "\n",
              "    .colab-df-convert {\n",
              "      background-color: #E8F0FE;\n",
              "      border: none;\n",
              "      border-radius: 50%;\n",
              "      cursor: pointer;\n",
              "      display: none;\n",
              "      fill: #1967D2;\n",
              "      height: 32px;\n",
              "      padding: 0 0 0 0;\n",
              "      width: 32px;\n",
              "    }\n",
              "\n",
              "    .colab-df-convert:hover {\n",
              "      background-color: #E2EBFA;\n",
              "      box-shadow: 0px 1px 2px rgba(60, 64, 67, 0.3), 0px 1px 3px 1px rgba(60, 64, 67, 0.15);\n",
              "      fill: #174EA6;\n",
              "    }\n",
              "\n",
              "    .colab-df-buttons div {\n",
              "      margin-bottom: 4px;\n",
              "    }\n",
              "\n",
              "    [theme=dark] .colab-df-convert {\n",
              "      background-color: #3B4455;\n",
              "      fill: #D2E3FC;\n",
              "    }\n",
              "\n",
              "    [theme=dark] .colab-df-convert:hover {\n",
              "      background-color: #434B5C;\n",
              "      box-shadow: 0px 1px 3px 1px rgba(0, 0, 0, 0.15);\n",
              "      filter: drop-shadow(0px 1px 2px rgba(0, 0, 0, 0.3));\n",
              "      fill: #FFFFFF;\n",
              "    }\n",
              "  </style>\n",
              "\n",
              "    <script>\n",
              "      const buttonEl =\n",
              "        document.querySelector('#df-30109249-3c97-4c9c-b94e-8267bd440c11 button.colab-df-convert');\n",
              "      buttonEl.style.display =\n",
              "        google.colab.kernel.accessAllowed ? 'block' : 'none';\n",
              "\n",
              "      async function convertToInteractive(key) {\n",
              "        const element = document.querySelector('#df-30109249-3c97-4c9c-b94e-8267bd440c11');\n",
              "        const dataTable =\n",
              "          await google.colab.kernel.invokeFunction('convertToInteractive',\n",
              "                                                    [key], {});\n",
              "        if (!dataTable) return;\n",
              "\n",
              "        const docLinkHtml = 'Like what you see? Visit the ' +\n",
              "          '<a target=\"_blank\" href=https://colab.research.google.com/notebooks/data_table.ipynb>data table notebook</a>'\n",
              "          + ' to learn more about interactive tables.';\n",
              "        element.innerHTML = '';\n",
              "        dataTable['output_type'] = 'display_data';\n",
              "        await google.colab.output.renderOutput(dataTable, element);\n",
              "        const docLink = document.createElement('div');\n",
              "        docLink.innerHTML = docLinkHtml;\n",
              "        element.appendChild(docLink);\n",
              "      }\n",
              "    </script>\n",
              "  </div>\n",
              "\n",
              "\n",
              "<div id=\"df-3b79d537-5b55-4855-9ec1-95f1efe133f1\">\n",
              "  <button class=\"colab-df-quickchart\" onclick=\"quickchart('df-3b79d537-5b55-4855-9ec1-95f1efe133f1')\"\n",
              "            title=\"Suggest charts\"\n",
              "            style=\"display:none;\">\n",
              "\n",
              "<svg xmlns=\"http://www.w3.org/2000/svg\" height=\"24px\"viewBox=\"0 0 24 24\"\n",
              "     width=\"24px\">\n",
              "    <g>\n",
              "        <path d=\"M19 3H5c-1.1 0-2 .9-2 2v14c0 1.1.9 2 2 2h14c1.1 0 2-.9 2-2V5c0-1.1-.9-2-2-2zM9 17H7v-7h2v7zm4 0h-2V7h2v10zm4 0h-2v-4h2v4z\"/>\n",
              "    </g>\n",
              "</svg>\n",
              "  </button>\n",
              "\n",
              "<style>\n",
              "  .colab-df-quickchart {\n",
              "      --bg-color: #E8F0FE;\n",
              "      --fill-color: #1967D2;\n",
              "      --hover-bg-color: #E2EBFA;\n",
              "      --hover-fill-color: #174EA6;\n",
              "      --disabled-fill-color: #AAA;\n",
              "      --disabled-bg-color: #DDD;\n",
              "  }\n",
              "\n",
              "  [theme=dark] .colab-df-quickchart {\n",
              "      --bg-color: #3B4455;\n",
              "      --fill-color: #D2E3FC;\n",
              "      --hover-bg-color: #434B5C;\n",
              "      --hover-fill-color: #FFFFFF;\n",
              "      --disabled-bg-color: #3B4455;\n",
              "      --disabled-fill-color: #666;\n",
              "  }\n",
              "\n",
              "  .colab-df-quickchart {\n",
              "    background-color: var(--bg-color);\n",
              "    border: none;\n",
              "    border-radius: 50%;\n",
              "    cursor: pointer;\n",
              "    display: none;\n",
              "    fill: var(--fill-color);\n",
              "    height: 32px;\n",
              "    padding: 0;\n",
              "    width: 32px;\n",
              "  }\n",
              "\n",
              "  .colab-df-quickchart:hover {\n",
              "    background-color: var(--hover-bg-color);\n",
              "    box-shadow: 0 1px 2px rgba(60, 64, 67, 0.3), 0 1px 3px 1px rgba(60, 64, 67, 0.15);\n",
              "    fill: var(--button-hover-fill-color);\n",
              "  }\n",
              "\n",
              "  .colab-df-quickchart-complete:disabled,\n",
              "  .colab-df-quickchart-complete:disabled:hover {\n",
              "    background-color: var(--disabled-bg-color);\n",
              "    fill: var(--disabled-fill-color);\n",
              "    box-shadow: none;\n",
              "  }\n",
              "\n",
              "  .colab-df-spinner {\n",
              "    border: 2px solid var(--fill-color);\n",
              "    border-color: transparent;\n",
              "    border-bottom-color: var(--fill-color);\n",
              "    animation:\n",
              "      spin 1s steps(1) infinite;\n",
              "  }\n",
              "\n",
              "  @keyframes spin {\n",
              "    0% {\n",
              "      border-color: transparent;\n",
              "      border-bottom-color: var(--fill-color);\n",
              "      border-left-color: var(--fill-color);\n",
              "    }\n",
              "    20% {\n",
              "      border-color: transparent;\n",
              "      border-left-color: var(--fill-color);\n",
              "      border-top-color: var(--fill-color);\n",
              "    }\n",
              "    30% {\n",
              "      border-color: transparent;\n",
              "      border-left-color: var(--fill-color);\n",
              "      border-top-color: var(--fill-color);\n",
              "      border-right-color: var(--fill-color);\n",
              "    }\n",
              "    40% {\n",
              "      border-color: transparent;\n",
              "      border-right-color: var(--fill-color);\n",
              "      border-top-color: var(--fill-color);\n",
              "    }\n",
              "    60% {\n",
              "      border-color: transparent;\n",
              "      border-right-color: var(--fill-color);\n",
              "    }\n",
              "    80% {\n",
              "      border-color: transparent;\n",
              "      border-right-color: var(--fill-color);\n",
              "      border-bottom-color: var(--fill-color);\n",
              "    }\n",
              "    90% {\n",
              "      border-color: transparent;\n",
              "      border-bottom-color: var(--fill-color);\n",
              "    }\n",
              "  }\n",
              "</style>\n",
              "\n",
              "  <script>\n",
              "    async function quickchart(key) {\n",
              "      const quickchartButtonEl =\n",
              "        document.querySelector('#' + key + ' button');\n",
              "      quickchartButtonEl.disabled = true;  // To prevent multiple clicks.\n",
              "      quickchartButtonEl.classList.add('colab-df-spinner');\n",
              "      try {\n",
              "        const charts = await google.colab.kernel.invokeFunction(\n",
              "            'suggestCharts', [key], {});\n",
              "      } catch (error) {\n",
              "        console.error('Error during call to suggestCharts:', error);\n",
              "      }\n",
              "      quickchartButtonEl.classList.remove('colab-df-spinner');\n",
              "      quickchartButtonEl.classList.add('colab-df-quickchart-complete');\n",
              "    }\n",
              "    (() => {\n",
              "      let quickchartButtonEl =\n",
              "        document.querySelector('#df-3b79d537-5b55-4855-9ec1-95f1efe133f1 button');\n",
              "      quickchartButtonEl.style.display =\n",
              "        google.colab.kernel.accessAllowed ? 'block' : 'none';\n",
              "    })();\n",
              "  </script>\n",
              "</div>\n",
              "\n",
              "    </div>\n",
              "  </div>\n"
            ],
            "application/vnd.google.colaboratory.intrinsic+json": {
              "type": "dataframe",
              "summary": "{\n  \"name\": \"data\",\n  \"rows\": 8,\n  \"fields\": [\n    {\n      \"column\": \"Age\",\n      \"properties\": {\n        \"dtype\": \"number\",\n        \"std\": 327.5398037805505,\n        \"min\": 3.3373875705732376,\n        \"max\": 954.0,\n        \"num_unique_values\": 8,\n        \"samples\": [\n          32.109014675052414,\n          31.0,\n          954.0\n        ],\n        \"semantic_type\": \"\",\n        \"description\": \"\"\n      }\n    },\n    {\n      \"column\": \"ServicesOpted\",\n      \"properties\": {\n        \"dtype\": \"number\",\n        \"std\": 336.38285745836896,\n        \"min\": 1.0,\n        \"max\": 954.0,\n        \"num_unique_values\": 7,\n        \"samples\": [\n          954.0,\n          2.4371069182389937,\n          4.0\n        ],\n        \"semantic_type\": \"\",\n        \"description\": \"\"\n      }\n    },\n    {\n      \"column\": \"Target\",\n      \"properties\": {\n        \"dtype\": \"number\",\n        \"std\": 337.2063259775939,\n        \"min\": 0.0,\n        \"max\": 954.0,\n        \"num_unique_values\": 5,\n        \"samples\": [\n          0.2348008385744235,\n          1.0,\n          0.42409661058475157\n        ],\n        \"semantic_type\": \"\",\n        \"description\": \"\"\n      }\n    }\n  ]\n}"
            }
          },
          "metadata": {},
          "execution_count": 7
        }
      ]
    },
    {
      "cell_type": "code",
      "source": [
        "data.columns"
      ],
      "metadata": {
        "colab": {
          "base_uri": "https://localhost:8080/"
        },
        "id": "hfJNdd1j6ttv",
        "outputId": "1c2c1b4b-8c16-4dca-97a3-5064f94646cb"
      },
      "execution_count": 8,
      "outputs": [
        {
          "output_type": "execute_result",
          "data": {
            "text/plain": [
              "Index(['Age', 'FrequentFlyer', 'AnnualIncomeClass', 'ServicesOpted',\n",
              "       'AccountSyncedToSocialMedia', 'BookedHotelOrNot', 'Target'],\n",
              "      dtype='object')"
            ]
          },
          "metadata": {},
          "execution_count": 8
        }
      ]
    },
    {
      "cell_type": "code",
      "source": [
        "import matplotlib.pyplot as plt\n",
        "import plotly.express as px"
      ],
      "metadata": {
        "id": "TulIQf1e61_S"
      },
      "execution_count": 9,
      "outputs": []
    },
    {
      "cell_type": "code",
      "source": [
        "fig = px.histogram(data,x='AnnualIncomeClass',color='Target')\n",
        "fig.show()"
      ],
      "metadata": {
        "colab": {
          "base_uri": "https://localhost:8080/",
          "height": 542
        },
        "id": "ZG9dF-m667N9",
        "outputId": "63e88868-5b12-4a5c-cbb7-d24fad00a618"
      },
      "execution_count": 10,
      "outputs": [
        {
          "output_type": "display_data",
          "data": {
            "text/html": [
              "<html>\n",
              "<head><meta charset=\"utf-8\" /></head>\n",
              "<body>\n",
              "    <div>            <script src=\"https://cdnjs.cloudflare.com/ajax/libs/mathjax/2.7.5/MathJax.js?config=TeX-AMS-MML_SVG\"></script><script type=\"text/javascript\">if (window.MathJax && window.MathJax.Hub && window.MathJax.Hub.Config) {window.MathJax.Hub.Config({SVG: {font: \"STIX-Web\"}});}</script>                <script type=\"text/javascript\">window.PlotlyConfig = {MathJaxConfig: 'local'};</script>\n",
              "        <script charset=\"utf-8\" src=\"https://cdn.plot.ly/plotly-2.24.1.min.js\"></script>                <div id=\"fb6847c1-2dae-479e-8d6f-0133ed1f8986\" class=\"plotly-graph-div\" style=\"height:525px; width:100%;\"></div>            <script type=\"text/javascript\">                                    window.PLOTLYENV=window.PLOTLYENV || {};                                    if (document.getElementById(\"fb6847c1-2dae-479e-8d6f-0133ed1f8986\")) {                    Plotly.newPlot(                        \"fb6847c1-2dae-479e-8d6f-0133ed1f8986\",                        [{\"alignmentgroup\":\"True\",\"bingroup\":\"x\",\"hovertemplate\":\"Target=0\\u003cbr\\u003eAnnualIncomeClass=%{x}\\u003cbr\\u003ecount=%{y}\\u003cextra\\u003e\\u003c\\u002fextra\\u003e\",\"legendgroup\":\"0\",\"marker\":{\"color\":\"#636efa\",\"pattern\":{\"shape\":\"\"}},\"name\":\"0\",\"offsetgroup\":\"0\",\"orientation\":\"v\",\"showlegend\":true,\"x\":[\"Middle Income\",\"Middle Income\",\"Middle Income\",\"Low Income\",\"Middle Income\",\"Low Income\",\"Low Income\",\"Middle Income\",\"Low Income\",\"Middle Income\",\"Low Income\",\"Low Income\",\"High Income\",\"Middle Income\",\"Middle Income\",\"Low Income\",\"Middle Income\",\"Middle Income\",\"Low Income\",\"Middle Income\",\"Middle Income\",\"Low Income\",\"High Income\",\"Middle Income\",\"Low Income\",\"Middle Income\",\"Low Income\",\"Middle Income\",\"Low Income\",\"Middle Income\",\"Middle Income\",\"Low Income\",\"High Income\",\"Middle Income\",\"Low Income\",\"Middle Income\",\"Low Income\",\"Middle Income\",\"Middle Income\",\"Low Income\",\"Middle Income\",\"Low Income\",\"High Income\",\"Middle Income\",\"Middle Income\",\"Low Income\",\"Middle Income\",\"Middle Income\",\"Low Income\",\"Middle Income\",\"Middle Income\",\"Low Income\",\"Middle Income\",\"Middle Income\",\"Low Income\",\"Low Income\",\"Middle Income\",\"Middle Income\",\"Middle Income\",\"Low Income\",\"High Income\",\"Low Income\",\"Low Income\",\"Middle Income\",\"Low Income\",\"Middle Income\",\"Middle Income\",\"Middle Income\",\"Middle Income\",\"Low Income\",\"High Income\",\"Middle Income\",\"Low Income\",\"Low Income\",\"Middle Income\",\"Middle Income\",\"Low Income\",\"Low Income\",\"High Income\",\"Middle Income\",\"Middle Income\",\"Low Income\",\"Middle Income\",\"Middle Income\",\"Middle Income\",\"Middle Income\",\"Low Income\",\"High Income\",\"Middle Income\",\"Low Income\",\"Middle Income\",\"Low Income\",\"Middle Income\",\"Low Income\",\"Middle Income\",\"Middle Income\",\"Low Income\",\"High Income\",\"Middle Income\",\"Middle Income\",\"Low Income\",\"Middle Income\",\"Middle Income\",\"Low Income\",\"Middle Income\",\"Low Income\",\"High Income\",\"Middle Income\",\"Low Income\",\"Middle Income\",\"Low Income\",\"Middle Income\",\"Middle Income\",\"Middle Income\",\"Low Income\",\"High Income\",\"Middle Income\",\"Low Income\",\"Middle Income\",\"Low Income\",\"Low Income\",\"Middle Income\",\"Middle Income\",\"Middle Income\",\"Low Income\",\"High Income\",\"Low Income\",\"Middle Income\",\"Low Income\",\"Middle Income\",\"Middle Income\",\"Middle Income\",\"Middle Income\",\"Low Income\",\"Middle Income\",\"Low Income\",\"Low Income\",\"Middle Income\",\"Middle Income\",\"Low Income\",\"High Income\",\"Middle Income\",\"Middle Income\",\"Low Income\",\"Middle Income\",\"Middle Income\",\"Low Income\",\"Middle Income\",\"High Income\",\"Middle Income\",\"Middle Income\",\"Low Income\",\"Middle Income\",\"Low Income\",\"Low Income\",\"Middle Income\",\"Middle Income\",\"Low Income\",\"Middle Income\",\"Low Income\",\"Middle Income\",\"Low Income\",\"Middle Income\",\"Middle Income\",\"Low Income\",\"Middle Income\",\"Low Income\",\"High Income\",\"Middle Income\",\"Low Income\",\"Middle Income\",\"Low Income\",\"Middle Income\",\"Middle Income\",\"Low Income\",\"Middle Income\",\"Middle Income\",\"Low Income\",\"High Income\",\"Middle Income\",\"Middle Income\",\"Low Income\",\"Middle Income\",\"Low Income\",\"Middle Income\",\"Low Income\",\"High Income\",\"Low Income\",\"Low Income\",\"Middle Income\",\"Middle Income\",\"Middle Income\",\"Middle Income\",\"Low Income\",\"High Income\",\"Middle Income\",\"Low Income\",\"Low Income\",\"Low Income\",\"Middle Income\",\"Middle Income\",\"Low Income\",\"Middle Income\",\"Low Income\",\"Low Income\",\"High Income\",\"Middle Income\",\"Middle Income\",\"Middle Income\",\"Middle Income\",\"Middle Income\",\"Low Income\",\"Middle Income\",\"Middle Income\",\"Low Income\",\"Middle Income\",\"Low Income\",\"Middle Income\",\"Middle Income\",\"Low Income\",\"High Income\",\"Middle Income\",\"Low Income\",\"Middle Income\",\"Low Income\",\"Middle Income\",\"Low Income\",\"Middle Income\",\"Low Income\",\"Middle Income\",\"Middle Income\",\"Low Income\",\"Middle Income\",\"Middle Income\",\"Middle Income\",\"Middle Income\",\"Low Income\",\"High Income\",\"Middle Income\",\"Middle Income\",\"Low Income\",\"Low Income\",\"Middle Income\",\"Middle Income\",\"Middle Income\",\"Low Income\",\"High Income\",\"Low Income\",\"Low Income\",\"Middle Income\",\"Low Income\",\"Middle Income\",\"Middle Income\",\"Middle Income\",\"Middle Income\",\"Low Income\",\"High Income\",\"Middle Income\",\"Low Income\",\"Middle Income\",\"Middle Income\",\"Low Income\",\"Middle Income\",\"Low Income\",\"Low Income\",\"High Income\",\"Middle Income\",\"Low Income\",\"Middle Income\",\"Low Income\",\"Middle Income\",\"Middle Income\",\"Middle Income\",\"Low Income\",\"Middle Income\",\"Middle Income\",\"Low Income\",\"Middle Income\",\"Low Income\",\"Low Income\",\"Middle Income\",\"Middle Income\",\"Low Income\",\"High Income\",\"Middle Income\",\"Middle Income\",\"Low Income\",\"Middle Income\",\"Middle Income\",\"Low Income\",\"Low Income\",\"Middle Income\",\"Low Income\",\"High Income\",\"Middle Income\",\"Low Income\",\"Middle Income\",\"Low Income\",\"Middle Income\",\"Middle Income\",\"Middle Income\",\"Middle Income\",\"Low Income\",\"High Income\",\"Middle Income\",\"Low Income\",\"Low Income\",\"Middle Income\",\"Low Income\",\"Middle Income\",\"Middle Income\",\"Low Income\",\"Low Income\",\"Middle Income\",\"Low Income\",\"Middle Income\",\"Low Income\",\"Middle Income\",\"Low Income\",\"High Income\",\"Middle Income\",\"Low Income\",\"Low Income\",\"Middle Income\",\"Middle Income\",\"Middle Income\",\"Low Income\",\"Low Income\",\"High Income\",\"Middle Income\",\"Low Income\",\"Middle Income\",\"Low Income\",\"Middle Income\",\"Low Income\",\"Middle Income\",\"Middle Income\",\"Low Income\",\"High Income\",\"Middle Income\",\"Middle Income\",\"Low Income\",\"Middle Income\",\"Low Income\",\"Middle Income\",\"Middle Income\",\"Low Income\",\"High Income\",\"Middle Income\",\"Low Income\",\"Middle Income\",\"Low Income\",\"Middle Income\",\"Low Income\",\"Low Income\",\"Middle Income\",\"Low Income\",\"Middle Income\",\"Low Income\",\"Middle Income\",\"Middle Income\",\"Low Income\",\"Middle Income\",\"Low Income\",\"High Income\",\"Middle Income\",\"Middle Income\",\"Low Income\",\"Low Income\",\"Middle Income\",\"Low Income\",\"Middle Income\",\"Middle Income\",\"Low Income\",\"High Income\",\"Low Income\",\"Low Income\",\"Middle Income\",\"Low Income\",\"Middle Income\",\"Middle Income\",\"Middle Income\",\"Middle Income\",\"Low Income\",\"High Income\",\"Middle Income\",\"Low Income\",\"Low Income\",\"Low Income\",\"Middle Income\",\"Middle Income\",\"Middle Income\",\"Low Income\",\"High Income\",\"Middle Income\",\"Middle Income\",\"Low Income\",\"Middle Income\",\"Middle Income\",\"Low Income\",\"Middle Income\",\"Middle Income\",\"Low Income\",\"High Income\",\"Middle Income\",\"Low Income\",\"Middle Income\",\"Low Income\",\"Middle Income\",\"Low Income\",\"Middle Income\",\"Middle Income\",\"Low Income\",\"Middle Income\",\"Middle Income\",\"Low Income\",\"Middle Income\",\"Low Income\",\"Low Income\",\"High Income\",\"Middle Income\",\"Middle Income\",\"Low Income\",\"Middle Income\",\"Middle Income\",\"Low Income\",\"Middle Income\",\"Middle Income\",\"Low Income\",\"High Income\",\"Middle Income\",\"Low Income\",\"Middle Income\",\"Low Income\",\"Low Income\",\"Middle Income\",\"Middle Income\",\"Middle Income\",\"Low Income\",\"High Income\",\"Low Income\",\"Low Income\",\"Middle Income\",\"Low Income\",\"Middle Income\",\"Middle Income\",\"Middle Income\",\"Low Income\",\"High Income\",\"Middle Income\",\"Low Income\",\"Middle Income\",\"Low Income\",\"Middle Income\",\"Low Income\",\"Low Income\",\"High Income\",\"Middle Income\",\"Middle Income\",\"Low Income\",\"Middle Income\",\"Middle Income\",\"Middle Income\",\"Middle Income\",\"Low Income\",\"High Income\",\"Middle Income\",\"Low Income\",\"Middle Income\",\"Low Income\",\"Middle Income\",\"Low Income\",\"Low Income\",\"Middle Income\",\"Middle Income\",\"Low Income\",\"Middle Income\",\"Middle Income\",\"Low Income\",\"Middle Income\",\"Middle Income\",\"Low Income\",\"Middle Income\",\"Low Income\",\"High Income\",\"Middle Income\",\"Low Income\",\"Middle Income\",\"Low Income\",\"Middle Income\",\"Middle Income\",\"Middle Income\",\"Low Income\",\"High Income\",\"Middle Income\",\"Low Income\",\"Middle Income\",\"Low Income\",\"Low Income\",\"Middle Income\",\"Low Income\",\"Middle Income\",\"Middle Income\",\"High Income\",\"Low Income\",\"Middle Income\",\"Low Income\",\"Middle Income\",\"Middle Income\",\"Low Income\",\"Middle Income\",\"Middle Income\",\"Low Income\",\"High Income\",\"Middle Income\",\"Low Income\",\"Low Income\",\"Middle Income\",\"Middle Income\",\"Middle Income\",\"Low Income\",\"Low Income\",\"High Income\",\"Low Income\",\"Middle Income\",\"Low Income\",\"Middle Income\",\"Middle Income\",\"Middle Income\",\"Middle Income\",\"Low Income\",\"High Income\",\"Middle Income\",\"Middle Income\",\"Low Income\",\"Middle Income\",\"Low Income\",\"Low Income\",\"Middle Income\",\"Middle Income\",\"Low Income\",\"High Income\",\"Middle Income\",\"Low Income\",\"Middle Income\",\"Low Income\",\"Middle Income\",\"Middle Income\",\"Middle Income\",\"Low Income\",\"High Income\",\"Middle Income\",\"Middle Income\",\"Low Income\",\"Middle Income\",\"Middle Income\",\"Low Income\",\"Middle Income\",\"Middle Income\",\"Low Income\",\"High Income\",\"Middle Income\",\"Middle Income\",\"Low Income\",\"Middle Income\",\"Low Income\",\"Middle Income\",\"Middle Income\",\"Low Income\",\"High Income\",\"Low Income\",\"Low Income\",\"Middle Income\",\"Low Income\",\"Middle Income\",\"Middle Income\",\"Middle Income\",\"Middle Income\",\"Low Income\",\"Middle Income\",\"Low Income\",\"Low Income\",\"Low Income\",\"Middle Income\",\"Low Income\",\"Middle Income\",\"Low Income\",\"Low Income\",\"High Income\",\"Middle Income\",\"Middle Income\",\"Low Income\",\"Middle Income\",\"Low Income\",\"Middle Income\",\"Middle Income\",\"Low Income\",\"High Income\",\"Middle Income\",\"Middle Income\",\"Low Income\",\"Middle Income\",\"Low Income\",\"Middle Income\",\"Middle Income\",\"Low Income\",\"High Income\",\"Middle Income\",\"Low Income\",\"Middle Income\",\"Low Income\",\"Middle Income\",\"Middle Income\",\"Low Income\",\"Middle Income\",\"Low Income\",\"High Income\",\"Middle Income\",\"Middle Income\",\"Low Income\",\"Middle Income\",\"Middle Income\",\"Middle Income\",\"Low Income\",\"High Income\",\"Middle Income\",\"Low Income\",\"Middle Income\",\"Low Income\",\"Low Income\",\"Middle Income\",\"Middle Income\",\"Middle Income\",\"Low Income\",\"High Income\",\"Low Income\",\"Low Income\",\"Middle Income\",\"Low Income\",\"Middle Income\",\"Low Income\",\"Middle Income\",\"Middle Income\",\"Low Income\",\"High Income\",\"Middle Income\",\"Low Income\",\"Middle Income\",\"Middle Income\",\"Low Income\",\"Middle Income\",\"Low Income\",\"High Income\",\"Middle Income\",\"Low Income\",\"Middle Income\",\"Low Income\",\"Middle Income\",\"Middle Income\",\"Middle Income\",\"Middle Income\",\"Low Income\",\"High Income\",\"Middle Income\",\"Middle Income\",\"Low Income\",\"Middle Income\",\"Low Income\",\"Middle Income\",\"Middle Income\",\"Low Income\",\"High Income\",\"Middle Income\",\"Middle Income\",\"Low Income\",\"Middle Income\",\"Middle Income\",\"Low Income\",\"Middle Income\",\"Low Income\",\"High Income\",\"Middle Income\",\"Low Income\",\"Middle Income\",\"Low Income\",\"Middle Income\",\"Middle Income\",\"Middle Income\",\"Low Income\",\"High Income\",\"Middle Income\",\"Middle Income\",\"Low Income\",\"Low Income\",\"Middle Income\",\"Low Income\",\"Middle Income\",\"Middle Income\",\"Low Income\",\"High Income\",\"Low Income\",\"Middle Income\",\"Low Income\",\"Middle Income\",\"Middle Income\",\"Low Income\",\"Middle Income\",\"Middle Income\",\"Low Income\",\"Middle Income\",\"Low Income\",\"Low Income\",\"Low Income\",\"Middle Income\",\"Middle Income\",\"Middle Income\",\"Low Income\",\"Low Income\",\"High Income\",\"Middle Income\",\"Low Income\",\"Middle Income\",\"Low Income\",\"Middle Income\",\"Middle Income\",\"Low Income\",\"Middle Income\",\"Middle Income\",\"Low Income\",\"High Income\"],\"xaxis\":\"x\",\"yaxis\":\"y\",\"type\":\"histogram\"},{\"alignmentgroup\":\"True\",\"bingroup\":\"x\",\"hovertemplate\":\"Target=1\\u003cbr\\u003eAnnualIncomeClass=%{x}\\u003cbr\\u003ecount=%{y}\\u003cextra\\u003e\\u003c\\u002fextra\\u003e\",\"legendgroup\":\"1\",\"marker\":{\"color\":\"#EF553B\",\"pattern\":{\"shape\":\"\"}},\"name\":\"1\",\"offsetgroup\":\"1\",\"orientation\":\"v\",\"showlegend\":true,\"x\":[\"Low Income\",\"High Income\",\"Low Income\",\"High Income\",\"Middle Income\",\"Low Income\",\"High Income\",\"High Income\",\"Low Income\",\"High Income\",\"Low Income\",\"Low Income\",\"High Income\",\"High Income\",\"Low Income\",\"High Income\",\"Low Income\",\"High Income\",\"Low Income\",\"Low Income\",\"High Income\",\"Middle Income\",\"Low Income\",\"Low Income\",\"High Income\",\"Low Income\",\"High Income\",\"Low Income\",\"Low Income\",\"High Income\",\"Low Income\",\"High Income\",\"Middle Income\",\"Low Income\",\"High Income\",\"Low Income\",\"Low Income\",\"High Income\",\"Low Income\",\"High Income\",\"Low Income\",\"High Income\",\"Middle Income\",\"Low Income\",\"Low Income\",\"Low Income\",\"High Income\",\"Middle Income\",\"Low Income\",\"Low Income\",\"High Income\",\"High Income\",\"High Income\",\"Low Income\",\"High Income\",\"Low Income\",\"High Income\",\"Low Income\",\"Middle Income\",\"Low Income\",\"Middle Income\",\"High Income\",\"Low Income\",\"High Income\",\"Low Income\",\"High Income\",\"Low Income\",\"Middle Income\",\"Low Income\",\"High Income\",\"Low Income\",\"High Income\",\"Low Income\",\"High Income\",\"Middle Income\",\"Low Income\",\"High Income\",\"Low Income\",\"High Income\",\"Low Income\",\"Low Income\",\"High Income\",\"Low Income\",\"High Income\",\"Low Income\",\"Low Income\",\"Low Income\",\"High Income\",\"High Income\",\"Middle Income\",\"Low Income\",\"High Income\",\"Low Income\",\"High Income\",\"Low Income\",\"High Income\",\"High Income\",\"Low Income\",\"Middle Income\",\"High Income\",\"Low Income\",\"High Income\",\"Low Income\",\"High Income\",\"Middle Income\",\"Middle Income\",\"Low Income\",\"High Income\",\"Low Income\",\"High Income\",\"Middle Income\",\"Low Income\",\"High Income\",\"Low Income\",\"High Income\",\"Middle Income\",\"Low Income\",\"Middle Income\",\"High Income\",\"High Income\",\"Middle Income\",\"Low Income\",\"High Income\",\"High Income\",\"Low Income\",\"High Income\",\"Low Income\",\"Low Income\",\"Low Income\",\"High Income\",\"High Income\",\"Low Income\",\"High Income\",\"Low Income\",\"High Income\",\"Middle Income\",\"Low Income\",\"Middle Income\",\"Low Income\",\"High Income\",\"High Income\",\"Low Income\",\"High Income\",\"Low Income\",\"Middle Income\",\"Low Income\",\"Low Income\",\"High Income\",\"Middle Income\",\"Low Income\",\"High Income\",\"Low Income\",\"High Income\",\"High Income\",\"Low Income\",\"High Income\",\"Low Income\",\"High Income\",\"Low Income\",\"Middle Income\",\"High Income\",\"Low Income\",\"Low Income\",\"High Income\",\"Low Income\",\"High Income\",\"Low Income\",\"Middle Income\",\"High Income\",\"Low Income\",\"Low Income\",\"High Income\",\"High Income\",\"Low Income\",\"Low Income\",\"Low Income\",\"High Income\",\"Low Income\",\"High Income\",\"Low Income\",\"High Income\",\"Low Income\",\"High Income\",\"High Income\",\"Middle Income\",\"Low Income\",\"High Income\",\"Middle Income\",\"Low Income\",\"High Income\",\"Low Income\",\"High Income\",\"Low Income\",\"Low Income\",\"High Income\",\"Middle Income\",\"Low Income\",\"High Income\",\"Low Income\",\"High Income\",\"Middle Income\",\"Low Income\",\"Low Income\",\"High Income\",\"Low Income\",\"High Income\",\"Low Income\",\"Low Income\",\"High Income\",\"Low Income\",\"Low Income\",\"High Income\",\"Low Income\",\"High Income\",\"Middle Income\",\"Low Income\",\"Low Income\",\"High Income\",\"Low Income\",\"High Income\",\"High Income\",\"High Income\",\"Low Income\",\"High Income\"],\"xaxis\":\"x\",\"yaxis\":\"y\",\"type\":\"histogram\"}],                        {\"template\":{\"data\":{\"histogram2dcontour\":[{\"type\":\"histogram2dcontour\",\"colorbar\":{\"outlinewidth\":0,\"ticks\":\"\"},\"colorscale\":[[0.0,\"#0d0887\"],[0.1111111111111111,\"#46039f\"],[0.2222222222222222,\"#7201a8\"],[0.3333333333333333,\"#9c179e\"],[0.4444444444444444,\"#bd3786\"],[0.5555555555555556,\"#d8576b\"],[0.6666666666666666,\"#ed7953\"],[0.7777777777777778,\"#fb9f3a\"],[0.8888888888888888,\"#fdca26\"],[1.0,\"#f0f921\"]]}],\"choropleth\":[{\"type\":\"choropleth\",\"colorbar\":{\"outlinewidth\":0,\"ticks\":\"\"}}],\"histogram2d\":[{\"type\":\"histogram2d\",\"colorbar\":{\"outlinewidth\":0,\"ticks\":\"\"},\"colorscale\":[[0.0,\"#0d0887\"],[0.1111111111111111,\"#46039f\"],[0.2222222222222222,\"#7201a8\"],[0.3333333333333333,\"#9c179e\"],[0.4444444444444444,\"#bd3786\"],[0.5555555555555556,\"#d8576b\"],[0.6666666666666666,\"#ed7953\"],[0.7777777777777778,\"#fb9f3a\"],[0.8888888888888888,\"#fdca26\"],[1.0,\"#f0f921\"]]}],\"heatmap\":[{\"type\":\"heatmap\",\"colorbar\":{\"outlinewidth\":0,\"ticks\":\"\"},\"colorscale\":[[0.0,\"#0d0887\"],[0.1111111111111111,\"#46039f\"],[0.2222222222222222,\"#7201a8\"],[0.3333333333333333,\"#9c179e\"],[0.4444444444444444,\"#bd3786\"],[0.5555555555555556,\"#d8576b\"],[0.6666666666666666,\"#ed7953\"],[0.7777777777777778,\"#fb9f3a\"],[0.8888888888888888,\"#fdca26\"],[1.0,\"#f0f921\"]]}],\"heatmapgl\":[{\"type\":\"heatmapgl\",\"colorbar\":{\"outlinewidth\":0,\"ticks\":\"\"},\"colorscale\":[[0.0,\"#0d0887\"],[0.1111111111111111,\"#46039f\"],[0.2222222222222222,\"#7201a8\"],[0.3333333333333333,\"#9c179e\"],[0.4444444444444444,\"#bd3786\"],[0.5555555555555556,\"#d8576b\"],[0.6666666666666666,\"#ed7953\"],[0.7777777777777778,\"#fb9f3a\"],[0.8888888888888888,\"#fdca26\"],[1.0,\"#f0f921\"]]}],\"contourcarpet\":[{\"type\":\"contourcarpet\",\"colorbar\":{\"outlinewidth\":0,\"ticks\":\"\"}}],\"contour\":[{\"type\":\"contour\",\"colorbar\":{\"outlinewidth\":0,\"ticks\":\"\"},\"colorscale\":[[0.0,\"#0d0887\"],[0.1111111111111111,\"#46039f\"],[0.2222222222222222,\"#7201a8\"],[0.3333333333333333,\"#9c179e\"],[0.4444444444444444,\"#bd3786\"],[0.5555555555555556,\"#d8576b\"],[0.6666666666666666,\"#ed7953\"],[0.7777777777777778,\"#fb9f3a\"],[0.8888888888888888,\"#fdca26\"],[1.0,\"#f0f921\"]]}],\"surface\":[{\"type\":\"surface\",\"colorbar\":{\"outlinewidth\":0,\"ticks\":\"\"},\"colorscale\":[[0.0,\"#0d0887\"],[0.1111111111111111,\"#46039f\"],[0.2222222222222222,\"#7201a8\"],[0.3333333333333333,\"#9c179e\"],[0.4444444444444444,\"#bd3786\"],[0.5555555555555556,\"#d8576b\"],[0.6666666666666666,\"#ed7953\"],[0.7777777777777778,\"#fb9f3a\"],[0.8888888888888888,\"#fdca26\"],[1.0,\"#f0f921\"]]}],\"mesh3d\":[{\"type\":\"mesh3d\",\"colorbar\":{\"outlinewidth\":0,\"ticks\":\"\"}}],\"scatter\":[{\"fillpattern\":{\"fillmode\":\"overlay\",\"size\":10,\"solidity\":0.2},\"type\":\"scatter\"}],\"parcoords\":[{\"type\":\"parcoords\",\"line\":{\"colorbar\":{\"outlinewidth\":0,\"ticks\":\"\"}}}],\"scatterpolargl\":[{\"type\":\"scatterpolargl\",\"marker\":{\"colorbar\":{\"outlinewidth\":0,\"ticks\":\"\"}}}],\"bar\":[{\"error_x\":{\"color\":\"#2a3f5f\"},\"error_y\":{\"color\":\"#2a3f5f\"},\"marker\":{\"line\":{\"color\":\"#E5ECF6\",\"width\":0.5},\"pattern\":{\"fillmode\":\"overlay\",\"size\":10,\"solidity\":0.2}},\"type\":\"bar\"}],\"scattergeo\":[{\"type\":\"scattergeo\",\"marker\":{\"colorbar\":{\"outlinewidth\":0,\"ticks\":\"\"}}}],\"scatterpolar\":[{\"type\":\"scatterpolar\",\"marker\":{\"colorbar\":{\"outlinewidth\":0,\"ticks\":\"\"}}}],\"histogram\":[{\"marker\":{\"pattern\":{\"fillmode\":\"overlay\",\"size\":10,\"solidity\":0.2}},\"type\":\"histogram\"}],\"scattergl\":[{\"type\":\"scattergl\",\"marker\":{\"colorbar\":{\"outlinewidth\":0,\"ticks\":\"\"}}}],\"scatter3d\":[{\"type\":\"scatter3d\",\"line\":{\"colorbar\":{\"outlinewidth\":0,\"ticks\":\"\"}},\"marker\":{\"colorbar\":{\"outlinewidth\":0,\"ticks\":\"\"}}}],\"scattermapbox\":[{\"type\":\"scattermapbox\",\"marker\":{\"colorbar\":{\"outlinewidth\":0,\"ticks\":\"\"}}}],\"scatterternary\":[{\"type\":\"scatterternary\",\"marker\":{\"colorbar\":{\"outlinewidth\":0,\"ticks\":\"\"}}}],\"scattercarpet\":[{\"type\":\"scattercarpet\",\"marker\":{\"colorbar\":{\"outlinewidth\":0,\"ticks\":\"\"}}}],\"carpet\":[{\"aaxis\":{\"endlinecolor\":\"#2a3f5f\",\"gridcolor\":\"white\",\"linecolor\":\"white\",\"minorgridcolor\":\"white\",\"startlinecolor\":\"#2a3f5f\"},\"baxis\":{\"endlinecolor\":\"#2a3f5f\",\"gridcolor\":\"white\",\"linecolor\":\"white\",\"minorgridcolor\":\"white\",\"startlinecolor\":\"#2a3f5f\"},\"type\":\"carpet\"}],\"table\":[{\"cells\":{\"fill\":{\"color\":\"#EBF0F8\"},\"line\":{\"color\":\"white\"}},\"header\":{\"fill\":{\"color\":\"#C8D4E3\"},\"line\":{\"color\":\"white\"}},\"type\":\"table\"}],\"barpolar\":[{\"marker\":{\"line\":{\"color\":\"#E5ECF6\",\"width\":0.5},\"pattern\":{\"fillmode\":\"overlay\",\"size\":10,\"solidity\":0.2}},\"type\":\"barpolar\"}],\"pie\":[{\"automargin\":true,\"type\":\"pie\"}]},\"layout\":{\"autotypenumbers\":\"strict\",\"colorway\":[\"#636efa\",\"#EF553B\",\"#00cc96\",\"#ab63fa\",\"#FFA15A\",\"#19d3f3\",\"#FF6692\",\"#B6E880\",\"#FF97FF\",\"#FECB52\"],\"font\":{\"color\":\"#2a3f5f\"},\"hovermode\":\"closest\",\"hoverlabel\":{\"align\":\"left\"},\"paper_bgcolor\":\"white\",\"plot_bgcolor\":\"#E5ECF6\",\"polar\":{\"bgcolor\":\"#E5ECF6\",\"angularaxis\":{\"gridcolor\":\"white\",\"linecolor\":\"white\",\"ticks\":\"\"},\"radialaxis\":{\"gridcolor\":\"white\",\"linecolor\":\"white\",\"ticks\":\"\"}},\"ternary\":{\"bgcolor\":\"#E5ECF6\",\"aaxis\":{\"gridcolor\":\"white\",\"linecolor\":\"white\",\"ticks\":\"\"},\"baxis\":{\"gridcolor\":\"white\",\"linecolor\":\"white\",\"ticks\":\"\"},\"caxis\":{\"gridcolor\":\"white\",\"linecolor\":\"white\",\"ticks\":\"\"}},\"coloraxis\":{\"colorbar\":{\"outlinewidth\":0,\"ticks\":\"\"}},\"colorscale\":{\"sequential\":[[0.0,\"#0d0887\"],[0.1111111111111111,\"#46039f\"],[0.2222222222222222,\"#7201a8\"],[0.3333333333333333,\"#9c179e\"],[0.4444444444444444,\"#bd3786\"],[0.5555555555555556,\"#d8576b\"],[0.6666666666666666,\"#ed7953\"],[0.7777777777777778,\"#fb9f3a\"],[0.8888888888888888,\"#fdca26\"],[1.0,\"#f0f921\"]],\"sequentialminus\":[[0.0,\"#0d0887\"],[0.1111111111111111,\"#46039f\"],[0.2222222222222222,\"#7201a8\"],[0.3333333333333333,\"#9c179e\"],[0.4444444444444444,\"#bd3786\"],[0.5555555555555556,\"#d8576b\"],[0.6666666666666666,\"#ed7953\"],[0.7777777777777778,\"#fb9f3a\"],[0.8888888888888888,\"#fdca26\"],[1.0,\"#f0f921\"]],\"diverging\":[[0,\"#8e0152\"],[0.1,\"#c51b7d\"],[0.2,\"#de77ae\"],[0.3,\"#f1b6da\"],[0.4,\"#fde0ef\"],[0.5,\"#f7f7f7\"],[0.6,\"#e6f5d0\"],[0.7,\"#b8e186\"],[0.8,\"#7fbc41\"],[0.9,\"#4d9221\"],[1,\"#276419\"]]},\"xaxis\":{\"gridcolor\":\"white\",\"linecolor\":\"white\",\"ticks\":\"\",\"title\":{\"standoff\":15},\"zerolinecolor\":\"white\",\"automargin\":true,\"zerolinewidth\":2},\"yaxis\":{\"gridcolor\":\"white\",\"linecolor\":\"white\",\"ticks\":\"\",\"title\":{\"standoff\":15},\"zerolinecolor\":\"white\",\"automargin\":true,\"zerolinewidth\":2},\"scene\":{\"xaxis\":{\"backgroundcolor\":\"#E5ECF6\",\"gridcolor\":\"white\",\"linecolor\":\"white\",\"showbackground\":true,\"ticks\":\"\",\"zerolinecolor\":\"white\",\"gridwidth\":2},\"yaxis\":{\"backgroundcolor\":\"#E5ECF6\",\"gridcolor\":\"white\",\"linecolor\":\"white\",\"showbackground\":true,\"ticks\":\"\",\"zerolinecolor\":\"white\",\"gridwidth\":2},\"zaxis\":{\"backgroundcolor\":\"#E5ECF6\",\"gridcolor\":\"white\",\"linecolor\":\"white\",\"showbackground\":true,\"ticks\":\"\",\"zerolinecolor\":\"white\",\"gridwidth\":2}},\"shapedefaults\":{\"line\":{\"color\":\"#2a3f5f\"}},\"annotationdefaults\":{\"arrowcolor\":\"#2a3f5f\",\"arrowhead\":0,\"arrowwidth\":1},\"geo\":{\"bgcolor\":\"white\",\"landcolor\":\"#E5ECF6\",\"subunitcolor\":\"white\",\"showland\":true,\"showlakes\":true,\"lakecolor\":\"white\"},\"title\":{\"x\":0.05},\"mapbox\":{\"style\":\"light\"}}},\"xaxis\":{\"anchor\":\"y\",\"domain\":[0.0,1.0],\"title\":{\"text\":\"AnnualIncomeClass\"}},\"yaxis\":{\"anchor\":\"x\",\"domain\":[0.0,1.0],\"title\":{\"text\":\"count\"}},\"legend\":{\"title\":{\"text\":\"Target\"},\"tracegroupgap\":0},\"margin\":{\"t\":60},\"barmode\":\"relative\"},                        {\"responsive\": true}                    ).then(function(){\n",
              "                            \n",
              "var gd = document.getElementById('fb6847c1-2dae-479e-8d6f-0133ed1f8986');\n",
              "var x = new MutationObserver(function (mutations, observer) {{\n",
              "        var display = window.getComputedStyle(gd).display;\n",
              "        if (!display || display === 'none') {{\n",
              "            console.log([gd, 'removed!']);\n",
              "            Plotly.purge(gd);\n",
              "            observer.disconnect();\n",
              "        }}\n",
              "}});\n",
              "\n",
              "// Listen for the removal of the full notebook cells\n",
              "var notebookContainer = gd.closest('#notebook-container');\n",
              "if (notebookContainer) {{\n",
              "    x.observe(notebookContainer, {childList: true});\n",
              "}}\n",
              "\n",
              "// Listen for the clearing of the current output cell\n",
              "var outputEl = gd.closest('.output');\n",
              "if (outputEl) {{\n",
              "    x.observe(outputEl, {childList: true});\n",
              "}}\n",
              "\n",
              "                        })                };                            </script>        </div>\n",
              "</body>\n",
              "</html>"
            ]
          },
          "metadata": {}
        }
      ]
    },
    {
      "cell_type": "markdown",
      "source": [
        "Middle Income people travel more than High Income, there will be may reason behind it like they don't have enough time to travel they are busy in their work to earn more money or anything else also happens"
      ],
      "metadata": {
        "id": "cTErmalh7pp5"
      }
    },
    {
      "cell_type": "markdown",
      "source": [
        "Note : Company need to focus on how they can attract High Income family or people to their travelling plan and also attract Low Income people by provind jaw dropping deals or offers"
      ],
      "metadata": {
        "id": "HZFAiepn7u6A"
      }
    },
    {
      "cell_type": "code",
      "source": [
        "fig = px.histogram(data,x='AnnualIncomeClass',color='FrequentFlyer')\n",
        "fig.show()"
      ],
      "metadata": {
        "colab": {
          "base_uri": "https://localhost:8080/",
          "height": 542
        },
        "id": "kdogeAbE6-TG",
        "outputId": "125f86c4-260c-406c-92aa-d9ecc5575d7b"
      },
      "execution_count": 11,
      "outputs": [
        {
          "output_type": "display_data",
          "data": {
            "text/html": [
              "<html>\n",
              "<head><meta charset=\"utf-8\" /></head>\n",
              "<body>\n",
              "    <div>            <script src=\"https://cdnjs.cloudflare.com/ajax/libs/mathjax/2.7.5/MathJax.js?config=TeX-AMS-MML_SVG\"></script><script type=\"text/javascript\">if (window.MathJax && window.MathJax.Hub && window.MathJax.Hub.Config) {window.MathJax.Hub.Config({SVG: {font: \"STIX-Web\"}});}</script>                <script type=\"text/javascript\">window.PlotlyConfig = {MathJaxConfig: 'local'};</script>\n",
              "        <script charset=\"utf-8\" src=\"https://cdn.plot.ly/plotly-2.24.1.min.js\"></script>                <div id=\"46799fd9-fbb5-44d3-9eaf-069dc68dd8e6\" class=\"plotly-graph-div\" style=\"height:525px; width:100%;\"></div>            <script type=\"text/javascript\">                                    window.PLOTLYENV=window.PLOTLYENV || {};                                    if (document.getElementById(\"46799fd9-fbb5-44d3-9eaf-069dc68dd8e6\")) {                    Plotly.newPlot(                        \"46799fd9-fbb5-44d3-9eaf-069dc68dd8e6\",                        [{\"alignmentgroup\":\"True\",\"bingroup\":\"x\",\"hovertemplate\":\"FrequentFlyer=No\\u003cbr\\u003eAnnualIncomeClass=%{x}\\u003cbr\\u003ecount=%{y}\\u003cextra\\u003e\\u003c\\u002fextra\\u003e\",\"legendgroup\":\"No\",\"marker\":{\"color\":\"#636efa\",\"pattern\":{\"shape\":\"\"}},\"name\":\"No\",\"offsetgroup\":\"No\",\"orientation\":\"v\",\"showlegend\":true,\"x\":[\"Middle Income\",\"Middle Income\",\"Middle Income\",\"Low Income\",\"Middle Income\",\"Low Income\",\"Low Income\",\"Low Income\",\"Middle Income\",\"Middle Income\",\"Low Income\",\"Middle Income\",\"Low Income\",\"Middle Income\",\"Middle Income\",\"Middle Income\",\"Middle Income\",\"Low Income\",\"Middle Income\",\"Low Income\",\"Middle Income\",\"Middle Income\",\"Middle Income\",\"Middle Income\",\"Low Income\",\"Middle Income\",\"Low Income\",\"Middle Income\",\"Low Income\",\"Middle Income\",\"Middle Income\",\"Middle Income\",\"Low Income\",\"Middle Income\",\"Low Income\",\"Low Income\",\"Middle Income\",\"Middle Income\",\"Middle Income\",\"Middle Income\",\"Middle Income\",\"Middle Income\",\"Low Income\",\"Low Income\",\"Middle Income\",\"Middle Income\",\"Middle Income\",\"Low Income\",\"Low Income\",\"Middle Income\",\"Low Income\",\"Middle Income\",\"Middle Income\",\"Middle Income\",\"Middle Income\",\"Low Income\",\"Middle Income\",\"Low Income\",\"Low Income\",\"Low Income\",\"Middle Income\",\"Middle Income\",\"Middle Income\",\"Low Income\",\"Middle Income\",\"Low Income\",\"Middle Income\",\"Middle Income\",\"Middle Income\",\"Middle Income\",\"Low Income\",\"Middle Income\",\"Low Income\",\"Middle Income\",\"Low Income\",\"Middle Income\",\"Low Income\",\"Middle Income\",\"Low Income\",\"Middle Income\",\"Low Income\",\"Middle Income\",\"Low Income\",\"Middle Income\",\"Middle Income\",\"Low Income\",\"Middle Income\",\"Low Income\",\"Middle Income\",\"Low Income\",\"Middle Income\",\"Low Income\",\"Middle Income\",\"Middle Income\",\"Middle Income\",\"Low Income\",\"Middle Income\",\"Low Income\",\"Middle Income\",\"Low Income\",\"Middle Income\",\"Middle Income\",\"Middle Income\",\"Low Income\",\"Low Income\",\"Middle Income\",\"Middle Income\",\"Middle Income\",\"Middle Income\",\"Middle Income\",\"Low Income\",\"Middle Income\",\"Low Income\",\"Low Income\",\"Middle Income\",\"Middle Income\",\"Middle Income\",\"Low Income\",\"Low Income\",\"Middle Income\",\"Low Income\",\"Low Income\",\"Middle Income\",\"Middle Income\",\"Middle Income\",\"Middle Income\",\"Low Income\",\"Middle Income\",\"Middle Income\",\"Low Income\",\"Middle Income\",\"Middle Income\",\"Middle Income\",\"Low Income\",\"Low Income\",\"Middle Income\",\"Low Income\",\"Middle Income\",\"Middle Income\",\"Low Income\",\"Middle Income\",\"Low Income\",\"Middle Income\",\"Low Income\",\"Middle Income\",\"Low Income\",\"Middle Income\",\"Middle Income\",\"Middle Income\",\"Middle Income\",\"Middle Income\",\"Low Income\",\"Middle Income\",\"Low Income\",\"Low Income\",\"Middle Income\",\"Middle Income\",\"Low Income\",\"Low Income\",\"Middle Income\",\"Low Income\",\"Middle Income\",\"Middle Income\",\"Middle Income\",\"Low Income\",\"Middle Income\",\"Low Income\",\"Low Income\",\"Low Income\",\"Middle Income\",\"Middle Income\",\"Middle Income\",\"Low Income\",\"Middle Income\",\"Low Income\",\"Middle Income\",\"Middle Income\",\"Middle Income\",\"Middle Income\",\"Low Income\",\"Middle Income\",\"Low Income\",\"Middle Income\",\"Low Income\",\"Low Income\",\"Middle Income\",\"Middle Income\",\"Low Income\",\"Middle Income\",\"Low Income\",\"Middle Income\",\"Middle Income\",\"Middle Income\",\"Middle Income\",\"Low Income\",\"Middle Income\",\"Low Income\",\"Middle Income\",\"Low Income\",\"Middle Income\",\"Middle Income\",\"Middle Income\",\"Middle Income\",\"Middle Income\",\"Low Income\",\"Low Income\",\"Middle Income\",\"Middle Income\",\"Middle Income\",\"Low Income\",\"Middle Income\",\"Low Income\",\"Middle Income\",\"Middle Income\",\"Middle Income\",\"Middle Income\",\"Low Income\",\"Low Income\",\"Low Income\",\"Middle Income\",\"Middle Income\",\"Middle Income\",\"Low Income\",\"Low Income\",\"Middle Income\",\"Low Income\",\"Middle Income\",\"Middle Income\",\"Middle Income\",\"Middle Income\",\"Middle Income\",\"Middle Income\",\"Low Income\",\"Middle Income\",\"Low Income\",\"Middle Income\",\"Low Income\",\"Middle Income\",\"Low Income\",\"Middle Income\",\"Low Income\",\"Middle Income\",\"Low Income\",\"Middle Income\",\"Middle Income\",\"Middle Income\",\"Low Income\",\"Middle Income\",\"Low Income\",\"Middle Income\",\"Low Income\",\"Middle Income\",\"Middle Income\",\"Middle Income\",\"Middle Income\",\"Low Income\",\"Middle Income\",\"Low Income\",\"Middle Income\",\"Low Income\",\"Low Income\",\"Middle Income\",\"Middle Income\",\"Low Income\",\"Low Income\",\"Middle Income\",\"Low Income\",\"Middle Income\",\"Middle Income\",\"Middle Income\",\"Low Income\",\"Middle Income\",\"Low Income\",\"Low Income\",\"Middle Income\",\"Middle Income\",\"Middle Income\",\"Low Income\",\"Middle Income\",\"Low Income\",\"Middle Income\",\"Low Income\",\"Middle Income\",\"Middle Income\",\"Middle Income\",\"Middle Income\",\"Low Income\",\"Middle Income\",\"Low Income\",\"Low Income\",\"Middle Income\",\"Low Income\",\"Middle Income\",\"Middle Income\",\"Low Income\",\"Middle Income\",\"Middle Income\",\"Low Income\",\"Middle Income\",\"Middle Income\",\"Low Income\",\"Middle Income\",\"Low Income\",\"Low Income\",\"Middle Income\",\"Low Income\",\"Middle Income\",\"Middle Income\",\"Middle Income\",\"Middle Income\",\"Middle Income\",\"Low Income\",\"Middle Income\",\"Low Income\",\"Low Income\",\"Middle Income\",\"Middle Income\",\"Middle Income\",\"Low Income\",\"Low Income\",\"Middle Income\",\"Low Income\",\"Middle Income\",\"Middle Income\",\"Middle Income\",\"Low Income\",\"Middle Income\",\"Low Income\",\"Low Income\",\"Low Income\",\"Middle Income\",\"Middle Income\",\"Low Income\",\"Low Income\",\"Middle Income\",\"Low Income\",\"Middle Income\",\"Middle Income\",\"Middle Income\",\"Middle Income\",\"Middle Income\",\"Low Income\",\"Middle Income\",\"Low Income\",\"Middle Income\",\"Low Income\",\"Middle Income\",\"Middle Income\",\"Middle Income\",\"Low Income\",\"Middle Income\",\"Low Income\",\"Middle Income\",\"Low Income\",\"Middle Income\",\"Middle Income\",\"Low Income\",\"Middle Income\",\"Low Income\",\"Middle Income\",\"Middle Income\",\"Middle Income\",\"Middle Income\",\"Middle Income\",\"Middle Income\",\"Low Income\",\"Middle Income\",\"Low Income\",\"Low Income\",\"Middle Income\",\"Middle Income\",\"Middle Income\",\"Low Income\",\"Low Income\",\"Low Income\",\"Low Income\",\"Middle Income\",\"Middle Income\",\"Middle Income\",\"Middle Income\",\"Low Income\",\"Middle Income\",\"Low Income\",\"Middle Income\",\"Middle Income\",\"Middle Income\",\"Low Income\",\"Low Income\",\"Middle Income\",\"Middle Income\",\"Middle Income\",\"Middle Income\",\"Middle Income\",\"Low Income\",\"Middle Income\",\"Low Income\",\"Middle Income\",\"Low Income\",\"Middle Income\",\"Middle Income\",\"Middle Income\",\"Middle Income\",\"Middle Income\",\"Low Income\",\"Middle Income\",\"Middle Income\",\"Low Income\",\"Low Income\",\"Middle Income\",\"Low Income\",\"Middle Income\",\"Low Income\",\"Middle Income\",\"Middle Income\",\"Middle Income\",\"Middle Income\",\"Low Income\",\"Middle Income\",\"Low Income\",\"Middle Income\",\"Middle Income\",\"Middle Income\",\"Low Income\",\"Low Income\",\"Low Income\",\"Middle Income\",\"Low Income\",\"Middle Income\",\"Middle Income\",\"Middle Income\",\"Low Income\",\"Middle Income\",\"Low Income\",\"Low Income\",\"Low Income\",\"Middle Income\",\"Middle Income\",\"Low Income\",\"Low Income\",\"Middle Income\",\"Low Income\",\"Middle Income\",\"Middle Income\",\"Middle Income\",\"Middle Income\",\"Middle Income\",\"Low Income\",\"Middle Income\",\"Low Income\",\"Middle Income\",\"Low Income\",\"Middle Income\",\"Middle Income\",\"Middle Income\",\"Low Income\",\"Middle Income\",\"Low Income\",\"Low Income\",\"Middle Income\",\"Middle Income\",\"Middle Income\",\"Low Income\",\"Middle Income\",\"Middle Income\",\"Low Income\",\"Middle Income\",\"Middle Income\",\"Middle Income\",\"Middle Income\",\"Low Income\",\"Middle Income\",\"Low Income\",\"Low Income\",\"Middle Income\",\"Middle Income\",\"Middle Income\",\"Low Income\",\"Low Income\",\"Middle Income\",\"Low Income\",\"Middle Income\",\"Middle Income\",\"Middle Income\",\"Middle Income\",\"Middle Income\",\"Low Income\",\"Low Income\",\"Low Income\",\"Middle Income\",\"Middle Income\",\"Middle Income\",\"Low Income\",\"Middle Income\",\"Low Income\",\"Middle Income\",\"Low Income\",\"Middle Income\",\"Middle Income\",\"Middle Income\",\"Low Income\",\"Middle Income\",\"Low Income\",\"Middle Income\",\"Low Income\",\"Middle Income\",\"Low Income\",\"Middle Income\",\"Middle Income\",\"Low Income\",\"Middle Income\",\"Middle Income\",\"Low Income\",\"Middle Income\",\"Middle Income\",\"Low Income\",\"Middle Income\",\"Low Income\",\"Middle Income\",\"Low Income\",\"Middle Income\",\"Middle Income\",\"Middle Income\",\"Low Income\",\"Middle Income\",\"Low Income\",\"Middle Income\",\"Middle Income\",\"Middle Income\",\"Middle Income\",\"Low Income\",\"Low Income\",\"Middle Income\",\"Low Income\",\"Middle Income\",\"Middle Income\",\"Middle Income\",\"Middle Income\",\"Low Income\",\"Middle Income\",\"Low Income\",\"Low Income\",\"Middle Income\",\"Middle Income\",\"Middle Income\",\"Low Income\",\"Low Income\",\"Middle Income\",\"Middle Income\",\"Low Income\",\"Middle Income\",\"Middle Income\",\"Middle Income\",\"Middle Income\",\"Low Income\",\"Low Income\",\"Middle Income\",\"Low Income\",\"Middle Income\",\"Low Income\",\"Middle Income\",\"Middle Income\",\"Low Income\",\"Middle Income\",\"Low Income\",\"Middle Income\",\"Low Income\",\"Middle Income\",\"Middle Income\",\"Middle Income\",\"Middle Income\",\"Low Income\",\"Middle Income\",\"Low Income\",\"Middle Income\",\"Middle Income\",\"Middle Income\",\"Low Income\",\"Middle Income\",\"Low Income\",\"Middle Income\",\"Low Income\",\"Low Income\",\"Middle Income\",\"Middle Income\",\"Low Income\",\"Low Income\",\"Middle Income\",\"Low Income\",\"Middle Income\",\"Middle Income\",\"Middle Income\",\"Middle Income\",\"Low Income\",\"Middle Income\",\"Low Income\",\"Low Income\",\"Low Income\",\"Middle Income\",\"Middle Income\",\"Low Income\",\"Middle Income\",\"Low Income\",\"Middle Income\",\"Low Income\",\"Middle Income\",\"Middle Income\",\"Middle Income\",\"Low Income\"],\"xaxis\":\"x\",\"yaxis\":\"y\",\"type\":\"histogram\"},{\"alignmentgroup\":\"True\",\"bingroup\":\"x\",\"hovertemplate\":\"FrequentFlyer=Yes\\u003cbr\\u003eAnnualIncomeClass=%{x}\\u003cbr\\u003ecount=%{y}\\u003cextra\\u003e\\u003c\\u002fextra\\u003e\",\"legendgroup\":\"Yes\",\"marker\":{\"color\":\"#EF553B\",\"pattern\":{\"shape\":\"\"}},\"name\":\"Yes\",\"offsetgroup\":\"Yes\",\"orientation\":\"v\",\"showlegend\":true,\"x\":[\"Low Income\",\"High Income\",\"High Income\",\"Low Income\",\"Low Income\",\"High Income\",\"High Income\",\"Low Income\",\"Low Income\",\"High Income\",\"High Income\",\"Low Income\",\"Low Income\",\"High Income\",\"High Income\",\"Low Income\",\"Low Income\",\"High Income\",\"High Income\",\"Low Income\",\"Low Income\",\"High Income\",\"High Income\",\"Low Income\",\"High Income\",\"Low Income\",\"High Income\",\"Low Income\",\"High Income\",\"High Income\",\"Low Income\",\"High Income\",\"High Income\",\"Low Income\",\"Low Income\",\"High Income\",\"High Income\",\"Low Income\",\"High Income\",\"High Income\",\"Low Income\",\"High Income\",\"High Income\",\"Low Income\",\"High Income\",\"High Income\",\"Low Income\",\"Low Income\",\"High Income\",\"Low Income\",\"High Income\",\"Low Income\",\"High Income\",\"Low Income\",\"High Income\",\"Low Income\",\"High Income\",\"High Income\",\"Low Income\",\"High Income\",\"High Income\",\"Low Income\",\"Low Income\",\"High Income\",\"High Income\",\"Low Income\",\"High Income\",\"High Income\",\"Low Income\",\"High Income\",\"High Income\",\"Low Income\",\"High Income\",\"Low Income\",\"High Income\",\"Low Income\",\"High Income\",\"High Income\",\"Low Income\",\"Low Income\",\"High Income\",\"High Income\",\"Low Income\",\"Low Income\",\"High Income\",\"High Income\",\"Low Income\",\"High Income\",\"High Income\",\"Low Income\",\"Low Income\",\"High Income\",\"High Income\",\"Low Income\",\"Low Income\",\"High Income\",\"High Income\",\"Low Income\",\"Low Income\",\"High Income\",\"Low Income\",\"High Income\",\"Low Income\",\"High Income\",\"Low Income\",\"High Income\",\"Low Income\",\"High Income\",\"High Income\",\"Low Income\",\"Low Income\",\"High Income\",\"High Income\",\"Low Income\",\"High Income\",\"High Income\",\"Low Income\",\"High Income\",\"High Income\",\"Low Income\",\"High Income\",\"High Income\",\"Low Income\",\"High Income\",\"Low Income\",\"High Income\",\"Low Income\",\"High Income\",\"High Income\",\"Low Income\",\"Low Income\",\"High Income\",\"High Income\",\"Low Income\",\"High Income\",\"High Income\",\"Low Income\",\"High Income\",\"Low Income\",\"High Income\",\"Low Income\",\"High Income\",\"High Income\",\"Low Income\",\"Low Income\",\"High Income\",\"High Income\",\"Low Income\",\"High Income\",\"High Income\",\"Low Income\",\"High Income\",\"High Income\",\"Low Income\",\"High Income\",\"High Income\",\"Low Income\",\"Low Income\",\"High Income\",\"High Income\",\"Low Income\",\"High Income\",\"High Income\",\"Low Income\",\"Low Income\",\"High Income\",\"High Income\",\"Low Income\",\"Low Income\",\"High Income\",\"High Income\",\"Low Income\",\"High Income\",\"High Income\",\"Low Income\",\"High Income\",\"Low Income\",\"High Income\",\"Low Income\",\"Low Income\",\"High Income\",\"High Income\",\"Low Income\",\"Low Income\",\"High Income\",\"High Income\",\"Low Income\",\"Low Income\",\"High Income\",\"Low Income\",\"High Income\",\"Low Income\",\"High Income\",\"High Income\",\"Low Income\",\"Low Income\",\"High Income\",\"High Income\",\"Low Income\",\"Low Income\",\"High Income\",\"High Income\",\"Low Income\",\"High Income\",\"High Income\",\"Low Income\",\"High Income\",\"High Income\",\"Low Income\",\"Low Income\",\"High Income\",\"High Income\",\"Low Income\",\"Low Income\",\"High Income\",\"High Income\",\"Low Income\",\"Low Income\",\"High Income\",\"High Income\",\"Low Income\",\"Low Income\",\"High Income\",\"High Income\",\"Low Income\",\"High Income\",\"Low Income\",\"High Income\",\"Low Income\",\"High Income\",\"High Income\",\"Low Income\",\"High Income\",\"High Income\",\"Low Income\",\"High Income\",\"High Income\",\"Low Income\",\"High Income\",\"Low Income\",\"High Income\",\"Low Income\",\"Low Income\",\"High Income\",\"High Income\",\"Low Income\",\"High Income\",\"High Income\",\"Low Income\",\"Low Income\",\"High Income\",\"Low Income\",\"High Income\",\"Low Income\",\"High Income\",\"Low Income\",\"High Income\",\"Low Income\",\"High Income\",\"High Income\",\"Low Income\",\"High Income\",\"High Income\",\"Low Income\",\"High Income\",\"High Income\",\"Low Income\",\"Low Income\",\"High Income\",\"High Income\",\"Low Income\",\"High Income\",\"High Income\",\"Low Income\",\"High Income\",\"Low Income\",\"High Income\",\"Low Income\",\"High Income\",\"High Income\",\"Low Income\",\"Low Income\",\"High Income\",\"High Income\",\"Low Income\",\"High Income\"],\"xaxis\":\"x\",\"yaxis\":\"y\",\"type\":\"histogram\"},{\"alignmentgroup\":\"True\",\"bingroup\":\"x\",\"hovertemplate\":\"FrequentFlyer=No Record\\u003cbr\\u003eAnnualIncomeClass=%{x}\\u003cbr\\u003ecount=%{y}\\u003cextra\\u003e\\u003c\\u002fextra\\u003e\",\"legendgroup\":\"No Record\",\"marker\":{\"color\":\"#00cc96\",\"pattern\":{\"shape\":\"\"}},\"name\":\"No Record\",\"offsetgroup\":\"No Record\",\"orientation\":\"v\",\"showlegend\":true,\"x\":[\"Middle Income\",\"Middle Income\",\"Low Income\",\"Middle Income\",\"Low Income\",\"Low Income\",\"Middle Income\",\"Middle Income\",\"Middle Income\",\"Low Income\",\"Middle Income\",\"Low Income\",\"Middle Income\",\"Low Income\",\"Middle Income\",\"Middle Income\",\"Middle Income\",\"Middle Income\",\"Low Income\",\"Middle Income\",\"Low Income\",\"Middle Income\",\"Low Income\",\"Middle Income\",\"Low Income\",\"Middle Income\",\"Middle Income\",\"Low Income\",\"Middle Income\",\"Middle Income\",\"Low Income\",\"Middle Income\",\"Middle Income\",\"Low Income\",\"Middle Income\",\"Low Income\",\"Middle Income\",\"Low Income\",\"Middle Income\",\"Low Income\",\"Middle Income\",\"Middle Income\",\"Middle Income\",\"Middle Income\",\"Middle Income\",\"Low Income\",\"Middle Income\",\"Low Income\",\"Low Income\",\"Middle Income\",\"Middle Income\",\"Middle Income\",\"Low Income\",\"Low Income\",\"Middle Income\",\"Low Income\",\"Middle Income\",\"Middle Income\",\"Middle Income\",\"Middle Income\"],\"xaxis\":\"x\",\"yaxis\":\"y\",\"type\":\"histogram\"}],                        {\"template\":{\"data\":{\"histogram2dcontour\":[{\"type\":\"histogram2dcontour\",\"colorbar\":{\"outlinewidth\":0,\"ticks\":\"\"},\"colorscale\":[[0.0,\"#0d0887\"],[0.1111111111111111,\"#46039f\"],[0.2222222222222222,\"#7201a8\"],[0.3333333333333333,\"#9c179e\"],[0.4444444444444444,\"#bd3786\"],[0.5555555555555556,\"#d8576b\"],[0.6666666666666666,\"#ed7953\"],[0.7777777777777778,\"#fb9f3a\"],[0.8888888888888888,\"#fdca26\"],[1.0,\"#f0f921\"]]}],\"choropleth\":[{\"type\":\"choropleth\",\"colorbar\":{\"outlinewidth\":0,\"ticks\":\"\"}}],\"histogram2d\":[{\"type\":\"histogram2d\",\"colorbar\":{\"outlinewidth\":0,\"ticks\":\"\"},\"colorscale\":[[0.0,\"#0d0887\"],[0.1111111111111111,\"#46039f\"],[0.2222222222222222,\"#7201a8\"],[0.3333333333333333,\"#9c179e\"],[0.4444444444444444,\"#bd3786\"],[0.5555555555555556,\"#d8576b\"],[0.6666666666666666,\"#ed7953\"],[0.7777777777777778,\"#fb9f3a\"],[0.8888888888888888,\"#fdca26\"],[1.0,\"#f0f921\"]]}],\"heatmap\":[{\"type\":\"heatmap\",\"colorbar\":{\"outlinewidth\":0,\"ticks\":\"\"},\"colorscale\":[[0.0,\"#0d0887\"],[0.1111111111111111,\"#46039f\"],[0.2222222222222222,\"#7201a8\"],[0.3333333333333333,\"#9c179e\"],[0.4444444444444444,\"#bd3786\"],[0.5555555555555556,\"#d8576b\"],[0.6666666666666666,\"#ed7953\"],[0.7777777777777778,\"#fb9f3a\"],[0.8888888888888888,\"#fdca26\"],[1.0,\"#f0f921\"]]}],\"heatmapgl\":[{\"type\":\"heatmapgl\",\"colorbar\":{\"outlinewidth\":0,\"ticks\":\"\"},\"colorscale\":[[0.0,\"#0d0887\"],[0.1111111111111111,\"#46039f\"],[0.2222222222222222,\"#7201a8\"],[0.3333333333333333,\"#9c179e\"],[0.4444444444444444,\"#bd3786\"],[0.5555555555555556,\"#d8576b\"],[0.6666666666666666,\"#ed7953\"],[0.7777777777777778,\"#fb9f3a\"],[0.8888888888888888,\"#fdca26\"],[1.0,\"#f0f921\"]]}],\"contourcarpet\":[{\"type\":\"contourcarpet\",\"colorbar\":{\"outlinewidth\":0,\"ticks\":\"\"}}],\"contour\":[{\"type\":\"contour\",\"colorbar\":{\"outlinewidth\":0,\"ticks\":\"\"},\"colorscale\":[[0.0,\"#0d0887\"],[0.1111111111111111,\"#46039f\"],[0.2222222222222222,\"#7201a8\"],[0.3333333333333333,\"#9c179e\"],[0.4444444444444444,\"#bd3786\"],[0.5555555555555556,\"#d8576b\"],[0.6666666666666666,\"#ed7953\"],[0.7777777777777778,\"#fb9f3a\"],[0.8888888888888888,\"#fdca26\"],[1.0,\"#f0f921\"]]}],\"surface\":[{\"type\":\"surface\",\"colorbar\":{\"outlinewidth\":0,\"ticks\":\"\"},\"colorscale\":[[0.0,\"#0d0887\"],[0.1111111111111111,\"#46039f\"],[0.2222222222222222,\"#7201a8\"],[0.3333333333333333,\"#9c179e\"],[0.4444444444444444,\"#bd3786\"],[0.5555555555555556,\"#d8576b\"],[0.6666666666666666,\"#ed7953\"],[0.7777777777777778,\"#fb9f3a\"],[0.8888888888888888,\"#fdca26\"],[1.0,\"#f0f921\"]]}],\"mesh3d\":[{\"type\":\"mesh3d\",\"colorbar\":{\"outlinewidth\":0,\"ticks\":\"\"}}],\"scatter\":[{\"fillpattern\":{\"fillmode\":\"overlay\",\"size\":10,\"solidity\":0.2},\"type\":\"scatter\"}],\"parcoords\":[{\"type\":\"parcoords\",\"line\":{\"colorbar\":{\"outlinewidth\":0,\"ticks\":\"\"}}}],\"scatterpolargl\":[{\"type\":\"scatterpolargl\",\"marker\":{\"colorbar\":{\"outlinewidth\":0,\"ticks\":\"\"}}}],\"bar\":[{\"error_x\":{\"color\":\"#2a3f5f\"},\"error_y\":{\"color\":\"#2a3f5f\"},\"marker\":{\"line\":{\"color\":\"#E5ECF6\",\"width\":0.5},\"pattern\":{\"fillmode\":\"overlay\",\"size\":10,\"solidity\":0.2}},\"type\":\"bar\"}],\"scattergeo\":[{\"type\":\"scattergeo\",\"marker\":{\"colorbar\":{\"outlinewidth\":0,\"ticks\":\"\"}}}],\"scatterpolar\":[{\"type\":\"scatterpolar\",\"marker\":{\"colorbar\":{\"outlinewidth\":0,\"ticks\":\"\"}}}],\"histogram\":[{\"marker\":{\"pattern\":{\"fillmode\":\"overlay\",\"size\":10,\"solidity\":0.2}},\"type\":\"histogram\"}],\"scattergl\":[{\"type\":\"scattergl\",\"marker\":{\"colorbar\":{\"outlinewidth\":0,\"ticks\":\"\"}}}],\"scatter3d\":[{\"type\":\"scatter3d\",\"line\":{\"colorbar\":{\"outlinewidth\":0,\"ticks\":\"\"}},\"marker\":{\"colorbar\":{\"outlinewidth\":0,\"ticks\":\"\"}}}],\"scattermapbox\":[{\"type\":\"scattermapbox\",\"marker\":{\"colorbar\":{\"outlinewidth\":0,\"ticks\":\"\"}}}],\"scatterternary\":[{\"type\":\"scatterternary\",\"marker\":{\"colorbar\":{\"outlinewidth\":0,\"ticks\":\"\"}}}],\"scattercarpet\":[{\"type\":\"scattercarpet\",\"marker\":{\"colorbar\":{\"outlinewidth\":0,\"ticks\":\"\"}}}],\"carpet\":[{\"aaxis\":{\"endlinecolor\":\"#2a3f5f\",\"gridcolor\":\"white\",\"linecolor\":\"white\",\"minorgridcolor\":\"white\",\"startlinecolor\":\"#2a3f5f\"},\"baxis\":{\"endlinecolor\":\"#2a3f5f\",\"gridcolor\":\"white\",\"linecolor\":\"white\",\"minorgridcolor\":\"white\",\"startlinecolor\":\"#2a3f5f\"},\"type\":\"carpet\"}],\"table\":[{\"cells\":{\"fill\":{\"color\":\"#EBF0F8\"},\"line\":{\"color\":\"white\"}},\"header\":{\"fill\":{\"color\":\"#C8D4E3\"},\"line\":{\"color\":\"white\"}},\"type\":\"table\"}],\"barpolar\":[{\"marker\":{\"line\":{\"color\":\"#E5ECF6\",\"width\":0.5},\"pattern\":{\"fillmode\":\"overlay\",\"size\":10,\"solidity\":0.2}},\"type\":\"barpolar\"}],\"pie\":[{\"automargin\":true,\"type\":\"pie\"}]},\"layout\":{\"autotypenumbers\":\"strict\",\"colorway\":[\"#636efa\",\"#EF553B\",\"#00cc96\",\"#ab63fa\",\"#FFA15A\",\"#19d3f3\",\"#FF6692\",\"#B6E880\",\"#FF97FF\",\"#FECB52\"],\"font\":{\"color\":\"#2a3f5f\"},\"hovermode\":\"closest\",\"hoverlabel\":{\"align\":\"left\"},\"paper_bgcolor\":\"white\",\"plot_bgcolor\":\"#E5ECF6\",\"polar\":{\"bgcolor\":\"#E5ECF6\",\"angularaxis\":{\"gridcolor\":\"white\",\"linecolor\":\"white\",\"ticks\":\"\"},\"radialaxis\":{\"gridcolor\":\"white\",\"linecolor\":\"white\",\"ticks\":\"\"}},\"ternary\":{\"bgcolor\":\"#E5ECF6\",\"aaxis\":{\"gridcolor\":\"white\",\"linecolor\":\"white\",\"ticks\":\"\"},\"baxis\":{\"gridcolor\":\"white\",\"linecolor\":\"white\",\"ticks\":\"\"},\"caxis\":{\"gridcolor\":\"white\",\"linecolor\":\"white\",\"ticks\":\"\"}},\"coloraxis\":{\"colorbar\":{\"outlinewidth\":0,\"ticks\":\"\"}},\"colorscale\":{\"sequential\":[[0.0,\"#0d0887\"],[0.1111111111111111,\"#46039f\"],[0.2222222222222222,\"#7201a8\"],[0.3333333333333333,\"#9c179e\"],[0.4444444444444444,\"#bd3786\"],[0.5555555555555556,\"#d8576b\"],[0.6666666666666666,\"#ed7953\"],[0.7777777777777778,\"#fb9f3a\"],[0.8888888888888888,\"#fdca26\"],[1.0,\"#f0f921\"]],\"sequentialminus\":[[0.0,\"#0d0887\"],[0.1111111111111111,\"#46039f\"],[0.2222222222222222,\"#7201a8\"],[0.3333333333333333,\"#9c179e\"],[0.4444444444444444,\"#bd3786\"],[0.5555555555555556,\"#d8576b\"],[0.6666666666666666,\"#ed7953\"],[0.7777777777777778,\"#fb9f3a\"],[0.8888888888888888,\"#fdca26\"],[1.0,\"#f0f921\"]],\"diverging\":[[0,\"#8e0152\"],[0.1,\"#c51b7d\"],[0.2,\"#de77ae\"],[0.3,\"#f1b6da\"],[0.4,\"#fde0ef\"],[0.5,\"#f7f7f7\"],[0.6,\"#e6f5d0\"],[0.7,\"#b8e186\"],[0.8,\"#7fbc41\"],[0.9,\"#4d9221\"],[1,\"#276419\"]]},\"xaxis\":{\"gridcolor\":\"white\",\"linecolor\":\"white\",\"ticks\":\"\",\"title\":{\"standoff\":15},\"zerolinecolor\":\"white\",\"automargin\":true,\"zerolinewidth\":2},\"yaxis\":{\"gridcolor\":\"white\",\"linecolor\":\"white\",\"ticks\":\"\",\"title\":{\"standoff\":15},\"zerolinecolor\":\"white\",\"automargin\":true,\"zerolinewidth\":2},\"scene\":{\"xaxis\":{\"backgroundcolor\":\"#E5ECF6\",\"gridcolor\":\"white\",\"linecolor\":\"white\",\"showbackground\":true,\"ticks\":\"\",\"zerolinecolor\":\"white\",\"gridwidth\":2},\"yaxis\":{\"backgroundcolor\":\"#E5ECF6\",\"gridcolor\":\"white\",\"linecolor\":\"white\",\"showbackground\":true,\"ticks\":\"\",\"zerolinecolor\":\"white\",\"gridwidth\":2},\"zaxis\":{\"backgroundcolor\":\"#E5ECF6\",\"gridcolor\":\"white\",\"linecolor\":\"white\",\"showbackground\":true,\"ticks\":\"\",\"zerolinecolor\":\"white\",\"gridwidth\":2}},\"shapedefaults\":{\"line\":{\"color\":\"#2a3f5f\"}},\"annotationdefaults\":{\"arrowcolor\":\"#2a3f5f\",\"arrowhead\":0,\"arrowwidth\":1},\"geo\":{\"bgcolor\":\"white\",\"landcolor\":\"#E5ECF6\",\"subunitcolor\":\"white\",\"showland\":true,\"showlakes\":true,\"lakecolor\":\"white\"},\"title\":{\"x\":0.05},\"mapbox\":{\"style\":\"light\"}}},\"xaxis\":{\"anchor\":\"y\",\"domain\":[0.0,1.0],\"title\":{\"text\":\"AnnualIncomeClass\"}},\"yaxis\":{\"anchor\":\"x\",\"domain\":[0.0,1.0],\"title\":{\"text\":\"count\"}},\"legend\":{\"title\":{\"text\":\"FrequentFlyer\"},\"tracegroupgap\":0},\"margin\":{\"t\":60},\"barmode\":\"relative\"},                        {\"responsive\": true}                    ).then(function(){\n",
              "                            \n",
              "var gd = document.getElementById('46799fd9-fbb5-44d3-9eaf-069dc68dd8e6');\n",
              "var x = new MutationObserver(function (mutations, observer) {{\n",
              "        var display = window.getComputedStyle(gd).display;\n",
              "        if (!display || display === 'none') {{\n",
              "            console.log([gd, 'removed!']);\n",
              "            Plotly.purge(gd);\n",
              "            observer.disconnect();\n",
              "        }}\n",
              "}});\n",
              "\n",
              "// Listen for the removal of the full notebook cells\n",
              "var notebookContainer = gd.closest('#notebook-container');\n",
              "if (notebookContainer) {{\n",
              "    x.observe(notebookContainer, {childList: true});\n",
              "}}\n",
              "\n",
              "// Listen for the clearing of the current output cell\n",
              "var outputEl = gd.closest('.output');\n",
              "if (outputEl) {{\n",
              "    x.observe(outputEl, {childList: true});\n",
              "}}\n",
              "\n",
              "                        })                };                            </script>        </div>\n",
              "</body>\n",
              "</html>"
            ]
          },
          "metadata": {}
        }
      ]
    },
    {
      "cell_type": "markdown",
      "source": [
        "As per the data Middle Income class are not a FrequentFlyer"
      ],
      "metadata": {
        "id": "JVInbR9075o_"
      }
    },
    {
      "cell_type": "code",
      "source": [
        "data['ServicesOpted'].value_counts()"
      ],
      "metadata": {
        "colab": {
          "base_uri": "https://localhost:8080/"
        },
        "id": "N8MT0k3Z70dF",
        "outputId": "849a3a93-66af-4d93-d6ca-bff390e5aba9"
      },
      "execution_count": 12,
      "outputs": [
        {
          "output_type": "execute_result",
          "data": {
            "text/plain": [
              "ServicesOpted\n",
              "1    404\n",
              "2    176\n",
              "3    124\n",
              "4    117\n",
              "5     69\n",
              "6     64\n",
              "Name: count, dtype: int64"
            ]
          },
          "metadata": {},
          "execution_count": 12
        }
      ]
    },
    {
      "cell_type": "code",
      "source": [
        "fig = px.histogram(data,x='AnnualIncomeClass',color='ServicesOpted')\n",
        "fig.show()"
      ],
      "metadata": {
        "colab": {
          "base_uri": "https://localhost:8080/",
          "height": 542
        },
        "id": "Bc6uvg_S8Agx",
        "outputId": "4908f109-5d4b-415d-8cf1-b08ea2fcca68"
      },
      "execution_count": 13,
      "outputs": [
        {
          "output_type": "display_data",
          "data": {
            "text/html": [
              "<html>\n",
              "<head><meta charset=\"utf-8\" /></head>\n",
              "<body>\n",
              "    <div>            <script src=\"https://cdnjs.cloudflare.com/ajax/libs/mathjax/2.7.5/MathJax.js?config=TeX-AMS-MML_SVG\"></script><script type=\"text/javascript\">if (window.MathJax && window.MathJax.Hub && window.MathJax.Hub.Config) {window.MathJax.Hub.Config({SVG: {font: \"STIX-Web\"}});}</script>                <script type=\"text/javascript\">window.PlotlyConfig = {MathJaxConfig: 'local'};</script>\n",
              "        <script charset=\"utf-8\" src=\"https://cdn.plot.ly/plotly-2.24.1.min.js\"></script>                <div id=\"70548cb2-d6c2-4102-af34-004d2e0d0bba\" class=\"plotly-graph-div\" style=\"height:525px; width:100%;\"></div>            <script type=\"text/javascript\">                                    window.PLOTLYENV=window.PLOTLYENV || {};                                    if (document.getElementById(\"70548cb2-d6c2-4102-af34-004d2e0d0bba\")) {                    Plotly.newPlot(                        \"70548cb2-d6c2-4102-af34-004d2e0d0bba\",                        [{\"alignmentgroup\":\"True\",\"bingroup\":\"x\",\"hovertemplate\":\"ServicesOpted=6\\u003cbr\\u003eAnnualIncomeClass=%{x}\\u003cbr\\u003ecount=%{y}\\u003cextra\\u003e\\u003c\\u002fextra\\u003e\",\"legendgroup\":\"6\",\"marker\":{\"color\":\"#636efa\",\"pattern\":{\"shape\":\"\"}},\"name\":\"6\",\"offsetgroup\":\"6\",\"orientation\":\"v\",\"showlegend\":true,\"x\":[\"Middle Income\",\"Low Income\",\"Middle Income\",\"High Income\",\"Middle Income\",\"Middle Income\",\"Middle Income\",\"High Income\",\"Low Income\",\"Middle Income\",\"Middle Income\",\"High Income\",\"Middle Income\",\"Middle Income\",\"Middle Income\",\"High Income\",\"Middle Income\",\"Middle Income\",\"Middle Income\",\"High Income\",\"Middle Income\",\"Middle Income\",\"Low Income\",\"High Income\",\"Middle Income\",\"Middle Income\",\"Middle Income\",\"High Income\",\"Middle Income\",\"Low Income\",\"Middle Income\",\"High Income\",\"Middle Income\",\"Middle Income\",\"Middle Income\",\"High Income\",\"Low Income\",\"Middle Income\",\"Middle Income\",\"High Income\",\"Middle Income\",\"Middle Income\",\"Middle Income\",\"High Income\",\"Middle Income\",\"Middle Income\",\"Middle Income\",\"High Income\",\"Middle Income\",\"Middle Income\",\"Low Income\",\"High Income\",\"Middle Income\",\"Middle Income\",\"Middle Income\",\"High Income\",\"Middle Income\",\"Low Income\",\"Middle Income\",\"High Income\",\"Middle Income\",\"Middle Income\",\"Middle Income\",\"High Income\"],\"xaxis\":\"x\",\"yaxis\":\"y\",\"type\":\"histogram\"},{\"alignmentgroup\":\"True\",\"bingroup\":\"x\",\"hovertemplate\":\"ServicesOpted=5\\u003cbr\\u003eAnnualIncomeClass=%{x}\\u003cbr\\u003ecount=%{y}\\u003cextra\\u003e\\u003c\\u002fextra\\u003e\",\"legendgroup\":\"5\",\"marker\":{\"color\":\"#EF553B\",\"pattern\":{\"shape\":\"\"}},\"name\":\"5\",\"offsetgroup\":\"5\",\"orientation\":\"v\",\"showlegend\":true,\"x\":[\"Low Income\",\"Middle Income\",\"Middle Income\",\"Low Income\",\"High Income\",\"Middle Income\",\"Low Income\",\"Low Income\",\"Low Income\",\"Middle Income\",\"Middle Income\",\"Low Income\",\"Middle Income\",\"Low Income\",\"Low Income\",\"High Income\",\"Middle Income\",\"Low Income\",\"Middle Income\",\"High Income\",\"Low Income\",\"Middle Income\",\"Low Income\",\"Middle Income\",\"Middle Income\",\"Low Income\",\"High Income\",\"Middle Income\",\"Low Income\",\"Middle Income\",\"High Income\",\"Low Income\",\"Middle Income\",\"Low Income\",\"Low Income\",\"Middle Income\",\"Low Income\",\"High Income\",\"Middle Income\",\"Low Income\",\"Middle Income\",\"High Income\",\"Low Income\",\"Middle Income\",\"Middle Income\",\"Low Income\",\"Low Income\",\"Middle Income\",\"Low Income\",\"High Income\",\"Low Income\",\"Middle Income\",\"High Income\",\"Low Income\",\"Middle Income\",\"Middle Income\",\"Low Income\",\"Middle Income\",\"Middle Income\",\"Low Income\",\"High Income\",\"Middle Income\",\"Low Income\",\"Middle Income\",\"Low Income\",\"Low Income\",\"Middle Income\",\"Low Income\",\"Middle Income\"],\"xaxis\":\"x\",\"yaxis\":\"y\",\"type\":\"histogram\"},{\"alignmentgroup\":\"True\",\"bingroup\":\"x\",\"hovertemplate\":\"ServicesOpted=3\\u003cbr\\u003eAnnualIncomeClass=%{x}\\u003cbr\\u003ecount=%{y}\\u003cextra\\u003e\\u003c\\u002fextra\\u003e\",\"legendgroup\":\"3\",\"marker\":{\"color\":\"#00cc96\",\"pattern\":{\"shape\":\"\"}},\"name\":\"3\",\"offsetgroup\":\"3\",\"orientation\":\"v\",\"showlegend\":true,\"x\":[\"Middle Income\",\"Low Income\",\"Middle Income\",\"Middle Income\",\"Middle Income\",\"Middle Income\",\"Low Income\",\"Middle Income\",\"Middle Income\",\"Middle Income\",\"Middle Income\",\"Middle Income\",\"Middle Income\",\"Middle Income\",\"Middle Income\",\"Middle Income\",\"Middle Income\",\"Low Income\",\"Middle Income\",\"Middle Income\",\"Middle Income\",\"Middle Income\",\"Low Income\",\"Middle Income\",\"Middle Income\",\"Middle Income\",\"Middle Income\",\"Middle Income\",\"Low Income\",\"Middle Income\",\"Middle Income\",\"Middle Income\",\"Middle Income\",\"Low Income\",\"Middle Income\",\"Middle Income\",\"Middle Income\",\"Middle Income\",\"Middle Income\",\"Low Income\",\"Middle Income\",\"Middle Income\",\"Middle Income\",\"Middle Income\",\"Low Income\",\"Middle Income\",\"Middle Income\",\"Middle Income\",\"Middle Income\",\"Middle Income\",\"Low Income\",\"Middle Income\",\"Middle Income\",\"Middle Income\",\"Middle Income\",\"Low Income\",\"Middle Income\",\"Middle Income\",\"Middle Income\",\"Middle Income\",\"Middle Income\",\"Low Income\",\"Middle Income\",\"Middle Income\",\"Middle Income\",\"Middle Income\",\"Middle Income\",\"Low Income\",\"Middle Income\",\"Middle Income\",\"Middle Income\",\"Middle Income\",\"Middle Income\",\"Low Income\",\"Middle Income\",\"Middle Income\",\"Middle Income\",\"Middle Income\",\"Low Income\",\"Middle Income\",\"Middle Income\",\"Middle Income\",\"Middle Income\",\"Middle Income\",\"Middle Income\",\"Middle Income\",\"Middle Income\",\"Middle Income\",\"Middle Income\",\"Low Income\",\"Middle Income\",\"Middle Income\",\"Middle Income\",\"Middle Income\",\"Low Income\",\"Middle Income\",\"Middle Income\",\"Middle Income\",\"Middle Income\",\"Middle Income\",\"Low Income\",\"Middle Income\",\"Middle Income\",\"Middle Income\",\"Middle Income\",\"Low Income\",\"Middle Income\",\"Middle Income\",\"Middle Income\",\"Middle Income\",\"Middle Income\",\"Low Income\",\"Middle Income\",\"Middle Income\",\"Middle Income\",\"Middle Income\",\"Low Income\",\"Middle Income\",\"Middle Income\",\"Middle Income\",\"Middle Income\",\"Middle Income\",\"Low Income\",\"Middle Income\"],\"xaxis\":\"x\",\"yaxis\":\"y\",\"type\":\"histogram\"},{\"alignmentgroup\":\"True\",\"bingroup\":\"x\",\"hovertemplate\":\"ServicesOpted=2\\u003cbr\\u003eAnnualIncomeClass=%{x}\\u003cbr\\u003ecount=%{y}\\u003cextra\\u003e\\u003c\\u002fextra\\u003e\",\"legendgroup\":\"2\",\"marker\":{\"color\":\"#ab63fa\",\"pattern\":{\"shape\":\"\"}},\"name\":\"2\",\"offsetgroup\":\"2\",\"orientation\":\"v\",\"showlegend\":true,\"x\":[\"Middle Income\",\"Low Income\",\"Middle Income\",\"Low Income\",\"Middle Income\",\"Low Income\",\"Middle Income\",\"Middle Income\",\"Low Income\",\"Middle Income\",\"Middle Income\",\"Middle Income\",\"Middle Income\",\"Low Income\",\"Low Income\",\"Middle Income\",\"Low Income\",\"Middle Income\",\"Low Income\",\"Low Income\",\"Middle Income\",\"Low Income\",\"Middle Income\",\"Middle Income\",\"Low Income\",\"Middle Income\",\"Middle Income\",\"Low Income\",\"Low Income\",\"Middle Income\",\"Low Income\",\"Middle Income\",\"Low Income\",\"Middle Income\",\"Low Income\",\"Middle Income\",\"Low Income\",\"Middle Income\",\"Middle Income\",\"Low Income\",\"Middle Income\",\"Middle Income\",\"Middle Income\",\"Middle Income\",\"Low Income\",\"Middle Income\",\"Low Income\",\"Low Income\",\"Middle Income\",\"Low Income\",\"Low Income\",\"Middle Income\",\"Low Income\",\"Middle Income\",\"Low Income\",\"Middle Income\",\"Middle Income\",\"Middle Income\",\"Low Income\",\"Low Income\",\"Middle Income\",\"Low Income\",\"Low Income\",\"Middle Income\",\"Low Income\",\"Low Income\",\"Middle Income\",\"Low Income\",\"Middle Income\",\"Low Income\",\"Middle Income\",\"Middle Income\",\"Middle Income\",\"Middle Income\",\"Low Income\",\"Low Income\",\"Middle Income\",\"Low Income\",\"Middle Income\",\"Low Income\",\"Middle Income\",\"Low Income\",\"Low Income\",\"Middle Income\",\"Middle Income\",\"Low Income\",\"Middle Income\",\"Middle Income\",\"Middle Income\",\"Middle Income\",\"Low Income\",\"Low Income\",\"Low Income\",\"Middle Income\",\"Low Income\",\"Middle Income\",\"Low Income\",\"Low Income\",\"Middle Income\",\"Low Income\",\"Middle Income\",\"Middle Income\",\"Middle Income\",\"Middle Income\",\"Middle Income\",\"Low Income\",\"Low Income\",\"Middle Income\",\"Low Income\",\"Middle Income\",\"Low Income\",\"Low Income\",\"Low Income\",\"Middle Income\",\"Low Income\",\"Middle Income\",\"Middle Income\",\"Low Income\",\"Middle Income\",\"Middle Income\",\"Middle Income\",\"Low Income\",\"Low Income\",\"Middle Income\",\"Low Income\",\"Low Income\",\"Middle Income\",\"Low Income\",\"Low Income\",\"Middle Income\",\"Middle Income\",\"Middle Income\",\"Low Income\",\"Middle Income\",\"Middle Income\",\"Middle Income\",\"Low Income\",\"Low Income\",\"Middle Income\",\"Low Income\",\"Middle Income\",\"Low Income\",\"Middle Income\",\"Low Income\",\"Low Income\",\"Middle Income\",\"Low Income\",\"Middle Income\",\"Low Income\",\"Middle Income\",\"Middle Income\",\"Middle Income\",\"Low Income\",\"Low Income\",\"Middle Income\",\"Low Income\",\"Middle Income\",\"Low Income\",\"Middle Income\",\"Middle Income\",\"Low Income\",\"Middle Income\",\"Middle Income\",\"Low Income\",\"Middle Income\",\"Middle Income\",\"Middle Income\",\"Middle Income\",\"Low Income\",\"Low Income\",\"Middle Income\",\"Low Income\",\"Middle Income\",\"Low Income\",\"Low Income\",\"Middle Income\"],\"xaxis\":\"x\",\"yaxis\":\"y\",\"type\":\"histogram\"},{\"alignmentgroup\":\"True\",\"bingroup\":\"x\",\"hovertemplate\":\"ServicesOpted=1\\u003cbr\\u003eAnnualIncomeClass=%{x}\\u003cbr\\u003ecount=%{y}\\u003cextra\\u003e\\u003c\\u002fextra\\u003e\",\"legendgroup\":\"1\",\"marker\":{\"color\":\"#FFA15A\",\"pattern\":{\"shape\":\"\"}},\"name\":\"1\",\"offsetgroup\":\"1\",\"orientation\":\"v\",\"showlegend\":true,\"x\":[\"Low Income\",\"High Income\",\"High Income\",\"Low Income\",\"Middle Income\",\"Low Income\",\"High Income\",\"Middle Income\",\"High Income\",\"Low Income\",\"Middle Income\",\"Low Income\",\"Low Income\",\"High Income\",\"High Income\",\"Low Income\",\"Low Income\",\"Middle Income\",\"Low Income\",\"Low Income\",\"Low Income\",\"Middle Income\",\"High Income\",\"Low Income\",\"Low Income\",\"Low Income\",\"High Income\",\"Low Income\",\"Middle Income\",\"Low Income\",\"High Income\",\"Low Income\",\"High Income\",\"Low Income\",\"Middle Income\",\"Low Income\",\"Low Income\",\"High Income\",\"High Income\",\"Low Income\",\"Middle Income\",\"Low Income\",\"High Income\",\"Middle Income\",\"Low Income\",\"Middle Income\",\"Low Income\",\"Low Income\",\"High Income\",\"Middle Income\",\"High Income\",\"Low Income\",\"Low Income\",\"Middle Income\",\"High Income\",\"Low Income\",\"Low Income\",\"Low Income\",\"High Income\",\"Middle Income\",\"High Income\",\"Low Income\",\"Low Income\",\"Low Income\",\"High Income\",\"Low Income\",\"Middle Income\",\"High Income\",\"Low Income\",\"Low Income\",\"Middle Income\",\"Low Income\",\"Low Income\",\"High Income\",\"High Income\",\"Low Income\",\"Low Income\",\"High Income\",\"Middle Income\",\"High Income\",\"Low Income\",\"Middle Income\",\"Low Income\",\"High Income\",\"Middle Income\",\"High Income\",\"Low Income\",\"Low Income\",\"Low Income\",\"High Income\",\"Low Income\",\"Low Income\",\"Low Income\",\"High Income\",\"Low Income\",\"Middle Income\",\"Low Income\",\"Low Income\",\"High Income\",\"Middle Income\",\"Low Income\",\"Low Income\",\"High Income\",\"Low Income\",\"High Income\",\"Low Income\",\"Middle Income\",\"Low Income\",\"Low Income\",\"High Income\",\"Low Income\",\"Middle Income\",\"Low Income\",\"High Income\",\"High Income\",\"Middle Income\",\"Low Income\",\"Low Income\",\"High Income\",\"Middle Income\",\"Low Income\",\"Low Income\",\"Low Income\",\"Middle Income\",\"High Income\",\"Low Income\",\"Low Income\",\"Low Income\",\"High Income\",\"Middle Income\",\"High Income\",\"Low Income\",\"Middle Income\",\"Low Income\",\"High Income\",\"Middle Income\",\"Low Income\",\"Middle Income\",\"Low Income\",\"High Income\",\"High Income\",\"Low Income\",\"Middle Income\",\"Low Income\",\"Low Income\",\"High Income\",\"Low Income\",\"Middle Income\",\"High Income\",\"Middle Income\",\"High Income\",\"Low Income\",\"Low Income\",\"Low Income\",\"Middle Income\",\"High Income\",\"Low Income\",\"Low Income\",\"Low Income\",\"High Income\",\"Low Income\",\"Low Income\",\"Low Income\",\"High Income\",\"High Income\",\"Low Income\",\"Middle Income\",\"Low Income\",\"Low Income\",\"High Income\",\"Middle Income\",\"Low Income\",\"Middle Income\",\"Low Income\",\"High Income\",\"Low Income\",\"Low Income\",\"Low Income\",\"Low Income\",\"High Income\",\"High Income\",\"Middle Income\",\"Low Income\",\"High Income\",\"Middle Income\",\"High Income\",\"Low Income\",\"Middle Income\",\"Low Income\",\"Low Income\",\"High Income\",\"High Income\",\"Low Income\",\"Low Income\",\"Middle Income\",\"Low Income\",\"Low Income\",\"High Income\",\"Middle Income\",\"High Income\",\"Low Income\",\"Low Income\",\"Low Income\",\"High Income\",\"Middle Income\",\"Low Income\",\"Middle Income\",\"Low Income\",\"High Income\",\"Low Income\",\"High Income\",\"Low Income\",\"Middle Income\",\"Low Income\",\"High Income\",\"High Income\",\"Low Income\",\"Middle Income\",\"Low Income\",\"Middle Income\",\"Low Income\",\"Middle Income\",\"Low Income\",\"Low Income\",\"High Income\",\"High Income\",\"Low Income\",\"Low Income\",\"Middle Income\",\"High Income\",\"Low Income\",\"Low Income\",\"Low Income\",\"High Income\",\"Middle Income\",\"High Income\",\"Low Income\",\"Middle Income\",\"Low Income\",\"Low Income\",\"High Income\",\"Low Income\",\"Middle Income\",\"Low Income\",\"High Income\",\"Low Income\",\"Middle Income\",\"Low Income\",\"Low Income\",\"High Income\",\"High Income\",\"Low Income\",\"Low Income\",\"High Income\",\"Middle Income\",\"High Income\",\"Low Income\",\"Low Income\",\"Low Income\",\"High Income\",\"Middle Income\",\"High Income\",\"Low Income\",\"Low Income\",\"High Income\",\"Low Income\",\"Low Income\",\"Low Income\",\"High Income\",\"Middle Income\",\"Low Income\",\"Middle Income\",\"Low Income\",\"Low Income\",\"High Income\",\"Middle Income\",\"Low Income\",\"Low Income\",\"High Income\",\"Low Income\",\"High Income\",\"Low Income\",\"Middle Income\",\"Low Income\",\"Low Income\",\"High Income\",\"Low Income\",\"Middle Income\",\"Low Income\",\"High Income\",\"High Income\",\"Low Income\",\"Middle Income\",\"Low Income\",\"Low Income\",\"High Income\",\"Middle Income\",\"Low Income\",\"Low Income\",\"Low Income\",\"Middle Income\",\"High Income\",\"Low Income\",\"Low Income\",\"Low Income\",\"High Income\",\"Middle Income\",\"Low Income\",\"Middle Income\",\"Low Income\",\"Low Income\",\"High Income\",\"Middle Income\",\"Middle Income\",\"Low Income\",\"High Income\",\"High Income\",\"Low Income\",\"Middle Income\",\"Low Income\",\"Low Income\",\"High Income\",\"Low Income\",\"Low Income\",\"High Income\",\"Middle Income\",\"High Income\",\"Low Income\",\"Low Income\",\"High Income\",\"Middle Income\",\"High Income\",\"Low Income\",\"Low Income\",\"Low Income\",\"Middle Income\",\"High Income\",\"Low Income\",\"Low Income\",\"Low Income\",\"High Income\",\"High Income\",\"Low Income\",\"Middle Income\",\"Low Income\",\"High Income\",\"Middle Income\",\"Low Income\",\"Middle Income\",\"Low Income\",\"Low Income\",\"High Income\",\"Low Income\",\"Low Income\",\"Low Income\",\"High Income\",\"High Income\",\"Low Income\",\"Middle Income\",\"Low Income\",\"High Income\",\"Middle Income\",\"High Income\",\"Low Income\",\"Middle Income\",\"Low Income\",\"Low Income\",\"High Income\",\"High Income\",\"Low Income\",\"Low Income\",\"Low Income\",\"Middle Income\",\"Low Income\",\"Low Income\",\"Low Income\",\"High Income\",\"Middle Income\",\"High Income\",\"Low Income\",\"Low Income\",\"High Income\",\"Middle Income\",\"Low Income\",\"Middle Income\",\"Low Income\",\"High Income\",\"Low Income\",\"High Income\",\"Low Income\",\"Low Income\",\"Low Income\",\"High Income\",\"High Income\",\"Low Income\",\"Middle Income\",\"Low Income\",\"High Income\",\"Middle Income\",\"Low Income\",\"Middle Income\",\"Low Income\",\"Low Income\",\"High Income\"],\"xaxis\":\"x\",\"yaxis\":\"y\",\"type\":\"histogram\"},{\"alignmentgroup\":\"True\",\"bingroup\":\"x\",\"hovertemplate\":\"ServicesOpted=4\\u003cbr\\u003eAnnualIncomeClass=%{x}\\u003cbr\\u003ecount=%{y}\\u003cextra\\u003e\\u003c\\u002fextra\\u003e\",\"legendgroup\":\"4\",\"marker\":{\"color\":\"#19d3f3\",\"pattern\":{\"shape\":\"\"}},\"name\":\"4\",\"offsetgroup\":\"4\",\"orientation\":\"v\",\"showlegend\":true,\"x\":[\"Middle Income\",\"Low Income\",\"Middle Income\",\"Low Income\",\"High Income\",\"Middle Income\",\"Low Income\",\"Middle Income\",\"High Income\",\"Low Income\",\"Middle Income\",\"Low Income\",\"Middle Income\",\"Middle Income\",\"High Income\",\"Middle Income\",\"Low Income\",\"Middle Income\",\"High Income\",\"Low Income\",\"Middle Income\",\"Middle Income\",\"Low Income\",\"Middle Income\",\"Low Income\",\"Middle Income\",\"Low Income\",\"Middle Income\",\"High Income\",\"Low Income\",\"Middle Income\",\"Middle Income\",\"Low Income\",\"Middle Income\",\"Middle Income\",\"Low Income\",\"High Income\",\"Low Income\",\"Middle Income\",\"High Income\",\"Low Income\",\"Middle Income\",\"Middle Income\",\"Low Income\",\"Middle Income\",\"Middle Income\",\"Low Income\",\"High Income\",\"Middle Income\",\"Middle Income\",\"Low Income\",\"Middle Income\",\"Middle Income\",\"Low Income\",\"Middle Income\",\"Middle Income\",\"Low Income\",\"High Income\",\"Middle Income\",\"Low Income\",\"High Income\",\"Low Income\",\"Middle Income\",\"Low Income\",\"Middle Income\",\"Middle Income\",\"Low Income\",\"High Income\",\"Middle Income\",\"Low Income\",\"Middle Income\",\"Low Income\",\"Middle Income\",\"Middle Income\",\"Low Income\",\"Middle Income\",\"Low Income\",\"High Income\",\"Middle Income\",\"Low Income\",\"Middle Income\",\"High Income\",\"Middle Income\",\"Middle Income\",\"Low Income\",\"Middle Income\",\"Middle Income\",\"Low Income\",\"High Income\",\"Low Income\",\"Middle Income\",\"High Income\",\"Low Income\",\"Middle Income\",\"Low Income\",\"Middle Income\",\"Middle Income\",\"Low Income\",\"High Income\",\"Middle Income\",\"Low Income\",\"Middle Income\",\"Low Income\",\"Middle Income\",\"Low Income\",\"Middle Income\",\"Middle Income\",\"Low Income\",\"High Income\",\"Middle Income\",\"Low Income\",\"Middle Income\",\"High Income\",\"Low Income\",\"Middle Income\",\"Middle Income\",\"Middle Income\"],\"xaxis\":\"x\",\"yaxis\":\"y\",\"type\":\"histogram\"}],                        {\"template\":{\"data\":{\"histogram2dcontour\":[{\"type\":\"histogram2dcontour\",\"colorbar\":{\"outlinewidth\":0,\"ticks\":\"\"},\"colorscale\":[[0.0,\"#0d0887\"],[0.1111111111111111,\"#46039f\"],[0.2222222222222222,\"#7201a8\"],[0.3333333333333333,\"#9c179e\"],[0.4444444444444444,\"#bd3786\"],[0.5555555555555556,\"#d8576b\"],[0.6666666666666666,\"#ed7953\"],[0.7777777777777778,\"#fb9f3a\"],[0.8888888888888888,\"#fdca26\"],[1.0,\"#f0f921\"]]}],\"choropleth\":[{\"type\":\"choropleth\",\"colorbar\":{\"outlinewidth\":0,\"ticks\":\"\"}}],\"histogram2d\":[{\"type\":\"histogram2d\",\"colorbar\":{\"outlinewidth\":0,\"ticks\":\"\"},\"colorscale\":[[0.0,\"#0d0887\"],[0.1111111111111111,\"#46039f\"],[0.2222222222222222,\"#7201a8\"],[0.3333333333333333,\"#9c179e\"],[0.4444444444444444,\"#bd3786\"],[0.5555555555555556,\"#d8576b\"],[0.6666666666666666,\"#ed7953\"],[0.7777777777777778,\"#fb9f3a\"],[0.8888888888888888,\"#fdca26\"],[1.0,\"#f0f921\"]]}],\"heatmap\":[{\"type\":\"heatmap\",\"colorbar\":{\"outlinewidth\":0,\"ticks\":\"\"},\"colorscale\":[[0.0,\"#0d0887\"],[0.1111111111111111,\"#46039f\"],[0.2222222222222222,\"#7201a8\"],[0.3333333333333333,\"#9c179e\"],[0.4444444444444444,\"#bd3786\"],[0.5555555555555556,\"#d8576b\"],[0.6666666666666666,\"#ed7953\"],[0.7777777777777778,\"#fb9f3a\"],[0.8888888888888888,\"#fdca26\"],[1.0,\"#f0f921\"]]}],\"heatmapgl\":[{\"type\":\"heatmapgl\",\"colorbar\":{\"outlinewidth\":0,\"ticks\":\"\"},\"colorscale\":[[0.0,\"#0d0887\"],[0.1111111111111111,\"#46039f\"],[0.2222222222222222,\"#7201a8\"],[0.3333333333333333,\"#9c179e\"],[0.4444444444444444,\"#bd3786\"],[0.5555555555555556,\"#d8576b\"],[0.6666666666666666,\"#ed7953\"],[0.7777777777777778,\"#fb9f3a\"],[0.8888888888888888,\"#fdca26\"],[1.0,\"#f0f921\"]]}],\"contourcarpet\":[{\"type\":\"contourcarpet\",\"colorbar\":{\"outlinewidth\":0,\"ticks\":\"\"}}],\"contour\":[{\"type\":\"contour\",\"colorbar\":{\"outlinewidth\":0,\"ticks\":\"\"},\"colorscale\":[[0.0,\"#0d0887\"],[0.1111111111111111,\"#46039f\"],[0.2222222222222222,\"#7201a8\"],[0.3333333333333333,\"#9c179e\"],[0.4444444444444444,\"#bd3786\"],[0.5555555555555556,\"#d8576b\"],[0.6666666666666666,\"#ed7953\"],[0.7777777777777778,\"#fb9f3a\"],[0.8888888888888888,\"#fdca26\"],[1.0,\"#f0f921\"]]}],\"surface\":[{\"type\":\"surface\",\"colorbar\":{\"outlinewidth\":0,\"ticks\":\"\"},\"colorscale\":[[0.0,\"#0d0887\"],[0.1111111111111111,\"#46039f\"],[0.2222222222222222,\"#7201a8\"],[0.3333333333333333,\"#9c179e\"],[0.4444444444444444,\"#bd3786\"],[0.5555555555555556,\"#d8576b\"],[0.6666666666666666,\"#ed7953\"],[0.7777777777777778,\"#fb9f3a\"],[0.8888888888888888,\"#fdca26\"],[1.0,\"#f0f921\"]]}],\"mesh3d\":[{\"type\":\"mesh3d\",\"colorbar\":{\"outlinewidth\":0,\"ticks\":\"\"}}],\"scatter\":[{\"fillpattern\":{\"fillmode\":\"overlay\",\"size\":10,\"solidity\":0.2},\"type\":\"scatter\"}],\"parcoords\":[{\"type\":\"parcoords\",\"line\":{\"colorbar\":{\"outlinewidth\":0,\"ticks\":\"\"}}}],\"scatterpolargl\":[{\"type\":\"scatterpolargl\",\"marker\":{\"colorbar\":{\"outlinewidth\":0,\"ticks\":\"\"}}}],\"bar\":[{\"error_x\":{\"color\":\"#2a3f5f\"},\"error_y\":{\"color\":\"#2a3f5f\"},\"marker\":{\"line\":{\"color\":\"#E5ECF6\",\"width\":0.5},\"pattern\":{\"fillmode\":\"overlay\",\"size\":10,\"solidity\":0.2}},\"type\":\"bar\"}],\"scattergeo\":[{\"type\":\"scattergeo\",\"marker\":{\"colorbar\":{\"outlinewidth\":0,\"ticks\":\"\"}}}],\"scatterpolar\":[{\"type\":\"scatterpolar\",\"marker\":{\"colorbar\":{\"outlinewidth\":0,\"ticks\":\"\"}}}],\"histogram\":[{\"marker\":{\"pattern\":{\"fillmode\":\"overlay\",\"size\":10,\"solidity\":0.2}},\"type\":\"histogram\"}],\"scattergl\":[{\"type\":\"scattergl\",\"marker\":{\"colorbar\":{\"outlinewidth\":0,\"ticks\":\"\"}}}],\"scatter3d\":[{\"type\":\"scatter3d\",\"line\":{\"colorbar\":{\"outlinewidth\":0,\"ticks\":\"\"}},\"marker\":{\"colorbar\":{\"outlinewidth\":0,\"ticks\":\"\"}}}],\"scattermapbox\":[{\"type\":\"scattermapbox\",\"marker\":{\"colorbar\":{\"outlinewidth\":0,\"ticks\":\"\"}}}],\"scatterternary\":[{\"type\":\"scatterternary\",\"marker\":{\"colorbar\":{\"outlinewidth\":0,\"ticks\":\"\"}}}],\"scattercarpet\":[{\"type\":\"scattercarpet\",\"marker\":{\"colorbar\":{\"outlinewidth\":0,\"ticks\":\"\"}}}],\"carpet\":[{\"aaxis\":{\"endlinecolor\":\"#2a3f5f\",\"gridcolor\":\"white\",\"linecolor\":\"white\",\"minorgridcolor\":\"white\",\"startlinecolor\":\"#2a3f5f\"},\"baxis\":{\"endlinecolor\":\"#2a3f5f\",\"gridcolor\":\"white\",\"linecolor\":\"white\",\"minorgridcolor\":\"white\",\"startlinecolor\":\"#2a3f5f\"},\"type\":\"carpet\"}],\"table\":[{\"cells\":{\"fill\":{\"color\":\"#EBF0F8\"},\"line\":{\"color\":\"white\"}},\"header\":{\"fill\":{\"color\":\"#C8D4E3\"},\"line\":{\"color\":\"white\"}},\"type\":\"table\"}],\"barpolar\":[{\"marker\":{\"line\":{\"color\":\"#E5ECF6\",\"width\":0.5},\"pattern\":{\"fillmode\":\"overlay\",\"size\":10,\"solidity\":0.2}},\"type\":\"barpolar\"}],\"pie\":[{\"automargin\":true,\"type\":\"pie\"}]},\"layout\":{\"autotypenumbers\":\"strict\",\"colorway\":[\"#636efa\",\"#EF553B\",\"#00cc96\",\"#ab63fa\",\"#FFA15A\",\"#19d3f3\",\"#FF6692\",\"#B6E880\",\"#FF97FF\",\"#FECB52\"],\"font\":{\"color\":\"#2a3f5f\"},\"hovermode\":\"closest\",\"hoverlabel\":{\"align\":\"left\"},\"paper_bgcolor\":\"white\",\"plot_bgcolor\":\"#E5ECF6\",\"polar\":{\"bgcolor\":\"#E5ECF6\",\"angularaxis\":{\"gridcolor\":\"white\",\"linecolor\":\"white\",\"ticks\":\"\"},\"radialaxis\":{\"gridcolor\":\"white\",\"linecolor\":\"white\",\"ticks\":\"\"}},\"ternary\":{\"bgcolor\":\"#E5ECF6\",\"aaxis\":{\"gridcolor\":\"white\",\"linecolor\":\"white\",\"ticks\":\"\"},\"baxis\":{\"gridcolor\":\"white\",\"linecolor\":\"white\",\"ticks\":\"\"},\"caxis\":{\"gridcolor\":\"white\",\"linecolor\":\"white\",\"ticks\":\"\"}},\"coloraxis\":{\"colorbar\":{\"outlinewidth\":0,\"ticks\":\"\"}},\"colorscale\":{\"sequential\":[[0.0,\"#0d0887\"],[0.1111111111111111,\"#46039f\"],[0.2222222222222222,\"#7201a8\"],[0.3333333333333333,\"#9c179e\"],[0.4444444444444444,\"#bd3786\"],[0.5555555555555556,\"#d8576b\"],[0.6666666666666666,\"#ed7953\"],[0.7777777777777778,\"#fb9f3a\"],[0.8888888888888888,\"#fdca26\"],[1.0,\"#f0f921\"]],\"sequentialminus\":[[0.0,\"#0d0887\"],[0.1111111111111111,\"#46039f\"],[0.2222222222222222,\"#7201a8\"],[0.3333333333333333,\"#9c179e\"],[0.4444444444444444,\"#bd3786\"],[0.5555555555555556,\"#d8576b\"],[0.6666666666666666,\"#ed7953\"],[0.7777777777777778,\"#fb9f3a\"],[0.8888888888888888,\"#fdca26\"],[1.0,\"#f0f921\"]],\"diverging\":[[0,\"#8e0152\"],[0.1,\"#c51b7d\"],[0.2,\"#de77ae\"],[0.3,\"#f1b6da\"],[0.4,\"#fde0ef\"],[0.5,\"#f7f7f7\"],[0.6,\"#e6f5d0\"],[0.7,\"#b8e186\"],[0.8,\"#7fbc41\"],[0.9,\"#4d9221\"],[1,\"#276419\"]]},\"xaxis\":{\"gridcolor\":\"white\",\"linecolor\":\"white\",\"ticks\":\"\",\"title\":{\"standoff\":15},\"zerolinecolor\":\"white\",\"automargin\":true,\"zerolinewidth\":2},\"yaxis\":{\"gridcolor\":\"white\",\"linecolor\":\"white\",\"ticks\":\"\",\"title\":{\"standoff\":15},\"zerolinecolor\":\"white\",\"automargin\":true,\"zerolinewidth\":2},\"scene\":{\"xaxis\":{\"backgroundcolor\":\"#E5ECF6\",\"gridcolor\":\"white\",\"linecolor\":\"white\",\"showbackground\":true,\"ticks\":\"\",\"zerolinecolor\":\"white\",\"gridwidth\":2},\"yaxis\":{\"backgroundcolor\":\"#E5ECF6\",\"gridcolor\":\"white\",\"linecolor\":\"white\",\"showbackground\":true,\"ticks\":\"\",\"zerolinecolor\":\"white\",\"gridwidth\":2},\"zaxis\":{\"backgroundcolor\":\"#E5ECF6\",\"gridcolor\":\"white\",\"linecolor\":\"white\",\"showbackground\":true,\"ticks\":\"\",\"zerolinecolor\":\"white\",\"gridwidth\":2}},\"shapedefaults\":{\"line\":{\"color\":\"#2a3f5f\"}},\"annotationdefaults\":{\"arrowcolor\":\"#2a3f5f\",\"arrowhead\":0,\"arrowwidth\":1},\"geo\":{\"bgcolor\":\"white\",\"landcolor\":\"#E5ECF6\",\"subunitcolor\":\"white\",\"showland\":true,\"showlakes\":true,\"lakecolor\":\"white\"},\"title\":{\"x\":0.05},\"mapbox\":{\"style\":\"light\"}}},\"xaxis\":{\"anchor\":\"y\",\"domain\":[0.0,1.0],\"title\":{\"text\":\"AnnualIncomeClass\"}},\"yaxis\":{\"anchor\":\"x\",\"domain\":[0.0,1.0],\"title\":{\"text\":\"count\"}},\"legend\":{\"title\":{\"text\":\"ServicesOpted\"},\"tracegroupgap\":0},\"margin\":{\"t\":60},\"barmode\":\"relative\"},                        {\"responsive\": true}                    ).then(function(){\n",
              "                            \n",
              "var gd = document.getElementById('70548cb2-d6c2-4102-af34-004d2e0d0bba');\n",
              "var x = new MutationObserver(function (mutations, observer) {{\n",
              "        var display = window.getComputedStyle(gd).display;\n",
              "        if (!display || display === 'none') {{\n",
              "            console.log([gd, 'removed!']);\n",
              "            Plotly.purge(gd);\n",
              "            observer.disconnect();\n",
              "        }}\n",
              "}});\n",
              "\n",
              "// Listen for the removal of the full notebook cells\n",
              "var notebookContainer = gd.closest('#notebook-container');\n",
              "if (notebookContainer) {{\n",
              "    x.observe(notebookContainer, {childList: true});\n",
              "}}\n",
              "\n",
              "// Listen for the clearing of the current output cell\n",
              "var outputEl = gd.closest('.output');\n",
              "if (outputEl) {{\n",
              "    x.observe(outputEl, {childList: true});\n",
              "}}\n",
              "\n",
              "                        })                };                            </script>        </div>\n",
              "</body>\n",
              "</html>"
            ]
          },
          "metadata": {}
        }
      ]
    },
    {
      "cell_type": "code",
      "source": [
        "fig = px.histogram(data,x='AnnualIncomeClass',color='BookedHotelOrNot')\n",
        "fig.show()"
      ],
      "metadata": {
        "colab": {
          "base_uri": "https://localhost:8080/",
          "height": 542
        },
        "id": "wsp8-AWG8IAi",
        "outputId": "61d178b9-e984-4610-d245-eb69daf90b91"
      },
      "execution_count": 14,
      "outputs": [
        {
          "output_type": "display_data",
          "data": {
            "text/html": [
              "<html>\n",
              "<head><meta charset=\"utf-8\" /></head>\n",
              "<body>\n",
              "    <div>            <script src=\"https://cdnjs.cloudflare.com/ajax/libs/mathjax/2.7.5/MathJax.js?config=TeX-AMS-MML_SVG\"></script><script type=\"text/javascript\">if (window.MathJax && window.MathJax.Hub && window.MathJax.Hub.Config) {window.MathJax.Hub.Config({SVG: {font: \"STIX-Web\"}});}</script>                <script type=\"text/javascript\">window.PlotlyConfig = {MathJaxConfig: 'local'};</script>\n",
              "        <script charset=\"utf-8\" src=\"https://cdn.plot.ly/plotly-2.24.1.min.js\"></script>                <div id=\"1467426e-98e4-4450-aca5-f80d1569c65a\" class=\"plotly-graph-div\" style=\"height:525px; width:100%;\"></div>            <script type=\"text/javascript\">                                    window.PLOTLYENV=window.PLOTLYENV || {};                                    if (document.getElementById(\"1467426e-98e4-4450-aca5-f80d1569c65a\")) {                    Plotly.newPlot(                        \"1467426e-98e4-4450-aca5-f80d1569c65a\",                        [{\"alignmentgroup\":\"True\",\"bingroup\":\"x\",\"hovertemplate\":\"BookedHotelOrNot=Yes\\u003cbr\\u003eAnnualIncomeClass=%{x}\\u003cbr\\u003ecount=%{y}\\u003cextra\\u003e\\u003c\\u002fextra\\u003e\",\"legendgroup\":\"Yes\",\"marker\":{\"color\":\"#636efa\",\"pattern\":{\"shape\":\"\"}},\"name\":\"Yes\",\"offsetgroup\":\"Yes\",\"orientation\":\"v\",\"showlegend\":true,\"x\":[\"Middle Income\",\"High Income\",\"Middle Income\",\"Low Income\",\"Low Income\",\"Middle Income\",\"Low Income\",\"Low Income\",\"Middle Income\",\"Middle Income\",\"Middle Income\",\"Low Income\",\"Middle Income\",\"Middle Income\",\"Low Income\",\"Low Income\",\"Middle Income\",\"High Income\",\"Middle Income\",\"Low Income\",\"Middle Income\",\"Low Income\",\"Middle Income\",\"Middle Income\",\"Low Income\",\"High Income\",\"Middle Income\",\"Low Income\",\"Middle Income\",\"Middle Income\",\"Low Income\",\"Middle Income\",\"Middle Income\",\"Low Income\",\"Low Income\",\"Middle Income\",\"Middle Income\",\"Middle Income\",\"Low Income\",\"Middle Income\",\"Middle Income\",\"High Income\",\"Middle Income\",\"Middle Income\",\"Low Income\",\"Middle Income\",\"Low Income\",\"Low Income\",\"High Income\",\"Middle Income\",\"Middle Income\",\"Low Income\",\"Middle Income\",\"Middle Income\",\"Low Income\",\"Middle Income\",\"Middle Income\",\"Middle Income\",\"Low Income\",\"Middle Income\",\"Middle Income\",\"Low Income\",\"Middle Income\",\"Low Income\",\"Low Income\",\"High Income\",\"Middle Income\",\"Middle Income\",\"Middle Income\",\"Low Income\",\"Low Income\",\"Middle Income\",\"High Income\",\"Middle Income\",\"Low Income\",\"Middle Income\",\"Middle Income\",\"Middle Income\",\"Middle Income\",\"Low Income\",\"Low Income\",\"Low Income\",\"Middle Income\",\"Middle Income\",\"Middle Income\",\"Low Income\",\"Middle Income\",\"Middle Income\",\"High Income\",\"Middle Income\",\"Middle Income\",\"Low Income\",\"Middle Income\",\"Low Income\",\"Middle Income\",\"High Income\",\"Low Income\",\"Middle Income\",\"Low Income\",\"Middle Income\",\"Middle Income\",\"Low Income\",\"Middle Income\",\"Low Income\",\"Middle Income\",\"Low Income\",\"Middle Income\",\"Middle Income\",\"Middle Income\",\"Middle Income\",\"Low Income\",\"Middle Income\",\"High Income\",\"Low Income\",\"Middle Income\",\"Middle Income\",\"Low Income\",\"Middle Income\",\"Middle Income\",\"Low Income\",\"High Income\",\"Middle Income\",\"Low Income\",\"Middle Income\",\"Middle Income\",\"Middle Income\",\"Middle Income\",\"Middle Income\",\"Low Income\",\"Low Income\",\"Low Income\",\"Middle Income\",\"Middle Income\",\"Low Income\",\"Middle Income\",\"Low Income\",\"High Income\",\"Middle Income\",\"Middle Income\",\"Low Income\",\"Middle Income\",\"Low Income\",\"Middle Income\",\"High Income\",\"Middle Income\",\"Middle Income\",\"Low Income\",\"Low Income\",\"Middle Income\",\"Low Income\",\"Middle Income\",\"Middle Income\",\"Middle Income\",\"Low Income\",\"Middle Income\",\"Middle Income\",\"Middle Income\",\"Middle Income\",\"Low Income\",\"Middle Income\",\"High Income\",\"Middle Income\",\"Middle Income\",\"Low Income\",\"Low Income\",\"Middle Income\",\"Middle Income\",\"Low Income\",\"High Income\",\"Middle Income\",\"Low Income\",\"Middle Income\",\"Low Income\",\"Middle Income\",\"Middle Income\",\"Middle Income\",\"Low Income\",\"Low Income\",\"Middle Income\",\"Middle Income\",\"Low Income\",\"Low Income\",\"Middle Income\",\"Middle Income\",\"High Income\",\"Middle Income\",\"Low Income\",\"Low Income\",\"Middle Income\",\"Low Income\",\"Middle Income\",\"High Income\",\"Middle Income\",\"Middle Income\",\"Low Income\",\"Middle Income\",\"Middle Income\",\"Low Income\",\"Low Income\",\"Middle Income\",\"Middle Income\",\"Low Income\",\"Middle Income\",\"Low Income\",\"Middle Income\",\"Middle Income\",\"Low Income\",\"Middle Income\",\"High Income\",\"Middle Income\",\"Middle Income\",\"Middle Income\",\"Low Income\",\"Middle Income\",\"Low Income\",\"Low Income\",\"High Income\",\"Middle Income\",\"Low Income\",\"Middle Income\",\"Middle Income\",\"Middle Income\",\"Middle Income\",\"Middle Income\",\"Low Income\",\"Low Income\",\"Middle Income\",\"Low Income\",\"Middle Income\",\"Low Income\",\"Low Income\",\"Middle Income\",\"High Income\",\"Middle Income\",\"Middle Income\",\"Middle Income\",\"Low Income\",\"Middle Income\",\"High Income\",\"Middle Income\",\"Middle Income\",\"Low Income\",\"Middle Income\",\"Middle Income\",\"Low Income\",\"Middle Income\",\"Middle Income\",\"Low Income\",\"Low Income\",\"Middle Income\",\"Middle Income\",\"Middle Income\",\"Middle Income\",\"Low Income\",\"Middle Income\",\"High Income\",\"Middle Income\",\"Middle Income\",\"Middle Income\",\"Low Income\",\"Middle Income\",\"Middle Income\",\"Low Income\",\"High Income\",\"Low Income\",\"Low Income\",\"Middle Income\",\"Middle Income\",\"Middle Income\",\"Low Income\",\"Middle Income\",\"Low Income\",\"Low Income\",\"Middle Income\",\"Middle Income\",\"Middle Income\",\"Low Income\",\"Middle Income\",\"Middle Income\",\"High Income\",\"Low Income\",\"Middle Income\",\"Low Income\",\"Middle Income\",\"Low Income\",\"Middle Income\",\"High Income\",\"Middle Income\",\"Middle Income\",\"Low Income\",\"Middle Income\",\"Middle Income\",\"Low Income\",\"Middle Income\",\"Middle Income\",\"Middle Income\",\"Low Income\",\"Low Income\",\"Middle Income\",\"Middle Income\",\"Middle Income\",\"Low Income\",\"Middle Income\",\"High Income\",\"Middle Income\",\"Middle Income\",\"Middle Income\",\"Low Income\",\"Middle Income\",\"Low Income\",\"High Income\",\"Middle Income\",\"Low Income\",\"Low Income\",\"Middle Income\",\"Middle Income\",\"Middle Income\",\"Middle Income\",\"Low Income\",\"Low Income\",\"Middle Income\",\"Middle Income\",\"Middle Income\",\"Low Income\",\"Middle Income\",\"Middle Income\",\"High Income\",\"Middle Income\",\"Middle Income\",\"Low Income\",\"Low Income\",\"Low Income\",\"Middle Income\",\"High Income\",\"Middle Income\",\"Low Income\",\"Low Income\",\"Middle Income\",\"Low Income\",\"Low Income\",\"Middle Income\",\"Middle Income\",\"Middle Income\",\"Low Income\",\"Middle Income\",\"Middle Income\",\"Middle Income\",\"Low Income\",\"Low Income\",\"Middle Income\",\"High Income\",\"Middle Income\",\"Low Income\",\"Middle Income\",\"Low Income\",\"Middle Income\",\"Middle Income\",\"Low Income\",\"High Income\",\"Middle Income\",\"Low Income\",\"Middle Income\",\"Middle Income\",\"Low Income\",\"Middle Income\",\"Middle Income\",\"Low Income\",\"Low Income\",\"Middle Income\",\"Middle Income\",\"Middle Income\",\"Low Income\",\"Middle Income\",\"Middle Income\",\"High Income\",\"Middle Income\",\"Middle Income\",\"Low Income\"],\"xaxis\":\"x\",\"yaxis\":\"y\",\"type\":\"histogram\"},{\"alignmentgroup\":\"True\",\"bingroup\":\"x\",\"hovertemplate\":\"BookedHotelOrNot=No\\u003cbr\\u003eAnnualIncomeClass=%{x}\\u003cbr\\u003ecount=%{y}\\u003cextra\\u003e\\u003c\\u002fextra\\u003e\",\"legendgroup\":\"No\",\"marker\":{\"color\":\"#EF553B\",\"pattern\":{\"shape\":\"\"}},\"name\":\"No\",\"offsetgroup\":\"No\",\"orientation\":\"v\",\"showlegend\":true,\"x\":[\"Low Income\",\"Middle Income\",\"Middle Income\",\"Low Income\",\"Low Income\",\"High Income\",\"Middle Income\",\"Low Income\",\"Middle Income\",\"High Income\",\"Low Income\",\"High Income\",\"Low Income\",\"Middle Income\",\"Middle Income\",\"Middle Income\",\"Low Income\",\"High Income\",\"Low Income\",\"Middle Income\",\"High Income\",\"Low Income\",\"Low Income\",\"Middle Income\",\"Middle Income\",\"High Income\",\"Low Income\",\"Middle Income\",\"Low Income\",\"Middle Income\",\"Low Income\",\"Middle Income\",\"Low Income\",\"High Income\",\"High Income\",\"Low Income\",\"Middle Income\",\"Low Income\",\"Middle Income\",\"Middle Income\",\"Low Income\",\"Middle Income\",\"High Income\",\"Low Income\",\"Low Income\",\"Middle Income\",\"Low Income\",\"High Income\",\"Low Income\",\"High Income\",\"Low Income\",\"Middle Income\",\"Middle Income\",\"Middle Income\",\"High Income\",\"Low Income\",\"Low Income\",\"High Income\",\"Low Income\",\"Low Income\",\"Middle Income\",\"Low Income\",\"High Income\",\"Low Income\",\"Low Income\",\"Middle Income\",\"Low Income\",\"Middle Income\",\"High Income\",\"Middle Income\",\"High Income\",\"Low Income\",\"Middle Income\",\"Low Income\",\"Middle Income\",\"Middle Income\",\"Low Income\",\"Low Income\",\"High Income\",\"Middle Income\",\"Low Income\",\"Low Income\",\"High Income\",\"Low Income\",\"High Income\",\"Low Income\",\"Middle Income\",\"Middle Income\",\"Middle Income\",\"Low Income\",\"High Income\",\"Low Income\",\"High Income\",\"Low Income\",\"Low Income\",\"Middle Income\",\"Middle Income\",\"High Income\",\"Low Income\",\"Middle Income\",\"Low Income\",\"Middle Income\",\"Low Income\",\"Middle Income\",\"Low Income\",\"High Income\",\"High Income\",\"Low Income\",\"Middle Income\",\"Low Income\",\"Middle Income\",\"Low Income\",\"Low Income\",\"Low Income\",\"Middle Income\",\"High Income\",\"Middle Income\",\"Low Income\",\"Middle Income\",\"Low Income\",\"High Income\",\"Low Income\",\"High Income\",\"Low Income\",\"Middle Income\",\"Middle Income\",\"Middle Income\",\"High Income\",\"Low Income\",\"Middle Income\",\"High Income\",\"Low Income\",\"Low Income\",\"Low Income\",\"Middle Income\",\"High Income\",\"Low Income\",\"Low Income\",\"Middle Income\",\"Low Income\",\"Middle Income\",\"High Income\",\"Middle Income\",\"High Income\",\"Low Income\",\"Low Income\",\"Low Income\",\"Middle Income\",\"Middle Income\",\"Low Income\",\"Low Income\",\"High Income\",\"Middle Income\",\"Low Income\",\"Middle Income\",\"High Income\",\"Low Income\",\"High Income\",\"Low Income\",\"Middle Income\",\"Middle Income\",\"Low Income\",\"Low Income\",\"High Income\",\"Low Income\",\"High Income\",\"Low Income\",\"Low Income\",\"Middle Income\",\"Middle Income\",\"High Income\",\"Low Income\",\"Middle Income\",\"Low Income\",\"Middle Income\",\"Low Income\",\"Middle Income\",\"Low Income\",\"High Income\",\"High Income\",\"Low Income\",\"Middle Income\",\"Low Income\",\"Low Income\",\"Middle Income\",\"Low Income\",\"Middle Income\",\"High Income\",\"Middle Income\",\"Low Income\",\"Middle Income\",\"Low Income\",\"High Income\",\"Low Income\",\"High Income\",\"Low Income\",\"Low Income\",\"Middle Income\",\"Middle Income\",\"High Income\",\"Low Income\",\"Middle Income\",\"High Income\",\"Low Income\",\"Low Income\",\"Middle Income\",\"Middle Income\",\"High Income\",\"Low Income\",\"Low Income\",\"Middle Income\",\"Low Income\",\"Low Income\",\"High Income\",\"Middle Income\",\"High Income\",\"Low Income\",\"Middle Income\",\"Low Income\",\"Middle Income\",\"Middle Income\",\"Low Income\",\"Low Income\",\"High Income\",\"Middle Income\",\"Low Income\",\"Middle Income\",\"High Income\",\"Low Income\",\"High Income\",\"Low Income\",\"Middle Income\",\"Low Income\",\"Middle Income\",\"Low Income\",\"High Income\",\"Low Income\",\"High Income\",\"Low Income\",\"Low Income\",\"Middle Income\",\"Middle Income\",\"High Income\",\"Low Income\",\"Middle Income\",\"Low Income\",\"Low Income\",\"Low Income\",\"Middle Income\",\"Low Income\",\"High Income\",\"High Income\",\"Low Income\",\"Middle Income\",\"Low Income\",\"Middle Income\",\"Middle Income\",\"Low Income\",\"Low Income\",\"High Income\",\"Middle Income\",\"Low Income\",\"Middle Income\",\"Low Income\",\"High Income\",\"Low Income\",\"High Income\",\"Low Income\",\"Middle Income\",\"Middle Income\",\"Middle Income\",\"High Income\",\"Low Income\",\"Middle Income\",\"High Income\",\"Low Income\",\"Low Income\",\"Middle Income\",\"Middle Income\",\"High Income\",\"Low Income\",\"Low Income\",\"Middle Income\",\"Low Income\",\"Middle Income\",\"High Income\",\"Middle Income\",\"High Income\",\"Low Income\",\"Middle Income\",\"Low Income\",\"Middle Income\",\"Middle Income\",\"Low Income\",\"Low Income\",\"High Income\",\"Low Income\",\"Low Income\",\"Middle Income\",\"High Income\",\"Low Income\",\"High Income\",\"Low Income\",\"Middle Income\",\"Middle Income\",\"Middle Income\",\"Low Income\",\"High Income\",\"Low Income\",\"High Income\",\"Low Income\",\"Low Income\",\"Middle Income\",\"Low Income\",\"High Income\",\"Low Income\",\"Middle Income\",\"Low Income\",\"Middle Income\",\"Low Income\",\"Middle Income\",\"Low Income\",\"High Income\",\"High Income\",\"Low Income\",\"Middle Income\",\"Low Income\",\"Middle Income\",\"Middle Income\",\"Low Income\",\"Middle Income\",\"High Income\",\"Middle Income\",\"Low Income\",\"Low Income\",\"Low Income\",\"High Income\",\"Low Income\",\"High Income\",\"Low Income\",\"Middle Income\",\"Middle Income\",\"Middle Income\",\"High Income\",\"Low Income\",\"Middle Income\",\"High Income\",\"Low Income\",\"Low Income\",\"Middle Income\",\"Middle Income\",\"High Income\",\"Low Income\",\"Low Income\",\"Middle Income\",\"Low Income\",\"Middle Income\",\"Low Income\",\"High Income\",\"Low Income\",\"High Income\",\"Low Income\",\"Middle Income\",\"Low Income\",\"Middle Income\",\"Low Income\",\"Low Income\",\"Low Income\",\"High Income\",\"Middle Income\",\"Low Income\",\"Middle Income\",\"High Income\",\"Low Income\",\"High Income\",\"Low Income\",\"Middle Income\",\"Middle Income\",\"Middle Income\",\"Low Income\",\"High Income\",\"Low Income\",\"High Income\",\"Low Income\",\"Low Income\",\"Low Income\",\"Middle Income\",\"High Income\",\"Low Income\",\"Middle Income\",\"Low Income\",\"Middle Income\",\"Low Income\",\"Middle Income\",\"Low Income\",\"High Income\",\"High Income\",\"Low Income\",\"Low Income\",\"Low Income\",\"Middle Income\",\"Middle Income\",\"Low Income\",\"Middle Income\",\"High Income\",\"Middle Income\",\"Low Income\",\"Middle Income\",\"Low Income\",\"High Income\",\"Low Income\",\"High Income\",\"Low Income\",\"Middle Income\",\"Middle Income\",\"Low Income\",\"High Income\",\"Low Income\",\"Middle Income\",\"High Income\",\"Low Income\",\"Low Income\",\"Middle Income\",\"Middle Income\",\"High Income\",\"Low Income\",\"Low Income\",\"Middle Income\",\"Low Income\",\"Middle Income\",\"High Income\",\"Middle Income\",\"High Income\",\"Low Income\",\"Middle Income\",\"Low Income\",\"Low Income\",\"Middle Income\",\"Low Income\",\"Low Income\",\"High Income\",\"Middle Income\",\"Low Income\",\"Middle Income\",\"High Income\",\"Low Income\",\"High Income\",\"Low Income\",\"Low Income\",\"Middle Income\",\"Middle Income\",\"Low Income\",\"High Income\",\"Low Income\",\"High Income\",\"Low Income\",\"Low Income\",\"Middle Income\",\"Middle Income\",\"High Income\",\"Low Income\",\"Low Income\",\"Low Income\",\"Middle Income\",\"Low Income\",\"Low Income\",\"Low Income\",\"High Income\",\"Middle Income\",\"High Income\",\"Low Income\",\"Middle Income\",\"Low Income\",\"Middle Income\",\"Middle Income\",\"Low Income\",\"Middle Income\",\"High Income\",\"Middle Income\",\"Low Income\",\"Middle Income\",\"Low Income\",\"High Income\",\"Low Income\",\"High Income\",\"Low Income\",\"Middle Income\",\"Low Income\",\"Middle Income\",\"High Income\",\"Low Income\",\"Middle Income\",\"High Income\",\"Low Income\",\"Low Income\",\"Middle Income\",\"Middle Income\",\"High Income\",\"Low Income\",\"Low Income\",\"Low Income\",\"Low Income\",\"Middle Income\",\"High Income\",\"Middle Income\",\"High Income\",\"Low Income\",\"Middle Income\",\"Low Income\",\"Middle Income\",\"Middle Income\",\"Low Income\",\"Low Income\",\"High Income\",\"Middle Income\",\"Low Income\",\"Middle Income\",\"High Income\",\"Low Income\",\"High Income\",\"Low Income\",\"Middle Income\",\"Middle Income\",\"Middle Income\",\"Low Income\",\"High Income\",\"Low Income\",\"High Income\",\"Low Income\",\"Low Income\",\"Middle Income\",\"Middle Income\",\"High Income\",\"Low Income\",\"Middle Income\",\"Low Income\",\"Middle Income\",\"Low Income\",\"Middle Income\",\"Low Income\",\"High Income\",\"High Income\",\"Low Income\",\"Middle Income\",\"Low Income\",\"Middle Income\",\"Middle Income\",\"Low Income\",\"Middle Income\",\"High Income\",\"Low Income\",\"Low Income\",\"Middle Income\",\"Low Income\",\"High Income\",\"Low Income\",\"High Income\",\"Low Income\",\"Middle Income\",\"Middle Income\",\"Middle Income\",\"High Income\",\"Low Income\",\"Low Income\",\"High Income\",\"Low Income\",\"Low Income\",\"Middle Income\",\"Low Income\",\"High Income\",\"Low Income\",\"Low Income\",\"Middle Income\",\"Low Income\",\"Middle Income\",\"High Income\"],\"xaxis\":\"x\",\"yaxis\":\"y\",\"type\":\"histogram\"}],                        {\"template\":{\"data\":{\"histogram2dcontour\":[{\"type\":\"histogram2dcontour\",\"colorbar\":{\"outlinewidth\":0,\"ticks\":\"\"},\"colorscale\":[[0.0,\"#0d0887\"],[0.1111111111111111,\"#46039f\"],[0.2222222222222222,\"#7201a8\"],[0.3333333333333333,\"#9c179e\"],[0.4444444444444444,\"#bd3786\"],[0.5555555555555556,\"#d8576b\"],[0.6666666666666666,\"#ed7953\"],[0.7777777777777778,\"#fb9f3a\"],[0.8888888888888888,\"#fdca26\"],[1.0,\"#f0f921\"]]}],\"choropleth\":[{\"type\":\"choropleth\",\"colorbar\":{\"outlinewidth\":0,\"ticks\":\"\"}}],\"histogram2d\":[{\"type\":\"histogram2d\",\"colorbar\":{\"outlinewidth\":0,\"ticks\":\"\"},\"colorscale\":[[0.0,\"#0d0887\"],[0.1111111111111111,\"#46039f\"],[0.2222222222222222,\"#7201a8\"],[0.3333333333333333,\"#9c179e\"],[0.4444444444444444,\"#bd3786\"],[0.5555555555555556,\"#d8576b\"],[0.6666666666666666,\"#ed7953\"],[0.7777777777777778,\"#fb9f3a\"],[0.8888888888888888,\"#fdca26\"],[1.0,\"#f0f921\"]]}],\"heatmap\":[{\"type\":\"heatmap\",\"colorbar\":{\"outlinewidth\":0,\"ticks\":\"\"},\"colorscale\":[[0.0,\"#0d0887\"],[0.1111111111111111,\"#46039f\"],[0.2222222222222222,\"#7201a8\"],[0.3333333333333333,\"#9c179e\"],[0.4444444444444444,\"#bd3786\"],[0.5555555555555556,\"#d8576b\"],[0.6666666666666666,\"#ed7953\"],[0.7777777777777778,\"#fb9f3a\"],[0.8888888888888888,\"#fdca26\"],[1.0,\"#f0f921\"]]}],\"heatmapgl\":[{\"type\":\"heatmapgl\",\"colorbar\":{\"outlinewidth\":0,\"ticks\":\"\"},\"colorscale\":[[0.0,\"#0d0887\"],[0.1111111111111111,\"#46039f\"],[0.2222222222222222,\"#7201a8\"],[0.3333333333333333,\"#9c179e\"],[0.4444444444444444,\"#bd3786\"],[0.5555555555555556,\"#d8576b\"],[0.6666666666666666,\"#ed7953\"],[0.7777777777777778,\"#fb9f3a\"],[0.8888888888888888,\"#fdca26\"],[1.0,\"#f0f921\"]]}],\"contourcarpet\":[{\"type\":\"contourcarpet\",\"colorbar\":{\"outlinewidth\":0,\"ticks\":\"\"}}],\"contour\":[{\"type\":\"contour\",\"colorbar\":{\"outlinewidth\":0,\"ticks\":\"\"},\"colorscale\":[[0.0,\"#0d0887\"],[0.1111111111111111,\"#46039f\"],[0.2222222222222222,\"#7201a8\"],[0.3333333333333333,\"#9c179e\"],[0.4444444444444444,\"#bd3786\"],[0.5555555555555556,\"#d8576b\"],[0.6666666666666666,\"#ed7953\"],[0.7777777777777778,\"#fb9f3a\"],[0.8888888888888888,\"#fdca26\"],[1.0,\"#f0f921\"]]}],\"surface\":[{\"type\":\"surface\",\"colorbar\":{\"outlinewidth\":0,\"ticks\":\"\"},\"colorscale\":[[0.0,\"#0d0887\"],[0.1111111111111111,\"#46039f\"],[0.2222222222222222,\"#7201a8\"],[0.3333333333333333,\"#9c179e\"],[0.4444444444444444,\"#bd3786\"],[0.5555555555555556,\"#d8576b\"],[0.6666666666666666,\"#ed7953\"],[0.7777777777777778,\"#fb9f3a\"],[0.8888888888888888,\"#fdca26\"],[1.0,\"#f0f921\"]]}],\"mesh3d\":[{\"type\":\"mesh3d\",\"colorbar\":{\"outlinewidth\":0,\"ticks\":\"\"}}],\"scatter\":[{\"fillpattern\":{\"fillmode\":\"overlay\",\"size\":10,\"solidity\":0.2},\"type\":\"scatter\"}],\"parcoords\":[{\"type\":\"parcoords\",\"line\":{\"colorbar\":{\"outlinewidth\":0,\"ticks\":\"\"}}}],\"scatterpolargl\":[{\"type\":\"scatterpolargl\",\"marker\":{\"colorbar\":{\"outlinewidth\":0,\"ticks\":\"\"}}}],\"bar\":[{\"error_x\":{\"color\":\"#2a3f5f\"},\"error_y\":{\"color\":\"#2a3f5f\"},\"marker\":{\"line\":{\"color\":\"#E5ECF6\",\"width\":0.5},\"pattern\":{\"fillmode\":\"overlay\",\"size\":10,\"solidity\":0.2}},\"type\":\"bar\"}],\"scattergeo\":[{\"type\":\"scattergeo\",\"marker\":{\"colorbar\":{\"outlinewidth\":0,\"ticks\":\"\"}}}],\"scatterpolar\":[{\"type\":\"scatterpolar\",\"marker\":{\"colorbar\":{\"outlinewidth\":0,\"ticks\":\"\"}}}],\"histogram\":[{\"marker\":{\"pattern\":{\"fillmode\":\"overlay\",\"size\":10,\"solidity\":0.2}},\"type\":\"histogram\"}],\"scattergl\":[{\"type\":\"scattergl\",\"marker\":{\"colorbar\":{\"outlinewidth\":0,\"ticks\":\"\"}}}],\"scatter3d\":[{\"type\":\"scatter3d\",\"line\":{\"colorbar\":{\"outlinewidth\":0,\"ticks\":\"\"}},\"marker\":{\"colorbar\":{\"outlinewidth\":0,\"ticks\":\"\"}}}],\"scattermapbox\":[{\"type\":\"scattermapbox\",\"marker\":{\"colorbar\":{\"outlinewidth\":0,\"ticks\":\"\"}}}],\"scatterternary\":[{\"type\":\"scatterternary\",\"marker\":{\"colorbar\":{\"outlinewidth\":0,\"ticks\":\"\"}}}],\"scattercarpet\":[{\"type\":\"scattercarpet\",\"marker\":{\"colorbar\":{\"outlinewidth\":0,\"ticks\":\"\"}}}],\"carpet\":[{\"aaxis\":{\"endlinecolor\":\"#2a3f5f\",\"gridcolor\":\"white\",\"linecolor\":\"white\",\"minorgridcolor\":\"white\",\"startlinecolor\":\"#2a3f5f\"},\"baxis\":{\"endlinecolor\":\"#2a3f5f\",\"gridcolor\":\"white\",\"linecolor\":\"white\",\"minorgridcolor\":\"white\",\"startlinecolor\":\"#2a3f5f\"},\"type\":\"carpet\"}],\"table\":[{\"cells\":{\"fill\":{\"color\":\"#EBF0F8\"},\"line\":{\"color\":\"white\"}},\"header\":{\"fill\":{\"color\":\"#C8D4E3\"},\"line\":{\"color\":\"white\"}},\"type\":\"table\"}],\"barpolar\":[{\"marker\":{\"line\":{\"color\":\"#E5ECF6\",\"width\":0.5},\"pattern\":{\"fillmode\":\"overlay\",\"size\":10,\"solidity\":0.2}},\"type\":\"barpolar\"}],\"pie\":[{\"automargin\":true,\"type\":\"pie\"}]},\"layout\":{\"autotypenumbers\":\"strict\",\"colorway\":[\"#636efa\",\"#EF553B\",\"#00cc96\",\"#ab63fa\",\"#FFA15A\",\"#19d3f3\",\"#FF6692\",\"#B6E880\",\"#FF97FF\",\"#FECB52\"],\"font\":{\"color\":\"#2a3f5f\"},\"hovermode\":\"closest\",\"hoverlabel\":{\"align\":\"left\"},\"paper_bgcolor\":\"white\",\"plot_bgcolor\":\"#E5ECF6\",\"polar\":{\"bgcolor\":\"#E5ECF6\",\"angularaxis\":{\"gridcolor\":\"white\",\"linecolor\":\"white\",\"ticks\":\"\"},\"radialaxis\":{\"gridcolor\":\"white\",\"linecolor\":\"white\",\"ticks\":\"\"}},\"ternary\":{\"bgcolor\":\"#E5ECF6\",\"aaxis\":{\"gridcolor\":\"white\",\"linecolor\":\"white\",\"ticks\":\"\"},\"baxis\":{\"gridcolor\":\"white\",\"linecolor\":\"white\",\"ticks\":\"\"},\"caxis\":{\"gridcolor\":\"white\",\"linecolor\":\"white\",\"ticks\":\"\"}},\"coloraxis\":{\"colorbar\":{\"outlinewidth\":0,\"ticks\":\"\"}},\"colorscale\":{\"sequential\":[[0.0,\"#0d0887\"],[0.1111111111111111,\"#46039f\"],[0.2222222222222222,\"#7201a8\"],[0.3333333333333333,\"#9c179e\"],[0.4444444444444444,\"#bd3786\"],[0.5555555555555556,\"#d8576b\"],[0.6666666666666666,\"#ed7953\"],[0.7777777777777778,\"#fb9f3a\"],[0.8888888888888888,\"#fdca26\"],[1.0,\"#f0f921\"]],\"sequentialminus\":[[0.0,\"#0d0887\"],[0.1111111111111111,\"#46039f\"],[0.2222222222222222,\"#7201a8\"],[0.3333333333333333,\"#9c179e\"],[0.4444444444444444,\"#bd3786\"],[0.5555555555555556,\"#d8576b\"],[0.6666666666666666,\"#ed7953\"],[0.7777777777777778,\"#fb9f3a\"],[0.8888888888888888,\"#fdca26\"],[1.0,\"#f0f921\"]],\"diverging\":[[0,\"#8e0152\"],[0.1,\"#c51b7d\"],[0.2,\"#de77ae\"],[0.3,\"#f1b6da\"],[0.4,\"#fde0ef\"],[0.5,\"#f7f7f7\"],[0.6,\"#e6f5d0\"],[0.7,\"#b8e186\"],[0.8,\"#7fbc41\"],[0.9,\"#4d9221\"],[1,\"#276419\"]]},\"xaxis\":{\"gridcolor\":\"white\",\"linecolor\":\"white\",\"ticks\":\"\",\"title\":{\"standoff\":15},\"zerolinecolor\":\"white\",\"automargin\":true,\"zerolinewidth\":2},\"yaxis\":{\"gridcolor\":\"white\",\"linecolor\":\"white\",\"ticks\":\"\",\"title\":{\"standoff\":15},\"zerolinecolor\":\"white\",\"automargin\":true,\"zerolinewidth\":2},\"scene\":{\"xaxis\":{\"backgroundcolor\":\"#E5ECF6\",\"gridcolor\":\"white\",\"linecolor\":\"white\",\"showbackground\":true,\"ticks\":\"\",\"zerolinecolor\":\"white\",\"gridwidth\":2},\"yaxis\":{\"backgroundcolor\":\"#E5ECF6\",\"gridcolor\":\"white\",\"linecolor\":\"white\",\"showbackground\":true,\"ticks\":\"\",\"zerolinecolor\":\"white\",\"gridwidth\":2},\"zaxis\":{\"backgroundcolor\":\"#E5ECF6\",\"gridcolor\":\"white\",\"linecolor\":\"white\",\"showbackground\":true,\"ticks\":\"\",\"zerolinecolor\":\"white\",\"gridwidth\":2}},\"shapedefaults\":{\"line\":{\"color\":\"#2a3f5f\"}},\"annotationdefaults\":{\"arrowcolor\":\"#2a3f5f\",\"arrowhead\":0,\"arrowwidth\":1},\"geo\":{\"bgcolor\":\"white\",\"landcolor\":\"#E5ECF6\",\"subunitcolor\":\"white\",\"showland\":true,\"showlakes\":true,\"lakecolor\":\"white\"},\"title\":{\"x\":0.05},\"mapbox\":{\"style\":\"light\"}}},\"xaxis\":{\"anchor\":\"y\",\"domain\":[0.0,1.0],\"title\":{\"text\":\"AnnualIncomeClass\"}},\"yaxis\":{\"anchor\":\"x\",\"domain\":[0.0,1.0],\"title\":{\"text\":\"count\"}},\"legend\":{\"title\":{\"text\":\"BookedHotelOrNot\"},\"tracegroupgap\":0},\"margin\":{\"t\":60},\"barmode\":\"relative\"},                        {\"responsive\": true}                    ).then(function(){\n",
              "                            \n",
              "var gd = document.getElementById('1467426e-98e4-4450-aca5-f80d1569c65a');\n",
              "var x = new MutationObserver(function (mutations, observer) {{\n",
              "        var display = window.getComputedStyle(gd).display;\n",
              "        if (!display || display === 'none') {{\n",
              "            console.log([gd, 'removed!']);\n",
              "            Plotly.purge(gd);\n",
              "            observer.disconnect();\n",
              "        }}\n",
              "}});\n",
              "\n",
              "// Listen for the removal of the full notebook cells\n",
              "var notebookContainer = gd.closest('#notebook-container');\n",
              "if (notebookContainer) {{\n",
              "    x.observe(notebookContainer, {childList: true});\n",
              "}}\n",
              "\n",
              "// Listen for the clearing of the current output cell\n",
              "var outputEl = gd.closest('.output');\n",
              "if (outputEl) {{\n",
              "    x.observe(outputEl, {childList: true});\n",
              "}}\n",
              "\n",
              "                        })                };                            </script>        </div>\n",
              "</body>\n",
              "</html>"
            ]
          },
          "metadata": {}
        }
      ]
    },
    {
      "cell_type": "markdown",
      "source": [
        "Mainly Low Income Class people not booking hotel while travelling\n",
        "\n",
        "And very low amount of High Income Clss booked hotels"
      ],
      "metadata": {
        "id": "K_xLKmDl8c-4"
      }
    },
    {
      "cell_type": "markdown",
      "source": [
        "**PREPROCESSING**"
      ],
      "metadata": {
        "id": "SEGgXCr78h3L"
      }
    },
    {
      "cell_type": "markdown",
      "source": [
        "ENCODING CATEGORICAL COLUMN"
      ],
      "metadata": {
        "id": "FEfzr1jt8k89"
      }
    },
    {
      "cell_type": "code",
      "source": [
        "from sklearn.preprocessing import LabelEncoder"
      ],
      "metadata": {
        "id": "IuM5HK8s8aut"
      },
      "execution_count": 16,
      "outputs": []
    },
    {
      "cell_type": "code",
      "source": [
        "le = LabelEncoder()"
      ],
      "metadata": {
        "id": "7RPKVUh-8qnm"
      },
      "execution_count": 17,
      "outputs": []
    },
    {
      "cell_type": "code",
      "source": [
        "cat_col = data.select_dtypes(include=['object']).columns\n",
        "for i in cat_col:\n",
        "    data[i] = le.fit_transform(data[i])"
      ],
      "metadata": {
        "id": "hAQIerWQ8t2F"
      },
      "execution_count": 18,
      "outputs": []
    },
    {
      "cell_type": "code",
      "source": [
        "data.info()"
      ],
      "metadata": {
        "colab": {
          "base_uri": "https://localhost:8080/"
        },
        "id": "Ds5canmw8wgN",
        "outputId": "4e2d7fcf-c4cc-481c-d5a1-7714e6911a0f"
      },
      "execution_count": 19,
      "outputs": [
        {
          "output_type": "stream",
          "name": "stdout",
          "text": [
            "<class 'pandas.core.frame.DataFrame'>\n",
            "RangeIndex: 954 entries, 0 to 953\n",
            "Data columns (total 7 columns):\n",
            " #   Column                      Non-Null Count  Dtype\n",
            "---  ------                      --------------  -----\n",
            " 0   Age                         954 non-null    int64\n",
            " 1   FrequentFlyer               954 non-null    int64\n",
            " 2   AnnualIncomeClass           954 non-null    int64\n",
            " 3   ServicesOpted               954 non-null    int64\n",
            " 4   AccountSyncedToSocialMedia  954 non-null    int64\n",
            " 5   BookedHotelOrNot            954 non-null    int64\n",
            " 6   Target                      954 non-null    int64\n",
            "dtypes: int64(7)\n",
            "memory usage: 52.3 KB\n"
          ]
        }
      ]
    },
    {
      "cell_type": "markdown",
      "source": [
        "STANDARDISING THE VALUES"
      ],
      "metadata": {
        "id": "54TlNOjh83EU"
      }
    },
    {
      "cell_type": "code",
      "source": [
        "#Before standardizing first spilt the data"
      ],
      "metadata": {
        "id": "xvRhRQ2D8ziJ"
      },
      "execution_count": 20,
      "outputs": []
    },
    {
      "cell_type": "code",
      "source": [
        "from sklearn.model_selection import train_test_split"
      ],
      "metadata": {
        "id": "Xpi8AiwC898y"
      },
      "execution_count": 21,
      "outputs": []
    },
    {
      "cell_type": "code",
      "source": [
        "X = data.drop(columns=['Target'])\n",
        "y = data['Target']\n",
        "\n",
        "X_train,X_test,y_train,y_test = train_test_split(X,y,test_size=0.2,random_state=1)"
      ],
      "metadata": {
        "id": "Qt4THZgK9CXH"
      },
      "execution_count": 22,
      "outputs": []
    },
    {
      "cell_type": "code",
      "source": [
        "X_train"
      ],
      "metadata": {
        "colab": {
          "base_uri": "https://localhost:8080/",
          "height": 424
        },
        "id": "ORq0SUKX9Fc8",
        "outputId": "c7d087f6-69ab-4cfe-afae-9c327aef25b7"
      },
      "execution_count": 23,
      "outputs": [
        {
          "output_type": "execute_result",
          "data": {
            "text/plain": [
              "     Age  FrequentFlyer  AnnualIncomeClass  ServicesOpted  \\\n",
              "623   30              0                  2              2   \n",
              "874   30              0                  1              4   \n",
              "722   36              2                  1              3   \n",
              "223   33              0                  1              4   \n",
              "651   36              0                  2              5   \n",
              "..   ...            ...                ...            ...   \n",
              "767   30              0                  2              2   \n",
              "72    30              0                  2              1   \n",
              "908   37              0                  2              3   \n",
              "235   33              0                  1              5   \n",
              "37    37              2                  1              1   \n",
              "\n",
              "     AccountSyncedToSocialMedia  BookedHotelOrNot  \n",
              "623                           0                 0  \n",
              "874                           1                 0  \n",
              "722                           1                 0  \n",
              "223                           0                 0  \n",
              "651                           0                 0  \n",
              "..                          ...               ...  \n",
              "767                           1                 0  \n",
              "72                            1                 1  \n",
              "908                           0                 0  \n",
              "235                           1                 1  \n",
              "37                            1                 0  \n",
              "\n",
              "[763 rows x 6 columns]"
            ],
            "text/html": [
              "\n",
              "  <div id=\"df-10e60970-9af4-41cf-a9b3-4a70e7120544\" class=\"colab-df-container\">\n",
              "    <div>\n",
              "<style scoped>\n",
              "    .dataframe tbody tr th:only-of-type {\n",
              "        vertical-align: middle;\n",
              "    }\n",
              "\n",
              "    .dataframe tbody tr th {\n",
              "        vertical-align: top;\n",
              "    }\n",
              "\n",
              "    .dataframe thead th {\n",
              "        text-align: right;\n",
              "    }\n",
              "</style>\n",
              "<table border=\"1\" class=\"dataframe\">\n",
              "  <thead>\n",
              "    <tr style=\"text-align: right;\">\n",
              "      <th></th>\n",
              "      <th>Age</th>\n",
              "      <th>FrequentFlyer</th>\n",
              "      <th>AnnualIncomeClass</th>\n",
              "      <th>ServicesOpted</th>\n",
              "      <th>AccountSyncedToSocialMedia</th>\n",
              "      <th>BookedHotelOrNot</th>\n",
              "    </tr>\n",
              "  </thead>\n",
              "  <tbody>\n",
              "    <tr>\n",
              "      <th>623</th>\n",
              "      <td>30</td>\n",
              "      <td>0</td>\n",
              "      <td>2</td>\n",
              "      <td>2</td>\n",
              "      <td>0</td>\n",
              "      <td>0</td>\n",
              "    </tr>\n",
              "    <tr>\n",
              "      <th>874</th>\n",
              "      <td>30</td>\n",
              "      <td>0</td>\n",
              "      <td>1</td>\n",
              "      <td>4</td>\n",
              "      <td>1</td>\n",
              "      <td>0</td>\n",
              "    </tr>\n",
              "    <tr>\n",
              "      <th>722</th>\n",
              "      <td>36</td>\n",
              "      <td>2</td>\n",
              "      <td>1</td>\n",
              "      <td>3</td>\n",
              "      <td>1</td>\n",
              "      <td>0</td>\n",
              "    </tr>\n",
              "    <tr>\n",
              "      <th>223</th>\n",
              "      <td>33</td>\n",
              "      <td>0</td>\n",
              "      <td>1</td>\n",
              "      <td>4</td>\n",
              "      <td>0</td>\n",
              "      <td>0</td>\n",
              "    </tr>\n",
              "    <tr>\n",
              "      <th>651</th>\n",
              "      <td>36</td>\n",
              "      <td>0</td>\n",
              "      <td>2</td>\n",
              "      <td>5</td>\n",
              "      <td>0</td>\n",
              "      <td>0</td>\n",
              "    </tr>\n",
              "    <tr>\n",
              "      <th>...</th>\n",
              "      <td>...</td>\n",
              "      <td>...</td>\n",
              "      <td>...</td>\n",
              "      <td>...</td>\n",
              "      <td>...</td>\n",
              "      <td>...</td>\n",
              "    </tr>\n",
              "    <tr>\n",
              "      <th>767</th>\n",
              "      <td>30</td>\n",
              "      <td>0</td>\n",
              "      <td>2</td>\n",
              "      <td>2</td>\n",
              "      <td>1</td>\n",
              "      <td>0</td>\n",
              "    </tr>\n",
              "    <tr>\n",
              "      <th>72</th>\n",
              "      <td>30</td>\n",
              "      <td>0</td>\n",
              "      <td>2</td>\n",
              "      <td>1</td>\n",
              "      <td>1</td>\n",
              "      <td>1</td>\n",
              "    </tr>\n",
              "    <tr>\n",
              "      <th>908</th>\n",
              "      <td>37</td>\n",
              "      <td>0</td>\n",
              "      <td>2</td>\n",
              "      <td>3</td>\n",
              "      <td>0</td>\n",
              "      <td>0</td>\n",
              "    </tr>\n",
              "    <tr>\n",
              "      <th>235</th>\n",
              "      <td>33</td>\n",
              "      <td>0</td>\n",
              "      <td>1</td>\n",
              "      <td>5</td>\n",
              "      <td>1</td>\n",
              "      <td>1</td>\n",
              "    </tr>\n",
              "    <tr>\n",
              "      <th>37</th>\n",
              "      <td>37</td>\n",
              "      <td>2</td>\n",
              "      <td>1</td>\n",
              "      <td>1</td>\n",
              "      <td>1</td>\n",
              "      <td>0</td>\n",
              "    </tr>\n",
              "  </tbody>\n",
              "</table>\n",
              "<p>763 rows × 6 columns</p>\n",
              "</div>\n",
              "    <div class=\"colab-df-buttons\">\n",
              "\n",
              "  <div class=\"colab-df-container\">\n",
              "    <button class=\"colab-df-convert\" onclick=\"convertToInteractive('df-10e60970-9af4-41cf-a9b3-4a70e7120544')\"\n",
              "            title=\"Convert this dataframe to an interactive table.\"\n",
              "            style=\"display:none;\">\n",
              "\n",
              "  <svg xmlns=\"http://www.w3.org/2000/svg\" height=\"24px\" viewBox=\"0 -960 960 960\">\n",
              "    <path d=\"M120-120v-720h720v720H120Zm60-500h600v-160H180v160Zm220 220h160v-160H400v160Zm0 220h160v-160H400v160ZM180-400h160v-160H180v160Zm440 0h160v-160H620v160ZM180-180h160v-160H180v160Zm440 0h160v-160H620v160Z\"/>\n",
              "  </svg>\n",
              "    </button>\n",
              "\n",
              "  <style>\n",
              "    .colab-df-container {\n",
              "      display:flex;\n",
              "      gap: 12px;\n",
              "    }\n",
              "\n",
              "    .colab-df-convert {\n",
              "      background-color: #E8F0FE;\n",
              "      border: none;\n",
              "      border-radius: 50%;\n",
              "      cursor: pointer;\n",
              "      display: none;\n",
              "      fill: #1967D2;\n",
              "      height: 32px;\n",
              "      padding: 0 0 0 0;\n",
              "      width: 32px;\n",
              "    }\n",
              "\n",
              "    .colab-df-convert:hover {\n",
              "      background-color: #E2EBFA;\n",
              "      box-shadow: 0px 1px 2px rgba(60, 64, 67, 0.3), 0px 1px 3px 1px rgba(60, 64, 67, 0.15);\n",
              "      fill: #174EA6;\n",
              "    }\n",
              "\n",
              "    .colab-df-buttons div {\n",
              "      margin-bottom: 4px;\n",
              "    }\n",
              "\n",
              "    [theme=dark] .colab-df-convert {\n",
              "      background-color: #3B4455;\n",
              "      fill: #D2E3FC;\n",
              "    }\n",
              "\n",
              "    [theme=dark] .colab-df-convert:hover {\n",
              "      background-color: #434B5C;\n",
              "      box-shadow: 0px 1px 3px 1px rgba(0, 0, 0, 0.15);\n",
              "      filter: drop-shadow(0px 1px 2px rgba(0, 0, 0, 0.3));\n",
              "      fill: #FFFFFF;\n",
              "    }\n",
              "  </style>\n",
              "\n",
              "    <script>\n",
              "      const buttonEl =\n",
              "        document.querySelector('#df-10e60970-9af4-41cf-a9b3-4a70e7120544 button.colab-df-convert');\n",
              "      buttonEl.style.display =\n",
              "        google.colab.kernel.accessAllowed ? 'block' : 'none';\n",
              "\n",
              "      async function convertToInteractive(key) {\n",
              "        const element = document.querySelector('#df-10e60970-9af4-41cf-a9b3-4a70e7120544');\n",
              "        const dataTable =\n",
              "          await google.colab.kernel.invokeFunction('convertToInteractive',\n",
              "                                                    [key], {});\n",
              "        if (!dataTable) return;\n",
              "\n",
              "        const docLinkHtml = 'Like what you see? Visit the ' +\n",
              "          '<a target=\"_blank\" href=https://colab.research.google.com/notebooks/data_table.ipynb>data table notebook</a>'\n",
              "          + ' to learn more about interactive tables.';\n",
              "        element.innerHTML = '';\n",
              "        dataTable['output_type'] = 'display_data';\n",
              "        await google.colab.output.renderOutput(dataTable, element);\n",
              "        const docLink = document.createElement('div');\n",
              "        docLink.innerHTML = docLinkHtml;\n",
              "        element.appendChild(docLink);\n",
              "      }\n",
              "    </script>\n",
              "  </div>\n",
              "\n",
              "\n",
              "<div id=\"df-a05cf017-9441-4193-8403-290810ef2b07\">\n",
              "  <button class=\"colab-df-quickchart\" onclick=\"quickchart('df-a05cf017-9441-4193-8403-290810ef2b07')\"\n",
              "            title=\"Suggest charts\"\n",
              "            style=\"display:none;\">\n",
              "\n",
              "<svg xmlns=\"http://www.w3.org/2000/svg\" height=\"24px\"viewBox=\"0 0 24 24\"\n",
              "     width=\"24px\">\n",
              "    <g>\n",
              "        <path d=\"M19 3H5c-1.1 0-2 .9-2 2v14c0 1.1.9 2 2 2h14c1.1 0 2-.9 2-2V5c0-1.1-.9-2-2-2zM9 17H7v-7h2v7zm4 0h-2V7h2v10zm4 0h-2v-4h2v4z\"/>\n",
              "    </g>\n",
              "</svg>\n",
              "  </button>\n",
              "\n",
              "<style>\n",
              "  .colab-df-quickchart {\n",
              "      --bg-color: #E8F0FE;\n",
              "      --fill-color: #1967D2;\n",
              "      --hover-bg-color: #E2EBFA;\n",
              "      --hover-fill-color: #174EA6;\n",
              "      --disabled-fill-color: #AAA;\n",
              "      --disabled-bg-color: #DDD;\n",
              "  }\n",
              "\n",
              "  [theme=dark] .colab-df-quickchart {\n",
              "      --bg-color: #3B4455;\n",
              "      --fill-color: #D2E3FC;\n",
              "      --hover-bg-color: #434B5C;\n",
              "      --hover-fill-color: #FFFFFF;\n",
              "      --disabled-bg-color: #3B4455;\n",
              "      --disabled-fill-color: #666;\n",
              "  }\n",
              "\n",
              "  .colab-df-quickchart {\n",
              "    background-color: var(--bg-color);\n",
              "    border: none;\n",
              "    border-radius: 50%;\n",
              "    cursor: pointer;\n",
              "    display: none;\n",
              "    fill: var(--fill-color);\n",
              "    height: 32px;\n",
              "    padding: 0;\n",
              "    width: 32px;\n",
              "  }\n",
              "\n",
              "  .colab-df-quickchart:hover {\n",
              "    background-color: var(--hover-bg-color);\n",
              "    box-shadow: 0 1px 2px rgba(60, 64, 67, 0.3), 0 1px 3px 1px rgba(60, 64, 67, 0.15);\n",
              "    fill: var(--button-hover-fill-color);\n",
              "  }\n",
              "\n",
              "  .colab-df-quickchart-complete:disabled,\n",
              "  .colab-df-quickchart-complete:disabled:hover {\n",
              "    background-color: var(--disabled-bg-color);\n",
              "    fill: var(--disabled-fill-color);\n",
              "    box-shadow: none;\n",
              "  }\n",
              "\n",
              "  .colab-df-spinner {\n",
              "    border: 2px solid var(--fill-color);\n",
              "    border-color: transparent;\n",
              "    border-bottom-color: var(--fill-color);\n",
              "    animation:\n",
              "      spin 1s steps(1) infinite;\n",
              "  }\n",
              "\n",
              "  @keyframes spin {\n",
              "    0% {\n",
              "      border-color: transparent;\n",
              "      border-bottom-color: var(--fill-color);\n",
              "      border-left-color: var(--fill-color);\n",
              "    }\n",
              "    20% {\n",
              "      border-color: transparent;\n",
              "      border-left-color: var(--fill-color);\n",
              "      border-top-color: var(--fill-color);\n",
              "    }\n",
              "    30% {\n",
              "      border-color: transparent;\n",
              "      border-left-color: var(--fill-color);\n",
              "      border-top-color: var(--fill-color);\n",
              "      border-right-color: var(--fill-color);\n",
              "    }\n",
              "    40% {\n",
              "      border-color: transparent;\n",
              "      border-right-color: var(--fill-color);\n",
              "      border-top-color: var(--fill-color);\n",
              "    }\n",
              "    60% {\n",
              "      border-color: transparent;\n",
              "      border-right-color: var(--fill-color);\n",
              "    }\n",
              "    80% {\n",
              "      border-color: transparent;\n",
              "      border-right-color: var(--fill-color);\n",
              "      border-bottom-color: var(--fill-color);\n",
              "    }\n",
              "    90% {\n",
              "      border-color: transparent;\n",
              "      border-bottom-color: var(--fill-color);\n",
              "    }\n",
              "  }\n",
              "</style>\n",
              "\n",
              "  <script>\n",
              "    async function quickchart(key) {\n",
              "      const quickchartButtonEl =\n",
              "        document.querySelector('#' + key + ' button');\n",
              "      quickchartButtonEl.disabled = true;  // To prevent multiple clicks.\n",
              "      quickchartButtonEl.classList.add('colab-df-spinner');\n",
              "      try {\n",
              "        const charts = await google.colab.kernel.invokeFunction(\n",
              "            'suggestCharts', [key], {});\n",
              "      } catch (error) {\n",
              "        console.error('Error during call to suggestCharts:', error);\n",
              "      }\n",
              "      quickchartButtonEl.classList.remove('colab-df-spinner');\n",
              "      quickchartButtonEl.classList.add('colab-df-quickchart-complete');\n",
              "    }\n",
              "    (() => {\n",
              "      let quickchartButtonEl =\n",
              "        document.querySelector('#df-a05cf017-9441-4193-8403-290810ef2b07 button');\n",
              "      quickchartButtonEl.style.display =\n",
              "        google.colab.kernel.accessAllowed ? 'block' : 'none';\n",
              "    })();\n",
              "  </script>\n",
              "</div>\n",
              "\n",
              "  <div id=\"id_10304dcc-46ad-489a-bc91-00f90917dc1f\">\n",
              "    <style>\n",
              "      .colab-df-generate {\n",
              "        background-color: #E8F0FE;\n",
              "        border: none;\n",
              "        border-radius: 50%;\n",
              "        cursor: pointer;\n",
              "        display: none;\n",
              "        fill: #1967D2;\n",
              "        height: 32px;\n",
              "        padding: 0 0 0 0;\n",
              "        width: 32px;\n",
              "      }\n",
              "\n",
              "      .colab-df-generate:hover {\n",
              "        background-color: #E2EBFA;\n",
              "        box-shadow: 0px 1px 2px rgba(60, 64, 67, 0.3), 0px 1px 3px 1px rgba(60, 64, 67, 0.15);\n",
              "        fill: #174EA6;\n",
              "      }\n",
              "\n",
              "      [theme=dark] .colab-df-generate {\n",
              "        background-color: #3B4455;\n",
              "        fill: #D2E3FC;\n",
              "      }\n",
              "\n",
              "      [theme=dark] .colab-df-generate:hover {\n",
              "        background-color: #434B5C;\n",
              "        box-shadow: 0px 1px 3px 1px rgba(0, 0, 0, 0.15);\n",
              "        filter: drop-shadow(0px 1px 2px rgba(0, 0, 0, 0.3));\n",
              "        fill: #FFFFFF;\n",
              "      }\n",
              "    </style>\n",
              "    <button class=\"colab-df-generate\" onclick=\"generateWithVariable('X_train')\"\n",
              "            title=\"Generate code using this dataframe.\"\n",
              "            style=\"display:none;\">\n",
              "\n",
              "  <svg xmlns=\"http://www.w3.org/2000/svg\" height=\"24px\"viewBox=\"0 0 24 24\"\n",
              "       width=\"24px\">\n",
              "    <path d=\"M7,19H8.4L18.45,9,17,7.55,7,17.6ZM5,21V16.75L18.45,3.32a2,2,0,0,1,2.83,0l1.4,1.43a1.91,1.91,0,0,1,.58,1.4,1.91,1.91,0,0,1-.58,1.4L9.25,21ZM18.45,9,17,7.55Zm-12,3A5.31,5.31,0,0,0,4.9,8.1,5.31,5.31,0,0,0,1,6.5,5.31,5.31,0,0,0,4.9,4.9,5.31,5.31,0,0,0,6.5,1,5.31,5.31,0,0,0,8.1,4.9,5.31,5.31,0,0,0,12,6.5,5.46,5.46,0,0,0,6.5,12Z\"/>\n",
              "  </svg>\n",
              "    </button>\n",
              "    <script>\n",
              "      (() => {\n",
              "      const buttonEl =\n",
              "        document.querySelector('#id_10304dcc-46ad-489a-bc91-00f90917dc1f button.colab-df-generate');\n",
              "      buttonEl.style.display =\n",
              "        google.colab.kernel.accessAllowed ? 'block' : 'none';\n",
              "\n",
              "      buttonEl.onclick = () => {\n",
              "        google.colab.notebook.generateWithVariable('X_train');\n",
              "      }\n",
              "      })();\n",
              "    </script>\n",
              "  </div>\n",
              "\n",
              "    </div>\n",
              "  </div>\n"
            ],
            "application/vnd.google.colaboratory.intrinsic+json": {
              "type": "dataframe",
              "variable_name": "X_train",
              "summary": "{\n  \"name\": \"X_train\",\n  \"rows\": 763,\n  \"fields\": [\n    {\n      \"column\": \"Age\",\n      \"properties\": {\n        \"dtype\": \"number\",\n        \"std\": 3,\n        \"min\": 27,\n        \"max\": 38,\n        \"num_unique_values\": 11,\n        \"samples\": [\n          29,\n          30,\n          38\n        ],\n        \"semantic_type\": \"\",\n        \"description\": \"\"\n      }\n    },\n    {\n      \"column\": \"FrequentFlyer\",\n      \"properties\": {\n        \"dtype\": \"number\",\n        \"std\": 0,\n        \"min\": 0,\n        \"max\": 2,\n        \"num_unique_values\": 3,\n        \"samples\": [\n          0,\n          2,\n          1\n        ],\n        \"semantic_type\": \"\",\n        \"description\": \"\"\n      }\n    },\n    {\n      \"column\": \"AnnualIncomeClass\",\n      \"properties\": {\n        \"dtype\": \"number\",\n        \"std\": 0,\n        \"min\": 0,\n        \"max\": 2,\n        \"num_unique_values\": 3,\n        \"samples\": [\n          2,\n          1,\n          0\n        ],\n        \"semantic_type\": \"\",\n        \"description\": \"\"\n      }\n    },\n    {\n      \"column\": \"ServicesOpted\",\n      \"properties\": {\n        \"dtype\": \"number\",\n        \"std\": 1,\n        \"min\": 1,\n        \"max\": 6,\n        \"num_unique_values\": 6,\n        \"samples\": [\n          2,\n          4,\n          6\n        ],\n        \"semantic_type\": \"\",\n        \"description\": \"\"\n      }\n    },\n    {\n      \"column\": \"AccountSyncedToSocialMedia\",\n      \"properties\": {\n        \"dtype\": \"number\",\n        \"std\": 0,\n        \"min\": 0,\n        \"max\": 1,\n        \"num_unique_values\": 2,\n        \"samples\": [\n          1,\n          0\n        ],\n        \"semantic_type\": \"\",\n        \"description\": \"\"\n      }\n    },\n    {\n      \"column\": \"BookedHotelOrNot\",\n      \"properties\": {\n        \"dtype\": \"number\",\n        \"std\": 0,\n        \"min\": 0,\n        \"max\": 1,\n        \"num_unique_values\": 2,\n        \"samples\": [\n          1,\n          0\n        ],\n        \"semantic_type\": \"\",\n        \"description\": \"\"\n      }\n    }\n  ]\n}"
            }
          },
          "metadata": {},
          "execution_count": 23
        }
      ]
    },
    {
      "cell_type": "code",
      "source": [
        "from sklearn.preprocessing import StandardScaler"
      ],
      "metadata": {
        "id": "n33QQLTj9IfL"
      },
      "execution_count": 24,
      "outputs": []
    },
    {
      "cell_type": "code",
      "source": [
        "scaler = StandardScaler()"
      ],
      "metadata": {
        "id": "1_nPOsJO9PWL"
      },
      "execution_count": 25,
      "outputs": []
    },
    {
      "cell_type": "code",
      "source": [
        "X_train_scaled = scaler.fit_transform(X_train)\n",
        "X_test_scaled = scaler.fit_transform(X_test)"
      ],
      "metadata": {
        "id": "kSNgyAHv9R6E"
      },
      "execution_count": 26,
      "outputs": []
    },
    {
      "cell_type": "code",
      "source": [
        "X_train_scaled"
      ],
      "metadata": {
        "colab": {
          "base_uri": "https://localhost:8080/"
        },
        "id": "aZIaZ_sY9U9s",
        "outputId": "98da579b-9237-42ef-9357-90b5f342b591"
      },
      "execution_count": 27,
      "outputs": [
        {
          "output_type": "execute_result",
          "data": {
            "text/plain": [
              "array([[-0.58830739, -0.73331065,  1.03128874, -0.26303681, -0.78301202,\n",
              "        -0.79833518],\n",
              "       [-0.58830739, -0.73331065, -0.3443639 ,  0.99525213,  1.2771196 ,\n",
              "        -0.79833518],\n",
              "       [ 1.2036229 ,  1.4651806 , -0.3443639 ,  0.36610766,  1.2771196 ,\n",
              "        -0.79833518],\n",
              "       ...,\n",
              "       [ 1.50227795, -0.73331065,  1.03128874,  0.36610766, -0.78301202,\n",
              "        -0.79833518],\n",
              "       [ 0.30765776, -0.73331065, -0.3443639 ,  1.6243966 ,  1.2771196 ,\n",
              "         1.25260671],\n",
              "       [ 1.50227795,  1.4651806 , -0.3443639 , -0.89218128,  1.2771196 ,\n",
              "        -0.79833518]])"
            ]
          },
          "metadata": {},
          "execution_count": 27
        }
      ]
    },
    {
      "cell_type": "markdown",
      "source": [
        "Training the model"
      ],
      "metadata": {
        "id": "DAUzFklF9b-E"
      }
    },
    {
      "cell_type": "code",
      "source": [
        "from sklearn.linear_model import LogisticRegression"
      ],
      "metadata": {
        "id": "A7Wv_nFA9YdL"
      },
      "execution_count": 28,
      "outputs": []
    },
    {
      "cell_type": "code",
      "source": [
        "lr = LogisticRegression()"
      ],
      "metadata": {
        "id": "eVt8eohY9g1f"
      },
      "execution_count": 29,
      "outputs": []
    },
    {
      "cell_type": "code",
      "source": [
        "lr.fit(X_train_scaled,y_train)"
      ],
      "metadata": {
        "colab": {
          "base_uri": "https://localhost:8080/",
          "height": 75
        },
        "id": "i9umZVcG9kJn",
        "outputId": "d83525c0-9678-447f-854b-2fec75105310"
      },
      "execution_count": 30,
      "outputs": [
        {
          "output_type": "execute_result",
          "data": {
            "text/plain": [
              "LogisticRegression()"
            ],
            "text/html": [
              "<style>#sk-container-id-1 {color: black;background-color: white;}#sk-container-id-1 pre{padding: 0;}#sk-container-id-1 div.sk-toggleable {background-color: white;}#sk-container-id-1 label.sk-toggleable__label {cursor: pointer;display: block;width: 100%;margin-bottom: 0;padding: 0.3em;box-sizing: border-box;text-align: center;}#sk-container-id-1 label.sk-toggleable__label-arrow:before {content: \"▸\";float: left;margin-right: 0.25em;color: #696969;}#sk-container-id-1 label.sk-toggleable__label-arrow:hover:before {color: black;}#sk-container-id-1 div.sk-estimator:hover label.sk-toggleable__label-arrow:before {color: black;}#sk-container-id-1 div.sk-toggleable__content {max-height: 0;max-width: 0;overflow: hidden;text-align: left;background-color: #f0f8ff;}#sk-container-id-1 div.sk-toggleable__content pre {margin: 0.2em;color: black;border-radius: 0.25em;background-color: #f0f8ff;}#sk-container-id-1 input.sk-toggleable__control:checked~div.sk-toggleable__content {max-height: 200px;max-width: 100%;overflow: auto;}#sk-container-id-1 input.sk-toggleable__control:checked~label.sk-toggleable__label-arrow:before {content: \"▾\";}#sk-container-id-1 div.sk-estimator input.sk-toggleable__control:checked~label.sk-toggleable__label {background-color: #d4ebff;}#sk-container-id-1 div.sk-label input.sk-toggleable__control:checked~label.sk-toggleable__label {background-color: #d4ebff;}#sk-container-id-1 input.sk-hidden--visually {border: 0;clip: rect(1px 1px 1px 1px);clip: rect(1px, 1px, 1px, 1px);height: 1px;margin: -1px;overflow: hidden;padding: 0;position: absolute;width: 1px;}#sk-container-id-1 div.sk-estimator {font-family: monospace;background-color: #f0f8ff;border: 1px dotted black;border-radius: 0.25em;box-sizing: border-box;margin-bottom: 0.5em;}#sk-container-id-1 div.sk-estimator:hover {background-color: #d4ebff;}#sk-container-id-1 div.sk-parallel-item::after {content: \"\";width: 100%;border-bottom: 1px solid gray;flex-grow: 1;}#sk-container-id-1 div.sk-label:hover label.sk-toggleable__label {background-color: #d4ebff;}#sk-container-id-1 div.sk-serial::before {content: \"\";position: absolute;border-left: 1px solid gray;box-sizing: border-box;top: 0;bottom: 0;left: 50%;z-index: 0;}#sk-container-id-1 div.sk-serial {display: flex;flex-direction: column;align-items: center;background-color: white;padding-right: 0.2em;padding-left: 0.2em;position: relative;}#sk-container-id-1 div.sk-item {position: relative;z-index: 1;}#sk-container-id-1 div.sk-parallel {display: flex;align-items: stretch;justify-content: center;background-color: white;position: relative;}#sk-container-id-1 div.sk-item::before, #sk-container-id-1 div.sk-parallel-item::before {content: \"\";position: absolute;border-left: 1px solid gray;box-sizing: border-box;top: 0;bottom: 0;left: 50%;z-index: -1;}#sk-container-id-1 div.sk-parallel-item {display: flex;flex-direction: column;z-index: 1;position: relative;background-color: white;}#sk-container-id-1 div.sk-parallel-item:first-child::after {align-self: flex-end;width: 50%;}#sk-container-id-1 div.sk-parallel-item:last-child::after {align-self: flex-start;width: 50%;}#sk-container-id-1 div.sk-parallel-item:only-child::after {width: 0;}#sk-container-id-1 div.sk-dashed-wrapped {border: 1px dashed gray;margin: 0 0.4em 0.5em 0.4em;box-sizing: border-box;padding-bottom: 0.4em;background-color: white;}#sk-container-id-1 div.sk-label label {font-family: monospace;font-weight: bold;display: inline-block;line-height: 1.2em;}#sk-container-id-1 div.sk-label-container {text-align: center;}#sk-container-id-1 div.sk-container {/* jupyter's `normalize.less` sets `[hidden] { display: none; }` but bootstrap.min.css set `[hidden] { display: none !important; }` so we also need the `!important` here to be able to override the default hidden behavior on the sphinx rendered scikit-learn.org. See: https://github.com/scikit-learn/scikit-learn/issues/21755 */display: inline-block !important;position: relative;}#sk-container-id-1 div.sk-text-repr-fallback {display: none;}</style><div id=\"sk-container-id-1\" class=\"sk-top-container\"><div class=\"sk-text-repr-fallback\"><pre>LogisticRegression()</pre><b>In a Jupyter environment, please rerun this cell to show the HTML representation or trust the notebook. <br />On GitHub, the HTML representation is unable to render, please try loading this page with nbviewer.org.</b></div><div class=\"sk-container\" hidden><div class=\"sk-item\"><div class=\"sk-estimator sk-toggleable\"><input class=\"sk-toggleable__control sk-hidden--visually\" id=\"sk-estimator-id-1\" type=\"checkbox\" checked><label for=\"sk-estimator-id-1\" class=\"sk-toggleable__label sk-toggleable__label-arrow\">LogisticRegression</label><div class=\"sk-toggleable__content\"><pre>LogisticRegression()</pre></div></div></div></div></div>"
            ]
          },
          "metadata": {},
          "execution_count": 30
        }
      ]
    },
    {
      "cell_type": "code",
      "source": [
        "y_pred = lr.predict(X_test_scaled)"
      ],
      "metadata": {
        "id": "_3zczPHk9sA1"
      },
      "execution_count": 31,
      "outputs": []
    },
    {
      "cell_type": "code",
      "source": [
        "from sklearn.metrics import accuracy_score"
      ],
      "metadata": {
        "id": "U4YmoqhK9xPS"
      },
      "execution_count": 32,
      "outputs": []
    },
    {
      "cell_type": "code",
      "source": [
        "accuracy_score(y_test,y_pred)"
      ],
      "metadata": {
        "colab": {
          "base_uri": "https://localhost:8080/"
        },
        "id": "_YXrnuu692eS",
        "outputId": "571b425c-5f93-4418-ec10-4e689aacf846"
      },
      "execution_count": 33,
      "outputs": [
        {
          "output_type": "execute_result",
          "data": {
            "text/plain": [
              "0.8167539267015707"
            ]
          },
          "metadata": {},
          "execution_count": 33
        }
      ]
    },
    {
      "cell_type": "code",
      "source": [],
      "metadata": {
        "id": "fSVH3hl296II"
      },
      "execution_count": null,
      "outputs": []
    }
  ]
}